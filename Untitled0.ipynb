{
  "nbformat": 4,
  "nbformat_minor": 0,
  "metadata": {
    "colab": {
      "name": "Untitled0.ipynb",
      "provenance": [],
      "collapsed_sections": [],
      "authorship_tag": "ABX9TyNiHFekD5SlKgPTvCa8XPNq",
      "include_colab_link": true
    },
    "kernelspec": {
      "name": "python3",
      "display_name": "Python 3"
    },
    "widgets": {
      "application/vnd.jupyter.widget-state+json": {
        "153018e98e8b4385995cd3083512ba2c": {
          "model_module": "@jupyter-widgets/controls",
          "model_name": "HBoxModel",
          "state": {
            "_view_name": "HBoxView",
            "_dom_classes": [],
            "_model_name": "HBoxModel",
            "_view_module": "@jupyter-widgets/controls",
            "_model_module_version": "1.5.0",
            "_view_count": null,
            "_view_module_version": "1.5.0",
            "box_style": "",
            "layout": "IPY_MODEL_a37a749d4e464266ab9b335831958576",
            "_model_module": "@jupyter-widgets/controls",
            "children": [
              "IPY_MODEL_40430d27f66b436da679a13cf6796199",
              "IPY_MODEL_fab6a6b39bff47e1a8ae2da48dff9b1f"
            ]
          }
        },
        "a37a749d4e464266ab9b335831958576": {
          "model_module": "@jupyter-widgets/base",
          "model_name": "LayoutModel",
          "state": {
            "_view_name": "LayoutView",
            "grid_template_rows": null,
            "right": null,
            "justify_content": null,
            "_view_module": "@jupyter-widgets/base",
            "overflow": null,
            "_model_module_version": "1.2.0",
            "_view_count": null,
            "flex_flow": null,
            "width": null,
            "min_width": null,
            "border": null,
            "align_items": null,
            "bottom": null,
            "_model_module": "@jupyter-widgets/base",
            "top": null,
            "grid_column": null,
            "overflow_y": null,
            "overflow_x": null,
            "grid_auto_flow": null,
            "grid_area": null,
            "grid_template_columns": null,
            "flex": null,
            "_model_name": "LayoutModel",
            "justify_items": null,
            "grid_row": null,
            "max_height": null,
            "align_content": null,
            "visibility": null,
            "align_self": null,
            "height": null,
            "min_height": null,
            "padding": null,
            "grid_auto_rows": null,
            "grid_gap": null,
            "max_width": null,
            "order": null,
            "_view_module_version": "1.2.0",
            "grid_template_areas": null,
            "object_position": null,
            "object_fit": null,
            "grid_auto_columns": null,
            "margin": null,
            "display": null,
            "left": null
          }
        },
        "40430d27f66b436da679a13cf6796199": {
          "model_module": "@jupyter-widgets/controls",
          "model_name": "FloatProgressModel",
          "state": {
            "_view_name": "ProgressView",
            "style": "IPY_MODEL_7a58c2dc25554d56a00e222624ae02a9",
            "_dom_classes": [],
            "description": "Dl Completed...: 100%",
            "_model_name": "FloatProgressModel",
            "bar_style": "success",
            "max": 1,
            "_view_module": "@jupyter-widgets/controls",
            "_model_module_version": "1.5.0",
            "value": 1,
            "_view_count": null,
            "_view_module_version": "1.5.0",
            "orientation": "horizontal",
            "min": 0,
            "description_tooltip": null,
            "_model_module": "@jupyter-widgets/controls",
            "layout": "IPY_MODEL_627c8398772c4507bc852cbce68ee211"
          }
        },
        "fab6a6b39bff47e1a8ae2da48dff9b1f": {
          "model_module": "@jupyter-widgets/controls",
          "model_name": "HTMLModel",
          "state": {
            "_view_name": "HTMLView",
            "style": "IPY_MODEL_088dd4455938493abafbd912e7ac3d6a",
            "_dom_classes": [],
            "description": "",
            "_model_name": "HTMLModel",
            "placeholder": "​",
            "_view_module": "@jupyter-widgets/controls",
            "_model_module_version": "1.5.0",
            "value": " 1/1 [00:11&lt;00:00, 11.09s/ url]",
            "_view_count": null,
            "_view_module_version": "1.5.0",
            "description_tooltip": null,
            "_model_module": "@jupyter-widgets/controls",
            "layout": "IPY_MODEL_c6891c69ed0642349af28af7a8ab26a0"
          }
        },
        "7a58c2dc25554d56a00e222624ae02a9": {
          "model_module": "@jupyter-widgets/controls",
          "model_name": "ProgressStyleModel",
          "state": {
            "_view_name": "StyleView",
            "_model_name": "ProgressStyleModel",
            "description_width": "initial",
            "_view_module": "@jupyter-widgets/base",
            "_model_module_version": "1.5.0",
            "_view_count": null,
            "_view_module_version": "1.2.0",
            "bar_color": null,
            "_model_module": "@jupyter-widgets/controls"
          }
        },
        "627c8398772c4507bc852cbce68ee211": {
          "model_module": "@jupyter-widgets/base",
          "model_name": "LayoutModel",
          "state": {
            "_view_name": "LayoutView",
            "grid_template_rows": null,
            "right": null,
            "justify_content": null,
            "_view_module": "@jupyter-widgets/base",
            "overflow": null,
            "_model_module_version": "1.2.0",
            "_view_count": null,
            "flex_flow": null,
            "width": null,
            "min_width": null,
            "border": null,
            "align_items": null,
            "bottom": null,
            "_model_module": "@jupyter-widgets/base",
            "top": null,
            "grid_column": null,
            "overflow_y": null,
            "overflow_x": null,
            "grid_auto_flow": null,
            "grid_area": null,
            "grid_template_columns": null,
            "flex": null,
            "_model_name": "LayoutModel",
            "justify_items": null,
            "grid_row": null,
            "max_height": null,
            "align_content": null,
            "visibility": null,
            "align_self": null,
            "height": null,
            "min_height": null,
            "padding": null,
            "grid_auto_rows": null,
            "grid_gap": null,
            "max_width": null,
            "order": null,
            "_view_module_version": "1.2.0",
            "grid_template_areas": null,
            "object_position": null,
            "object_fit": null,
            "grid_auto_columns": null,
            "margin": null,
            "display": null,
            "left": null
          }
        },
        "088dd4455938493abafbd912e7ac3d6a": {
          "model_module": "@jupyter-widgets/controls",
          "model_name": "DescriptionStyleModel",
          "state": {
            "_view_name": "StyleView",
            "_model_name": "DescriptionStyleModel",
            "description_width": "",
            "_view_module": "@jupyter-widgets/base",
            "_model_module_version": "1.5.0",
            "_view_count": null,
            "_view_module_version": "1.2.0",
            "_model_module": "@jupyter-widgets/controls"
          }
        },
        "c6891c69ed0642349af28af7a8ab26a0": {
          "model_module": "@jupyter-widgets/base",
          "model_name": "LayoutModel",
          "state": {
            "_view_name": "LayoutView",
            "grid_template_rows": null,
            "right": null,
            "justify_content": null,
            "_view_module": "@jupyter-widgets/base",
            "overflow": null,
            "_model_module_version": "1.2.0",
            "_view_count": null,
            "flex_flow": null,
            "width": null,
            "min_width": null,
            "border": null,
            "align_items": null,
            "bottom": null,
            "_model_module": "@jupyter-widgets/base",
            "top": null,
            "grid_column": null,
            "overflow_y": null,
            "overflow_x": null,
            "grid_auto_flow": null,
            "grid_area": null,
            "grid_template_columns": null,
            "flex": null,
            "_model_name": "LayoutModel",
            "justify_items": null,
            "grid_row": null,
            "max_height": null,
            "align_content": null,
            "visibility": null,
            "align_self": null,
            "height": null,
            "min_height": null,
            "padding": null,
            "grid_auto_rows": null,
            "grid_gap": null,
            "max_width": null,
            "order": null,
            "_view_module_version": "1.2.0",
            "grid_template_areas": null,
            "object_position": null,
            "object_fit": null,
            "grid_auto_columns": null,
            "margin": null,
            "display": null,
            "left": null
          }
        },
        "90f3701279474a71a02bd32323d2ef25": {
          "model_module": "@jupyter-widgets/controls",
          "model_name": "HBoxModel",
          "state": {
            "_view_name": "HBoxView",
            "_dom_classes": [],
            "_model_name": "HBoxModel",
            "_view_module": "@jupyter-widgets/controls",
            "_model_module_version": "1.5.0",
            "_view_count": null,
            "_view_module_version": "1.5.0",
            "box_style": "",
            "layout": "IPY_MODEL_db196067a620441195f3e2150df40d47",
            "_model_module": "@jupyter-widgets/controls",
            "children": [
              "IPY_MODEL_502f20b5b7f647b29c82324e2fea6ee4",
              "IPY_MODEL_479f650e46f3461299e97324416a6e43"
            ]
          }
        },
        "db196067a620441195f3e2150df40d47": {
          "model_module": "@jupyter-widgets/base",
          "model_name": "LayoutModel",
          "state": {
            "_view_name": "LayoutView",
            "grid_template_rows": null,
            "right": null,
            "justify_content": null,
            "_view_module": "@jupyter-widgets/base",
            "overflow": null,
            "_model_module_version": "1.2.0",
            "_view_count": null,
            "flex_flow": null,
            "width": null,
            "min_width": null,
            "border": null,
            "align_items": null,
            "bottom": null,
            "_model_module": "@jupyter-widgets/base",
            "top": null,
            "grid_column": null,
            "overflow_y": null,
            "overflow_x": null,
            "grid_auto_flow": null,
            "grid_area": null,
            "grid_template_columns": null,
            "flex": null,
            "_model_name": "LayoutModel",
            "justify_items": null,
            "grid_row": null,
            "max_height": null,
            "align_content": null,
            "visibility": null,
            "align_self": null,
            "height": null,
            "min_height": null,
            "padding": null,
            "grid_auto_rows": null,
            "grid_gap": null,
            "max_width": null,
            "order": null,
            "_view_module_version": "1.2.0",
            "grid_template_areas": null,
            "object_position": null,
            "object_fit": null,
            "grid_auto_columns": null,
            "margin": null,
            "display": null,
            "left": null
          }
        },
        "502f20b5b7f647b29c82324e2fea6ee4": {
          "model_module": "@jupyter-widgets/controls",
          "model_name": "FloatProgressModel",
          "state": {
            "_view_name": "ProgressView",
            "style": "IPY_MODEL_b0511c03f82848a6b2eb998195dfd75e",
            "_dom_classes": [],
            "description": "Dl Size...: 100%",
            "_model_name": "FloatProgressModel",
            "bar_style": "success",
            "max": 1,
            "_view_module": "@jupyter-widgets/controls",
            "_model_module_version": "1.5.0",
            "value": 1,
            "_view_count": null,
            "_view_module_version": "1.5.0",
            "orientation": "horizontal",
            "min": 0,
            "description_tooltip": null,
            "_model_module": "@jupyter-widgets/controls",
            "layout": "IPY_MODEL_0c74d5092e844bf6a66b1e98a3b44487"
          }
        },
        "479f650e46f3461299e97324416a6e43": {
          "model_module": "@jupyter-widgets/controls",
          "model_name": "HTMLModel",
          "state": {
            "_view_name": "HTMLView",
            "style": "IPY_MODEL_9c66fd51869d495fb58206103cf889d9",
            "_dom_classes": [],
            "description": "",
            "_model_name": "HTMLModel",
            "placeholder": "​",
            "_view_module": "@jupyter-widgets/controls",
            "_model_module_version": "1.5.0",
            "value": " 786/786 [00:11&lt;00:00, 71.08 MiB/s]",
            "_view_count": null,
            "_view_module_version": "1.5.0",
            "description_tooltip": null,
            "_model_module": "@jupyter-widgets/controls",
            "layout": "IPY_MODEL_1cc31b2ced4144e996eace376622b70e"
          }
        },
        "b0511c03f82848a6b2eb998195dfd75e": {
          "model_module": "@jupyter-widgets/controls",
          "model_name": "ProgressStyleModel",
          "state": {
            "_view_name": "StyleView",
            "_model_name": "ProgressStyleModel",
            "description_width": "initial",
            "_view_module": "@jupyter-widgets/base",
            "_model_module_version": "1.5.0",
            "_view_count": null,
            "_view_module_version": "1.2.0",
            "bar_color": null,
            "_model_module": "@jupyter-widgets/controls"
          }
        },
        "0c74d5092e844bf6a66b1e98a3b44487": {
          "model_module": "@jupyter-widgets/base",
          "model_name": "LayoutModel",
          "state": {
            "_view_name": "LayoutView",
            "grid_template_rows": null,
            "right": null,
            "justify_content": null,
            "_view_module": "@jupyter-widgets/base",
            "overflow": null,
            "_model_module_version": "1.2.0",
            "_view_count": null,
            "flex_flow": null,
            "width": null,
            "min_width": null,
            "border": null,
            "align_items": null,
            "bottom": null,
            "_model_module": "@jupyter-widgets/base",
            "top": null,
            "grid_column": null,
            "overflow_y": null,
            "overflow_x": null,
            "grid_auto_flow": null,
            "grid_area": null,
            "grid_template_columns": null,
            "flex": null,
            "_model_name": "LayoutModel",
            "justify_items": null,
            "grid_row": null,
            "max_height": null,
            "align_content": null,
            "visibility": null,
            "align_self": null,
            "height": null,
            "min_height": null,
            "padding": null,
            "grid_auto_rows": null,
            "grid_gap": null,
            "max_width": null,
            "order": null,
            "_view_module_version": "1.2.0",
            "grid_template_areas": null,
            "object_position": null,
            "object_fit": null,
            "grid_auto_columns": null,
            "margin": null,
            "display": null,
            "left": null
          }
        },
        "9c66fd51869d495fb58206103cf889d9": {
          "model_module": "@jupyter-widgets/controls",
          "model_name": "DescriptionStyleModel",
          "state": {
            "_view_name": "StyleView",
            "_model_name": "DescriptionStyleModel",
            "description_width": "",
            "_view_module": "@jupyter-widgets/base",
            "_model_module_version": "1.5.0",
            "_view_count": null,
            "_view_module_version": "1.2.0",
            "_model_module": "@jupyter-widgets/controls"
          }
        },
        "1cc31b2ced4144e996eace376622b70e": {
          "model_module": "@jupyter-widgets/base",
          "model_name": "LayoutModel",
          "state": {
            "_view_name": "LayoutView",
            "grid_template_rows": null,
            "right": null,
            "justify_content": null,
            "_view_module": "@jupyter-widgets/base",
            "overflow": null,
            "_model_module_version": "1.2.0",
            "_view_count": null,
            "flex_flow": null,
            "width": null,
            "min_width": null,
            "border": null,
            "align_items": null,
            "bottom": null,
            "_model_module": "@jupyter-widgets/base",
            "top": null,
            "grid_column": null,
            "overflow_y": null,
            "overflow_x": null,
            "grid_auto_flow": null,
            "grid_area": null,
            "grid_template_columns": null,
            "flex": null,
            "_model_name": "LayoutModel",
            "justify_items": null,
            "grid_row": null,
            "max_height": null,
            "align_content": null,
            "visibility": null,
            "align_self": null,
            "height": null,
            "min_height": null,
            "padding": null,
            "grid_auto_rows": null,
            "grid_gap": null,
            "max_width": null,
            "order": null,
            "_view_module_version": "1.2.0",
            "grid_template_areas": null,
            "object_position": null,
            "object_fit": null,
            "grid_auto_columns": null,
            "margin": null,
            "display": null,
            "left": null
          }
        },
        "38e3c5d307a747cbb22c692dce3f6774": {
          "model_module": "@jupyter-widgets/controls",
          "model_name": "HBoxModel",
          "state": {
            "_view_name": "HBoxView",
            "_dom_classes": [],
            "_model_name": "HBoxModel",
            "_view_module": "@jupyter-widgets/controls",
            "_model_module_version": "1.5.0",
            "_view_count": null,
            "_view_module_version": "1.5.0",
            "box_style": "",
            "layout": "IPY_MODEL_0dfe8d20d32041f8885e5a05ffc7f59b",
            "_model_module": "@jupyter-widgets/controls",
            "children": [
              "IPY_MODEL_4a5d4bf83af245dea98226eaa4cc654b",
              "IPY_MODEL_f59545e2c3b1478daf6e9000094302e1"
            ]
          }
        },
        "0dfe8d20d32041f8885e5a05ffc7f59b": {
          "model_module": "@jupyter-widgets/base",
          "model_name": "LayoutModel",
          "state": {
            "_view_name": "LayoutView",
            "grid_template_rows": null,
            "right": null,
            "justify_content": null,
            "_view_module": "@jupyter-widgets/base",
            "overflow": null,
            "_model_module_version": "1.2.0",
            "_view_count": null,
            "flex_flow": null,
            "width": null,
            "min_width": null,
            "border": null,
            "align_items": null,
            "bottom": null,
            "_model_module": "@jupyter-widgets/base",
            "top": null,
            "grid_column": null,
            "overflow_y": null,
            "overflow_x": null,
            "grid_auto_flow": null,
            "grid_area": null,
            "grid_template_columns": null,
            "flex": null,
            "_model_name": "LayoutModel",
            "justify_items": null,
            "grid_row": null,
            "max_height": null,
            "align_content": null,
            "visibility": null,
            "align_self": null,
            "height": null,
            "min_height": null,
            "padding": null,
            "grid_auto_rows": null,
            "grid_gap": null,
            "max_width": null,
            "order": null,
            "_view_module_version": "1.2.0",
            "grid_template_areas": null,
            "object_position": null,
            "object_fit": null,
            "grid_auto_columns": null,
            "margin": null,
            "display": null,
            "left": null
          }
        },
        "4a5d4bf83af245dea98226eaa4cc654b": {
          "model_module": "@jupyter-widgets/controls",
          "model_name": "FloatProgressModel",
          "state": {
            "_view_name": "ProgressView",
            "style": "IPY_MODEL_034adcfb5a6244569b1be0ff6a7227d4",
            "_dom_classes": [],
            "description": "",
            "_model_name": "FloatProgressModel",
            "bar_style": "info",
            "max": 1,
            "_view_module": "@jupyter-widgets/controls",
            "_model_module_version": "1.5.0",
            "value": 1,
            "_view_count": null,
            "_view_module_version": "1.5.0",
            "orientation": "horizontal",
            "min": 0,
            "description_tooltip": null,
            "_model_module": "@jupyter-widgets/controls",
            "layout": "IPY_MODEL_1d971429ab1546ab8c9a079f0d980834"
          }
        },
        "f59545e2c3b1478daf6e9000094302e1": {
          "model_module": "@jupyter-widgets/controls",
          "model_name": "HTMLModel",
          "state": {
            "_view_name": "HTMLView",
            "style": "IPY_MODEL_461a4076b086428f83e9bd4c86f56538",
            "_dom_classes": [],
            "description": "",
            "_model_name": "HTMLModel",
            "placeholder": "​",
            "_view_module": "@jupyter-widgets/controls",
            "_model_module_version": "1.5.0",
            "value": " 23262/0 [00:14&lt;00:00, 1521.46 examples/s]",
            "_view_count": null,
            "_view_module_version": "1.5.0",
            "description_tooltip": null,
            "_model_module": "@jupyter-widgets/controls",
            "layout": "IPY_MODEL_03e2e679870a4177a9581018088e7a3d"
          }
        },
        "034adcfb5a6244569b1be0ff6a7227d4": {
          "model_module": "@jupyter-widgets/controls",
          "model_name": "ProgressStyleModel",
          "state": {
            "_view_name": "StyleView",
            "_model_name": "ProgressStyleModel",
            "description_width": "initial",
            "_view_module": "@jupyter-widgets/base",
            "_model_module_version": "1.5.0",
            "_view_count": null,
            "_view_module_version": "1.2.0",
            "bar_color": null,
            "_model_module": "@jupyter-widgets/controls"
          }
        },
        "1d971429ab1546ab8c9a079f0d980834": {
          "model_module": "@jupyter-widgets/base",
          "model_name": "LayoutModel",
          "state": {
            "_view_name": "LayoutView",
            "grid_template_rows": null,
            "right": null,
            "justify_content": null,
            "_view_module": "@jupyter-widgets/base",
            "overflow": null,
            "_model_module_version": "1.2.0",
            "_view_count": null,
            "flex_flow": null,
            "width": null,
            "min_width": null,
            "border": null,
            "align_items": null,
            "bottom": null,
            "_model_module": "@jupyter-widgets/base",
            "top": null,
            "grid_column": null,
            "overflow_y": null,
            "overflow_x": null,
            "grid_auto_flow": null,
            "grid_area": null,
            "grid_template_columns": null,
            "flex": null,
            "_model_name": "LayoutModel",
            "justify_items": null,
            "grid_row": null,
            "max_height": null,
            "align_content": null,
            "visibility": null,
            "align_self": null,
            "height": null,
            "min_height": null,
            "padding": null,
            "grid_auto_rows": null,
            "grid_gap": null,
            "max_width": null,
            "order": null,
            "_view_module_version": "1.2.0",
            "grid_template_areas": null,
            "object_position": null,
            "object_fit": null,
            "grid_auto_columns": null,
            "margin": null,
            "display": null,
            "left": null
          }
        },
        "461a4076b086428f83e9bd4c86f56538": {
          "model_module": "@jupyter-widgets/controls",
          "model_name": "DescriptionStyleModel",
          "state": {
            "_view_name": "StyleView",
            "_model_name": "DescriptionStyleModel",
            "description_width": "",
            "_view_module": "@jupyter-widgets/base",
            "_model_module_version": "1.5.0",
            "_view_count": null,
            "_view_module_version": "1.2.0",
            "_model_module": "@jupyter-widgets/controls"
          }
        },
        "03e2e679870a4177a9581018088e7a3d": {
          "model_module": "@jupyter-widgets/base",
          "model_name": "LayoutModel",
          "state": {
            "_view_name": "LayoutView",
            "grid_template_rows": null,
            "right": null,
            "justify_content": null,
            "_view_module": "@jupyter-widgets/base",
            "overflow": null,
            "_model_module_version": "1.2.0",
            "_view_count": null,
            "flex_flow": null,
            "width": null,
            "min_width": null,
            "border": null,
            "align_items": null,
            "bottom": null,
            "_model_module": "@jupyter-widgets/base",
            "top": null,
            "grid_column": null,
            "overflow_y": null,
            "overflow_x": null,
            "grid_auto_flow": null,
            "grid_area": null,
            "grid_template_columns": null,
            "flex": null,
            "_model_name": "LayoutModel",
            "justify_items": null,
            "grid_row": null,
            "max_height": null,
            "align_content": null,
            "visibility": null,
            "align_self": null,
            "height": null,
            "min_height": null,
            "padding": null,
            "grid_auto_rows": null,
            "grid_gap": null,
            "max_width": null,
            "order": null,
            "_view_module_version": "1.2.0",
            "grid_template_areas": null,
            "object_position": null,
            "object_fit": null,
            "grid_auto_columns": null,
            "margin": null,
            "display": null,
            "left": null
          }
        },
        "02395d1738a84e708b5cccdb91dc4d2f": {
          "model_module": "@jupyter-widgets/controls",
          "model_name": "HBoxModel",
          "state": {
            "_view_name": "HBoxView",
            "_dom_classes": [],
            "_model_name": "HBoxModel",
            "_view_module": "@jupyter-widgets/controls",
            "_model_module_version": "1.5.0",
            "_view_count": null,
            "_view_module_version": "1.5.0",
            "box_style": "",
            "layout": "IPY_MODEL_17056b572f6042d09d7a9ae50a061d12",
            "_model_module": "@jupyter-widgets/controls",
            "children": [
              "IPY_MODEL_812662a02f5e4101bbaaeef687e15bcb",
              "IPY_MODEL_014a7056a4f944dd8f32bbe59c3a6d1d"
            ]
          }
        },
        "17056b572f6042d09d7a9ae50a061d12": {
          "model_module": "@jupyter-widgets/base",
          "model_name": "LayoutModel",
          "state": {
            "_view_name": "LayoutView",
            "grid_template_rows": null,
            "right": null,
            "justify_content": null,
            "_view_module": "@jupyter-widgets/base",
            "overflow": null,
            "_model_module_version": "1.2.0",
            "_view_count": null,
            "flex_flow": null,
            "width": null,
            "min_width": null,
            "border": null,
            "align_items": null,
            "bottom": null,
            "_model_module": "@jupyter-widgets/base",
            "top": null,
            "grid_column": null,
            "overflow_y": null,
            "overflow_x": null,
            "grid_auto_flow": null,
            "grid_area": null,
            "grid_template_columns": null,
            "flex": null,
            "_model_name": "LayoutModel",
            "justify_items": null,
            "grid_row": null,
            "max_height": null,
            "align_content": null,
            "visibility": null,
            "align_self": null,
            "height": null,
            "min_height": null,
            "padding": null,
            "grid_auto_rows": null,
            "grid_gap": null,
            "max_width": null,
            "order": null,
            "_view_module_version": "1.2.0",
            "grid_template_areas": null,
            "object_position": null,
            "object_fit": null,
            "grid_auto_columns": null,
            "margin": null,
            "display": null,
            "left": null
          }
        },
        "812662a02f5e4101bbaaeef687e15bcb": {
          "model_module": "@jupyter-widgets/controls",
          "model_name": "FloatProgressModel",
          "state": {
            "_view_name": "ProgressView",
            "style": "IPY_MODEL_dce6a4a0a522421ea28a630201336fa1",
            "_dom_classes": [],
            "description": " 97%",
            "_model_name": "FloatProgressModel",
            "bar_style": "danger",
            "max": 23262,
            "_view_module": "@jupyter-widgets/controls",
            "_model_module_version": "1.5.0",
            "value": 22657,
            "_view_count": null,
            "_view_module_version": "1.5.0",
            "orientation": "horizontal",
            "min": 0,
            "description_tooltip": null,
            "_model_module": "@jupyter-widgets/controls",
            "layout": "IPY_MODEL_1bbe0854f44a4a4389215cba1539d9e9"
          }
        },
        "014a7056a4f944dd8f32bbe59c3a6d1d": {
          "model_module": "@jupyter-widgets/controls",
          "model_name": "HTMLModel",
          "state": {
            "_view_name": "HTMLView",
            "style": "IPY_MODEL_404ca23a2c004c6cbe63961d22d44bf1",
            "_dom_classes": [],
            "description": "",
            "_model_name": "HTMLModel",
            "placeholder": "​",
            "_view_module": "@jupyter-widgets/controls",
            "_model_module_version": "1.5.0",
            "value": " 22657/23262 [00:02&lt;00:00, 7222.85 examples/s]",
            "_view_count": null,
            "_view_module_version": "1.5.0",
            "description_tooltip": null,
            "_model_module": "@jupyter-widgets/controls",
            "layout": "IPY_MODEL_f0b3e60faf894a74b00cf508e9864c68"
          }
        },
        "dce6a4a0a522421ea28a630201336fa1": {
          "model_module": "@jupyter-widgets/controls",
          "model_name": "ProgressStyleModel",
          "state": {
            "_view_name": "StyleView",
            "_model_name": "ProgressStyleModel",
            "description_width": "initial",
            "_view_module": "@jupyter-widgets/base",
            "_model_module_version": "1.5.0",
            "_view_count": null,
            "_view_module_version": "1.2.0",
            "bar_color": null,
            "_model_module": "@jupyter-widgets/controls"
          }
        },
        "1bbe0854f44a4a4389215cba1539d9e9": {
          "model_module": "@jupyter-widgets/base",
          "model_name": "LayoutModel",
          "state": {
            "_view_name": "LayoutView",
            "grid_template_rows": null,
            "right": null,
            "justify_content": null,
            "_view_module": "@jupyter-widgets/base",
            "overflow": null,
            "_model_module_version": "1.2.0",
            "_view_count": null,
            "flex_flow": null,
            "width": null,
            "min_width": null,
            "border": null,
            "align_items": null,
            "bottom": null,
            "_model_module": "@jupyter-widgets/base",
            "top": null,
            "grid_column": null,
            "overflow_y": null,
            "overflow_x": null,
            "grid_auto_flow": null,
            "grid_area": null,
            "grid_template_columns": null,
            "flex": null,
            "_model_name": "LayoutModel",
            "justify_items": null,
            "grid_row": null,
            "max_height": null,
            "align_content": null,
            "visibility": null,
            "align_self": null,
            "height": null,
            "min_height": null,
            "padding": null,
            "grid_auto_rows": null,
            "grid_gap": null,
            "max_width": null,
            "order": null,
            "_view_module_version": "1.2.0",
            "grid_template_areas": null,
            "object_position": null,
            "object_fit": null,
            "grid_auto_columns": null,
            "margin": null,
            "display": null,
            "left": null
          }
        },
        "404ca23a2c004c6cbe63961d22d44bf1": {
          "model_module": "@jupyter-widgets/controls",
          "model_name": "DescriptionStyleModel",
          "state": {
            "_view_name": "StyleView",
            "_model_name": "DescriptionStyleModel",
            "description_width": "",
            "_view_module": "@jupyter-widgets/base",
            "_model_module_version": "1.5.0",
            "_view_count": null,
            "_view_module_version": "1.2.0",
            "_model_module": "@jupyter-widgets/controls"
          }
        },
        "f0b3e60faf894a74b00cf508e9864c68": {
          "model_module": "@jupyter-widgets/base",
          "model_name": "LayoutModel",
          "state": {
            "_view_name": "LayoutView",
            "grid_template_rows": null,
            "right": null,
            "justify_content": null,
            "_view_module": "@jupyter-widgets/base",
            "overflow": null,
            "_model_module_version": "1.2.0",
            "_view_count": null,
            "flex_flow": null,
            "width": null,
            "min_width": null,
            "border": null,
            "align_items": null,
            "bottom": null,
            "_model_module": "@jupyter-widgets/base",
            "top": null,
            "grid_column": null,
            "overflow_y": null,
            "overflow_x": null,
            "grid_auto_flow": null,
            "grid_area": null,
            "grid_template_columns": null,
            "flex": null,
            "_model_name": "LayoutModel",
            "justify_items": null,
            "grid_row": null,
            "max_height": null,
            "align_content": null,
            "visibility": null,
            "align_self": null,
            "height": null,
            "min_height": null,
            "padding": null,
            "grid_auto_rows": null,
            "grid_gap": null,
            "max_width": null,
            "order": null,
            "_view_module_version": "1.2.0",
            "grid_template_areas": null,
            "object_position": null,
            "object_fit": null,
            "grid_auto_columns": null,
            "margin": null,
            "display": null,
            "left": null
          }
        },
        "a83ff038df014794a6e42a1a7c55aced": {
          "model_module": "@jupyter-widgets/controls",
          "model_name": "HBoxModel",
          "state": {
            "_view_name": "HBoxView",
            "_dom_classes": [],
            "_model_name": "HBoxModel",
            "_view_module": "@jupyter-widgets/controls",
            "_model_module_version": "1.5.0",
            "_view_count": null,
            "_view_module_version": "1.5.0",
            "box_style": "",
            "layout": "IPY_MODEL_f0c3e7c742314206b5ee8795aabec551",
            "_model_module": "@jupyter-widgets/controls",
            "children": [
              "IPY_MODEL_dd6980dbc7014fd48ae1a78b94378eb1",
              "IPY_MODEL_46700ba3ecfe475fb6ff5ef7d3d567e9"
            ]
          }
        },
        "f0c3e7c742314206b5ee8795aabec551": {
          "model_module": "@jupyter-widgets/base",
          "model_name": "LayoutModel",
          "state": {
            "_view_name": "LayoutView",
            "grid_template_rows": null,
            "right": null,
            "justify_content": null,
            "_view_module": "@jupyter-widgets/base",
            "overflow": null,
            "_model_module_version": "1.2.0",
            "_view_count": null,
            "flex_flow": null,
            "width": null,
            "min_width": null,
            "border": null,
            "align_items": null,
            "bottom": null,
            "_model_module": "@jupyter-widgets/base",
            "top": null,
            "grid_column": null,
            "overflow_y": null,
            "overflow_x": null,
            "grid_auto_flow": null,
            "grid_area": null,
            "grid_template_columns": null,
            "flex": null,
            "_model_name": "LayoutModel",
            "justify_items": null,
            "grid_row": null,
            "max_height": null,
            "align_content": null,
            "visibility": null,
            "align_self": null,
            "height": null,
            "min_height": null,
            "padding": null,
            "grid_auto_rows": null,
            "grid_gap": null,
            "max_width": null,
            "order": null,
            "_view_module_version": "1.2.0",
            "grid_template_areas": null,
            "object_position": null,
            "object_fit": null,
            "grid_auto_columns": null,
            "margin": null,
            "display": null,
            "left": null
          }
        },
        "dd6980dbc7014fd48ae1a78b94378eb1": {
          "model_module": "@jupyter-widgets/controls",
          "model_name": "FloatProgressModel",
          "state": {
            "_view_name": "ProgressView",
            "style": "IPY_MODEL_db4cba08b5e8449dbf759dc56dad4f9f",
            "_dom_classes": [],
            "description": "Computing statistics...: 100%",
            "_model_name": "FloatProgressModel",
            "bar_style": "success",
            "max": 1,
            "_view_module": "@jupyter-widgets/controls",
            "_model_module_version": "1.5.0",
            "value": 1,
            "_view_count": null,
            "_view_module_version": "1.5.0",
            "orientation": "horizontal",
            "min": 0,
            "description_tooltip": null,
            "_model_module": "@jupyter-widgets/controls",
            "layout": "IPY_MODEL_a1546668b0c94929b52b25fc1a68a2fb"
          }
        },
        "46700ba3ecfe475fb6ff5ef7d3d567e9": {
          "model_module": "@jupyter-widgets/controls",
          "model_name": "HTMLModel",
          "state": {
            "_view_name": "HTMLView",
            "style": "IPY_MODEL_f4ec718923e44122992a2cda666bbdcb",
            "_dom_classes": [],
            "description": "",
            "_model_name": "HTMLModel",
            "placeholder": "​",
            "_view_module": "@jupyter-widgets/controls",
            "_model_module_version": "1.5.0",
            "value": " 1/1 [00:45&lt;00:00, 45.83s/ split]",
            "_view_count": null,
            "_view_module_version": "1.5.0",
            "description_tooltip": null,
            "_model_module": "@jupyter-widgets/controls",
            "layout": "IPY_MODEL_b7abf70176dd44ae8629204726774845"
          }
        },
        "db4cba08b5e8449dbf759dc56dad4f9f": {
          "model_module": "@jupyter-widgets/controls",
          "model_name": "ProgressStyleModel",
          "state": {
            "_view_name": "StyleView",
            "_model_name": "ProgressStyleModel",
            "description_width": "initial",
            "_view_module": "@jupyter-widgets/base",
            "_model_module_version": "1.5.0",
            "_view_count": null,
            "_view_module_version": "1.2.0",
            "bar_color": null,
            "_model_module": "@jupyter-widgets/controls"
          }
        },
        "a1546668b0c94929b52b25fc1a68a2fb": {
          "model_module": "@jupyter-widgets/base",
          "model_name": "LayoutModel",
          "state": {
            "_view_name": "LayoutView",
            "grid_template_rows": null,
            "right": null,
            "justify_content": null,
            "_view_module": "@jupyter-widgets/base",
            "overflow": null,
            "_model_module_version": "1.2.0",
            "_view_count": null,
            "flex_flow": null,
            "width": null,
            "min_width": null,
            "border": null,
            "align_items": null,
            "bottom": null,
            "_model_module": "@jupyter-widgets/base",
            "top": null,
            "grid_column": null,
            "overflow_y": null,
            "overflow_x": null,
            "grid_auto_flow": null,
            "grid_area": null,
            "grid_template_columns": null,
            "flex": null,
            "_model_name": "LayoutModel",
            "justify_items": null,
            "grid_row": null,
            "max_height": null,
            "align_content": null,
            "visibility": null,
            "align_self": null,
            "height": null,
            "min_height": null,
            "padding": null,
            "grid_auto_rows": null,
            "grid_gap": null,
            "max_width": null,
            "order": null,
            "_view_module_version": "1.2.0",
            "grid_template_areas": null,
            "object_position": null,
            "object_fit": null,
            "grid_auto_columns": null,
            "margin": null,
            "display": null,
            "left": null
          }
        },
        "f4ec718923e44122992a2cda666bbdcb": {
          "model_module": "@jupyter-widgets/controls",
          "model_name": "DescriptionStyleModel",
          "state": {
            "_view_name": "StyleView",
            "_model_name": "DescriptionStyleModel",
            "description_width": "",
            "_view_module": "@jupyter-widgets/base",
            "_model_module_version": "1.5.0",
            "_view_count": null,
            "_view_module_version": "1.2.0",
            "_model_module": "@jupyter-widgets/controls"
          }
        },
        "b7abf70176dd44ae8629204726774845": {
          "model_module": "@jupyter-widgets/base",
          "model_name": "LayoutModel",
          "state": {
            "_view_name": "LayoutView",
            "grid_template_rows": null,
            "right": null,
            "justify_content": null,
            "_view_module": "@jupyter-widgets/base",
            "overflow": null,
            "_model_module_version": "1.2.0",
            "_view_count": null,
            "flex_flow": null,
            "width": null,
            "min_width": null,
            "border": null,
            "align_items": null,
            "bottom": null,
            "_model_module": "@jupyter-widgets/base",
            "top": null,
            "grid_column": null,
            "overflow_y": null,
            "overflow_x": null,
            "grid_auto_flow": null,
            "grid_area": null,
            "grid_template_columns": null,
            "flex": null,
            "_model_name": "LayoutModel",
            "justify_items": null,
            "grid_row": null,
            "max_height": null,
            "align_content": null,
            "visibility": null,
            "align_self": null,
            "height": null,
            "min_height": null,
            "padding": null,
            "grid_auto_rows": null,
            "grid_gap": null,
            "max_width": null,
            "order": null,
            "_view_module_version": "1.2.0",
            "grid_template_areas": null,
            "object_position": null,
            "object_fit": null,
            "grid_auto_columns": null,
            "margin": null,
            "display": null,
            "left": null
          }
        },
        "d440e859d2a0444698996287a45d3630": {
          "model_module": "@jupyter-widgets/controls",
          "model_name": "HBoxModel",
          "state": {
            "_view_name": "HBoxView",
            "_dom_classes": [],
            "_model_name": "HBoxModel",
            "_view_module": "@jupyter-widgets/controls",
            "_model_module_version": "1.5.0",
            "_view_count": null,
            "_view_module_version": "1.5.0",
            "box_style": "",
            "layout": "IPY_MODEL_0610c12c69be4b038bb3d60f513fa250",
            "_model_module": "@jupyter-widgets/controls",
            "children": [
              "IPY_MODEL_0c3d60b06a574b2689ca5cdce03b9ea7",
              "IPY_MODEL_67e966040c9d42a3be70194da73c85d1"
            ]
          }
        },
        "0610c12c69be4b038bb3d60f513fa250": {
          "model_module": "@jupyter-widgets/base",
          "model_name": "LayoutModel",
          "state": {
            "_view_name": "LayoutView",
            "grid_template_rows": null,
            "right": null,
            "justify_content": null,
            "_view_module": "@jupyter-widgets/base",
            "overflow": null,
            "_model_module_version": "1.2.0",
            "_view_count": null,
            "flex_flow": null,
            "width": null,
            "min_width": null,
            "border": null,
            "align_items": null,
            "bottom": null,
            "_model_module": "@jupyter-widgets/base",
            "top": null,
            "grid_column": null,
            "overflow_y": null,
            "overflow_x": null,
            "grid_auto_flow": null,
            "grid_area": null,
            "grid_template_columns": null,
            "flex": null,
            "_model_name": "LayoutModel",
            "justify_items": null,
            "grid_row": null,
            "max_height": null,
            "align_content": null,
            "visibility": null,
            "align_self": null,
            "height": null,
            "min_height": null,
            "padding": null,
            "grid_auto_rows": null,
            "grid_gap": null,
            "max_width": null,
            "order": null,
            "_view_module_version": "1.2.0",
            "grid_template_areas": null,
            "object_position": null,
            "object_fit": null,
            "grid_auto_columns": null,
            "margin": null,
            "display": null,
            "left": null
          }
        },
        "0c3d60b06a574b2689ca5cdce03b9ea7": {
          "model_module": "@jupyter-widgets/controls",
          "model_name": "FloatProgressModel",
          "state": {
            "_view_name": "ProgressView",
            "style": "IPY_MODEL_640927ec717a47f18705d1d58af4d279",
            "_dom_classes": [],
            "description": "",
            "_model_name": "FloatProgressModel",
            "bar_style": "info",
            "max": 1,
            "_view_module": "@jupyter-widgets/controls",
            "_model_module_version": "1.5.0",
            "value": 1,
            "_view_count": null,
            "_view_module_version": "1.5.0",
            "orientation": "horizontal",
            "min": 0,
            "description_tooltip": null,
            "_model_module": "@jupyter-widgets/controls",
            "layout": "IPY_MODEL_b52b32560bb94d86853e7e064624de8b"
          }
        },
        "67e966040c9d42a3be70194da73c85d1": {
          "model_module": "@jupyter-widgets/controls",
          "model_name": "HTMLModel",
          "state": {
            "_view_name": "HTMLView",
            "style": "IPY_MODEL_e23fcef3f6bc48bd9a6bae7f3ebc95de",
            "_dom_classes": [],
            "description": "",
            "_model_name": "HTMLModel",
            "placeholder": "​",
            "_view_module": "@jupyter-widgets/controls",
            "_model_module_version": "1.5.0",
            "value": " 23262/? [00:45&lt;00:00, 514.16 examples/s]",
            "_view_count": null,
            "_view_module_version": "1.5.0",
            "description_tooltip": null,
            "_model_module": "@jupyter-widgets/controls",
            "layout": "IPY_MODEL_1c22e952986d40638964bde4f3123611"
          }
        },
        "640927ec717a47f18705d1d58af4d279": {
          "model_module": "@jupyter-widgets/controls",
          "model_name": "ProgressStyleModel",
          "state": {
            "_view_name": "StyleView",
            "_model_name": "ProgressStyleModel",
            "description_width": "initial",
            "_view_module": "@jupyter-widgets/base",
            "_model_module_version": "1.5.0",
            "_view_count": null,
            "_view_module_version": "1.2.0",
            "bar_color": null,
            "_model_module": "@jupyter-widgets/controls"
          }
        },
        "b52b32560bb94d86853e7e064624de8b": {
          "model_module": "@jupyter-widgets/base",
          "model_name": "LayoutModel",
          "state": {
            "_view_name": "LayoutView",
            "grid_template_rows": null,
            "right": null,
            "justify_content": null,
            "_view_module": "@jupyter-widgets/base",
            "overflow": null,
            "_model_module_version": "1.2.0",
            "_view_count": null,
            "flex_flow": null,
            "width": null,
            "min_width": null,
            "border": null,
            "align_items": null,
            "bottom": null,
            "_model_module": "@jupyter-widgets/base",
            "top": null,
            "grid_column": null,
            "overflow_y": null,
            "overflow_x": null,
            "grid_auto_flow": null,
            "grid_area": null,
            "grid_template_columns": null,
            "flex": null,
            "_model_name": "LayoutModel",
            "justify_items": null,
            "grid_row": null,
            "max_height": null,
            "align_content": null,
            "visibility": null,
            "align_self": null,
            "height": null,
            "min_height": null,
            "padding": null,
            "grid_auto_rows": null,
            "grid_gap": null,
            "max_width": null,
            "order": null,
            "_view_module_version": "1.2.0",
            "grid_template_areas": null,
            "object_position": null,
            "object_fit": null,
            "grid_auto_columns": null,
            "margin": null,
            "display": null,
            "left": null
          }
        },
        "e23fcef3f6bc48bd9a6bae7f3ebc95de": {
          "model_module": "@jupyter-widgets/controls",
          "model_name": "DescriptionStyleModel",
          "state": {
            "_view_name": "StyleView",
            "_model_name": "DescriptionStyleModel",
            "description_width": "",
            "_view_module": "@jupyter-widgets/base",
            "_model_module_version": "1.5.0",
            "_view_count": null,
            "_view_module_version": "1.2.0",
            "_model_module": "@jupyter-widgets/controls"
          }
        },
        "1c22e952986d40638964bde4f3123611": {
          "model_module": "@jupyter-widgets/base",
          "model_name": "LayoutModel",
          "state": {
            "_view_name": "LayoutView",
            "grid_template_rows": null,
            "right": null,
            "justify_content": null,
            "_view_module": "@jupyter-widgets/base",
            "overflow": null,
            "_model_module_version": "1.2.0",
            "_view_count": null,
            "flex_flow": null,
            "width": null,
            "min_width": null,
            "border": null,
            "align_items": null,
            "bottom": null,
            "_model_module": "@jupyter-widgets/base",
            "top": null,
            "grid_column": null,
            "overflow_y": null,
            "overflow_x": null,
            "grid_auto_flow": null,
            "grid_area": null,
            "grid_template_columns": null,
            "flex": null,
            "_model_name": "LayoutModel",
            "justify_items": null,
            "grid_row": null,
            "max_height": null,
            "align_content": null,
            "visibility": null,
            "align_self": null,
            "height": null,
            "min_height": null,
            "padding": null,
            "grid_auto_rows": null,
            "grid_gap": null,
            "max_width": null,
            "order": null,
            "_view_module_version": "1.2.0",
            "grid_template_areas": null,
            "object_position": null,
            "object_fit": null,
            "grid_auto_columns": null,
            "margin": null,
            "display": null,
            "left": null
          }
        }
      }
    }
  },
  "cells": [
    {
      "cell_type": "markdown",
      "metadata": {
        "id": "view-in-github",
        "colab_type": "text"
      },
      "source": [
        "<a href=\"https://colab.research.google.com/github/CrystalMath404/crystalm404/blob/master/Untitled0.ipynb\" target=\"_parent\"><img src=\"https://colab.research.google.com/assets/colab-badge.svg\" alt=\"Open In Colab\"/></a>"
      ]
    },
    {
      "cell_type": "code",
      "metadata": {
        "id": "XuLm0JZ1DQIv"
      },
      "source": [
        "import numpy as np\n",
        "import tensorflow as tf\n",
        "import tensorflow_datasets as tfds\n",
        "from tensorflow.keras.preprocessing.image import load_img, img_to_array\n",
        "from tensorflow.keras.layers import Dense, GlobalAveragePooling2D, Dropout\n",
        "import matplotlib.pyplot as plt\n",
        "from google.colab import files"
      ],
      "execution_count": 12,
      "outputs": []
    },
    {
      "cell_type": "code",
      "metadata": {
        "id": "uK3YcwrZEENV",
        "outputId": "0de09a28-996e-4ec1-b40e-8f4fb447e9ba",
        "colab": {
          "base_uri": "https://localhost:8080/",
          "height": 352,
          "referenced_widgets": [
            "153018e98e8b4385995cd3083512ba2c",
            "a37a749d4e464266ab9b335831958576",
            "40430d27f66b436da679a13cf6796199",
            "fab6a6b39bff47e1a8ae2da48dff9b1f",
            "7a58c2dc25554d56a00e222624ae02a9",
            "627c8398772c4507bc852cbce68ee211",
            "088dd4455938493abafbd912e7ac3d6a",
            "c6891c69ed0642349af28af7a8ab26a0",
            "90f3701279474a71a02bd32323d2ef25",
            "db196067a620441195f3e2150df40d47",
            "502f20b5b7f647b29c82324e2fea6ee4",
            "479f650e46f3461299e97324416a6e43",
            "b0511c03f82848a6b2eb998195dfd75e",
            "0c74d5092e844bf6a66b1e98a3b44487",
            "9c66fd51869d495fb58206103cf889d9",
            "1cc31b2ced4144e996eace376622b70e",
            "38e3c5d307a747cbb22c692dce3f6774",
            "0dfe8d20d32041f8885e5a05ffc7f59b",
            "4a5d4bf83af245dea98226eaa4cc654b",
            "f59545e2c3b1478daf6e9000094302e1",
            "034adcfb5a6244569b1be0ff6a7227d4",
            "1d971429ab1546ab8c9a079f0d980834",
            "461a4076b086428f83e9bd4c86f56538",
            "03e2e679870a4177a9581018088e7a3d",
            "02395d1738a84e708b5cccdb91dc4d2f",
            "17056b572f6042d09d7a9ae50a061d12",
            "812662a02f5e4101bbaaeef687e15bcb",
            "014a7056a4f944dd8f32bbe59c3a6d1d",
            "dce6a4a0a522421ea28a630201336fa1",
            "1bbe0854f44a4a4389215cba1539d9e9",
            "404ca23a2c004c6cbe63961d22d44bf1",
            "f0b3e60faf894a74b00cf508e9864c68",
            "a83ff038df014794a6e42a1a7c55aced",
            "f0c3e7c742314206b5ee8795aabec551",
            "dd6980dbc7014fd48ae1a78b94378eb1",
            "46700ba3ecfe475fb6ff5ef7d3d567e9",
            "db4cba08b5e8449dbf759dc56dad4f9f",
            "a1546668b0c94929b52b25fc1a68a2fb",
            "f4ec718923e44122992a2cda666bbdcb",
            "b7abf70176dd44ae8629204726774845",
            "d440e859d2a0444698996287a45d3630",
            "0610c12c69be4b038bb3d60f513fa250",
            "0c3d60b06a574b2689ca5cdce03b9ea7",
            "67e966040c9d42a3be70194da73c85d1",
            "640927ec717a47f18705d1d58af4d279",
            "b52b32560bb94d86853e7e064624de8b",
            "e23fcef3f6bc48bd9a6bae7f3ebc95de",
            "1c22e952986d40638964bde4f3123611"
          ]
        }
      },
      "source": [
        "train, _ = tfds.load('cats_vs_dogs', split=['train[:100%]'], with_info=True, as_supervised=True)"
      ],
      "execution_count": 11,
      "outputs": [
        {
          "output_type": "stream",
          "text": [
            "\u001b[1mDownloading and preparing dataset cats_vs_dogs/4.0.0 (download: 786.68 MiB, generated: Unknown size, total: 786.68 MiB) to /root/tensorflow_datasets/cats_vs_dogs/4.0.0...\u001b[0m\n"
          ],
          "name": "stdout"
        },
        {
          "output_type": "display_data",
          "data": {
            "application/vnd.jupyter.widget-view+json": {
              "model_id": "153018e98e8b4385995cd3083512ba2c",
              "version_minor": 0,
              "version_major": 2
            },
            "text/plain": [
              "HBox(children=(FloatProgress(value=1.0, bar_style='info', description='Dl Completed...', max=1.0, style=Progre…"
            ]
          },
          "metadata": {
            "tags": []
          }
        },
        {
          "output_type": "display_data",
          "data": {
            "application/vnd.jupyter.widget-view+json": {
              "model_id": "90f3701279474a71a02bd32323d2ef25",
              "version_minor": 0,
              "version_major": 2
            },
            "text/plain": [
              "HBox(children=(FloatProgress(value=1.0, bar_style='info', description='Dl Size...', max=1.0, style=ProgressSty…"
            ]
          },
          "metadata": {
            "tags": []
          }
        },
        {
          "output_type": "stream",
          "text": [
            "/usr/local/lib/python3.6/dist-packages/urllib3/connectionpool.py:847: InsecureRequestWarning: Unverified HTTPS request is being made. Adding certificate verification is strongly advised. See: https://urllib3.readthedocs.io/en/latest/advanced-usage.html#ssl-warnings\n",
            "  InsecureRequestWarning)\n"
          ],
          "name": "stderr"
        },
        {
          "output_type": "stream",
          "text": [
            "\n",
            "\n",
            "\n",
            "\n"
          ],
          "name": "stdout"
        },
        {
          "output_type": "display_data",
          "data": {
            "application/vnd.jupyter.widget-view+json": {
              "model_id": "38e3c5d307a747cbb22c692dce3f6774",
              "version_minor": 0,
              "version_major": 2
            },
            "text/plain": [
              "HBox(children=(FloatProgress(value=1.0, bar_style='info', max=1.0), HTML(value='')))"
            ]
          },
          "metadata": {
            "tags": []
          }
        },
        {
          "output_type": "stream",
          "text": [
            "WARNING:absl:1738 images were corrupted and were skipped\n"
          ],
          "name": "stderr"
        },
        {
          "output_type": "stream",
          "text": [
            "\rShuffling and writing examples to /root/tensorflow_datasets/cats_vs_dogs/4.0.0.incompleteSNGCSJ/cats_vs_dogs-train.tfrecord\n"
          ],
          "name": "stdout"
        },
        {
          "output_type": "display_data",
          "data": {
            "application/vnd.jupyter.widget-view+json": {
              "model_id": "02395d1738a84e708b5cccdb91dc4d2f",
              "version_minor": 0,
              "version_major": 2
            },
            "text/plain": [
              "HBox(children=(FloatProgress(value=0.0, max=23262.0), HTML(value='')))"
            ]
          },
          "metadata": {
            "tags": []
          }
        },
        {
          "output_type": "display_data",
          "data": {
            "application/vnd.jupyter.widget-view+json": {
              "model_id": "a83ff038df014794a6e42a1a7c55aced",
              "version_minor": 0,
              "version_major": 2
            },
            "text/plain": [
              "HBox(children=(FloatProgress(value=0.0, description='Computing statistics...', max=1.0, style=ProgressStyle(de…"
            ]
          },
          "metadata": {
            "tags": []
          }
        },
        {
          "output_type": "stream",
          "text": [
            "\r"
          ],
          "name": "stdout"
        },
        {
          "output_type": "display_data",
          "data": {
            "application/vnd.jupyter.widget-view+json": {
              "model_id": "d440e859d2a0444698996287a45d3630",
              "version_minor": 0,
              "version_major": 2
            },
            "text/plain": [
              "HBox(children=(FloatProgress(value=1.0, bar_style='info', max=1.0), HTML(value='')))"
            ]
          },
          "metadata": {
            "tags": []
          }
        },
        {
          "output_type": "stream",
          "text": [
            "\r\n",
            "\u001b[1mDataset cats_vs_dogs downloaded and prepared to /root/tensorflow_datasets/cats_vs_dogs/4.0.0. Subsequent calls will reuse this data.\u001b[0m\n"
          ],
          "name": "stdout"
        }
      ]
    },
    {
      "cell_type": "code",
      "metadata": {
        "id": "dYUIW9bwQ0f-"
      },
      "source": [
        "SIZE = 224\n",
        "def resize_image(img, label):\n",
        "  img = tf.cast(img, tf.float32)\n",
        "  img = tf.image.resize(img, (SIZE, SIZE))\n",
        "  img = img / 255.0\n",
        "  return img, label"
      ],
      "execution_count": 13,
      "outputs": []
    },
    {
      "cell_type": "code",
      "metadata": {
        "id": "FxggyBmhVJIC"
      },
      "source": [
        "train_resized = train[0].map(resize_image)\n",
        "train_batches = train_resized.shuffle(1000).batch(16)"
      ],
      "execution_count": 14,
      "outputs": []
    },
    {
      "cell_type": "code",
      "metadata": {
        "id": "7wQIa9sxXL2r"
      },
      "source": [
        "base_layers = tf.keras.applications.MobileNetV2(input_shape=(SIZE, SIZE, 3), include_top=False)\n",
        "base_layers.trainable = False"
      ],
      "execution_count": 15,
      "outputs": []
    },
    {
      "cell_type": "code",
      "metadata": {
        "id": "HVKhH_ZIXfBb"
      },
      "source": [
        "model = tf.keras.Sequential([\n",
        "                             base_layers,\n",
        "                             GlobalAveragePooling2D(),\n",
        "                             Dropout(0.2),\n",
        "                             Dense(1)\n",
        "])\n",
        "model.compile(optimizer='adam', loss=tf.keras.losses.BinaryCrossentropy(from_logits=True), metrics=['accuracy'])"
      ],
      "execution_count": 16,
      "outputs": []
    },
    {
      "cell_type": "code",
      "metadata": {
        "id": "ojGtrMXPE6Rb",
        "outputId": "88495f3f-9a8b-4ebe-804a-c4219c8f37dc",
        "colab": {
          "base_uri": "https://localhost:8080/",
          "height": 51
        }
      },
      "source": [
        "model.fit(train_batches, epochs=1)"
      ],
      "execution_count": 17,
      "outputs": [
        {
          "output_type": "stream",
          "text": [
            "1454/1454 [==============================] - 804s 553ms/step - loss: 0.0613 - accuracy: 0.9781\n"
          ],
          "name": "stdout"
        },
        {
          "output_type": "execute_result",
          "data": {
            "text/plain": [
              "<tensorflow.python.keras.callbacks.History at 0x7f691747f128>"
            ]
          },
          "metadata": {
            "tags": []
          },
          "execution_count": 17
        }
      ]
    },
    {
      "cell_type": "code",
      "metadata": {
        "id": "ngd_x6nseKjH",
        "outputId": "888ba4fa-f8a1-4c7e-d781-56734b1cae85",
        "colab": {
          "base_uri": "https://localhost:8080/",
          "height": 102
        }
      },
      "source": [
        "model.fit(train_batches, epochs=2)"
      ],
      "execution_count": 18,
      "outputs": [
        {
          "output_type": "stream",
          "text": [
            "Epoch 1/2\n",
            "1454/1454 [==============================] - 805s 554ms/step - loss: 0.0438 - accuracy: 0.9830\n",
            "Epoch 2/2\n",
            "1454/1454 [==============================] - 799s 549ms/step - loss: 0.0421 - accuracy: 0.9845\n"
          ],
          "name": "stdout"
        },
        {
          "output_type": "execute_result",
          "data": {
            "text/plain": [
              "<tensorflow.python.keras.callbacks.History at 0x7f6916b5c550>"
            ]
          },
          "metadata": {
            "tags": []
          },
          "execution_count": 18
        }
      ]
    },
    {
      "cell_type": "code",
      "metadata": {
        "id": "Qt7SBZZFRilg",
        "outputId": "20440a3c-bf3b-4c85-a304-9379fd7891b9",
        "colab": {
          "resources": {
            "http://localhost:8080/nbextensions/google.colab/files.js": {
              "data": "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",
              "ok": true,
              "headers": [
                [
                  "content-type",
                  "application/javascript"
                ]
              ],
              "status": 200,
              "status_text": ""
            }
          },
          "base_uri": "https://localhost:8080/",
          "height": 109
        }
      },
      "source": [
        "files.upload()"
      ],
      "execution_count": 42,
      "outputs": [
        {
          "output_type": "display_data",
          "data": {
            "text/html": [
              "\n",
              "     <input type=\"file\" id=\"files-92456a96-9203-4b3a-bab1-a4a3e6ff5742\" name=\"files[]\" multiple disabled\n",
              "        style=\"border:none\" />\n",
              "     <output id=\"result-92456a96-9203-4b3a-bab1-a4a3e6ff5742\">\n",
              "      Upload widget is only available when the cell has been executed in the\n",
              "      current browser session. Please rerun this cell to enable.\n",
              "      </output>\n",
              "      <script src=\"/nbextensions/google.colab/files.js\"></script> "
            ],
            "text/plain": [
              "<IPython.core.display.HTML object>"
            ]
          },
          "metadata": {
            "tags": []
          }
        },
        {
          "output_type": "stream",
          "text": [
            "Saving cat.jpg to cat (1).jpg\n"
          ],
          "name": "stdout"
        },
        {
          "output_type": "execute_result",
          "data": {
            "text/plain": [
              "{'cat.jpg': b'\\xff\\xd8\\xff\\xe0\\x00\\x10JFIF\\x00\\x01\\x01\\x01\\x00\\xc8\\x00\\xc8\\x00\\x00\\xff\\xdb\\x00C\\x00\\x06\\x04\\x05\\x06\\x05\\x04\\x06\\x06\\x05\\x06\\x07\\x07\\x06\\x08\\n\\x10\\n\\n\\t\\t\\n\\x14\\x0e\\x0f\\x0c\\x10\\x17\\x14\\x18\\x18\\x17\\x14\\x16\\x16\\x1a\\x1d%\\x1f\\x1a\\x1b#\\x1c\\x16\\x16 , #&\\')*)\\x19\\x1f-0-(0%()(\\xff\\xdb\\x00C\\x01\\x07\\x07\\x07\\n\\x08\\n\\x13\\n\\n\\x13(\\x1a\\x16\\x1a((((((((((((((((((((((((((((((((((((((((((((((((((\\xff\\xc0\\x00\\x11\\x08\\x01>\\x01\\x13\\x03\\x01\\x11\\x00\\x02\\x11\\x01\\x03\\x11\\x01\\xff\\xc4\\x00\\x1c\\x00\\x00\\x01\\x05\\x01\\x01\\x01\\x00\\x00\\x00\\x00\\x00\\x00\\x00\\x00\\x00\\x00\\x05\\x01\\x02\\x03\\x04\\x06\\x07\\x00\\x08\\xff\\xc4\\x00C\\x10\\x00\\x02\\x01\\x03\\x03\\x02\\x05\\x01\\x04\\x08\\x04\\x06\\x01\\x03\\x05\\x00\\x01\\x02\\x03\\x00\\x04\\x11\\x05\\x12!1A\\x06\\x13\"Qaq\\x142\\x81\\x91\\x07#BR\\xa1\\xb1\\xc1\\xf0\\x153b\\xd1$Cr\\x82\\xe1\\xf1\\x92\\x16Sc\\x17%4\\xa2\\xc2\\xff\\xc4\\x00\\x19\\x01\\x00\\x03\\x01\\x01\\x01\\x00\\x00\\x00\\x00\\x00\\x00\\x00\\x00\\x00\\x00\\x00\\x00\\x01\\x02\\x03\\x04\\x05\\xff\\xc4\\x001\\x11\\x00\\x02\\x02\\x02\\x02\\x01\\x03\\x03\\x03\\x03\\x03\\x05\\x01\\x00\\x00\\x00\\x00\\x01\\x02\\x11\\x03!\\x121A\\x04\"Q\\x13a\\xf02q\\x91\\x81\\xb1\\xc1\\x14B\\xd1#3R\\xa1\\xe1\\xf1\\xff\\xda\\x00\\x0c\\x03\\x01\\x00\\x02\\x11\\x03\\x11\\x00?\\x00\\x0bs\\xa8\\xa4\\x7f\\xab\\x87\\x0cq\\xd4W\\x99\\xc4\\xf49|\\x15Vb}A\\xb1)\\xf9\\xe2\\x9f\\xf6\\n-\\xb4\\xd1\\xee\\xcc\\x92\\x1d\\xc5y\\x1e\\xf5\\x16\\xcb\\xab\\xec\\xa0\\xc5Ve\\x11\\xfa\\x90\\xf3\\xc9\\xe9U\\xc8\\x9e\"`\\x89\\x07P\\xc3\\x90\\x05\\x1c\\x82\\x88\\xddd\\x92g3)\\nz\\x11O\\x95-\\x0b\\x8d\\xbd\\x94\\'\\xb5}\\xe5T\\r\\xad\\xc0$V\\x8b!/\\x1b3Z\\xd2\\xc9o(\\x88\\xfd\\xe5\\xeak\\xa3\\x1c\\xadY\\xcf\\x924\\xe8\\xa5i\\xa8H\\xb2\\xedvr\\xa7\\xa7=+IF\\xd5\\x99\\xa7Ak\\x8b\\x84\\xbb\\x89DGl\\x88+(\\xa7\\x17\\xb3I5%\\xa1\\xf6W7\\x8c\\x8a\\x1c\\x9d\\x83\\x82}\\xa8\\x97\\x18\\xbb\\x04\\xe5%A\\x18\\x84w\\x8c\\x82IA\\n\\xd85\\x9b\\xc8\\xe0h\\xb1\\xa9\\x10j\\x13Ka#\\x18\\xb7,`\\xf6=+\\\\s\\xe4\\xb6g\\x92\\x1c^\\x91sM\\xf1d\\xd0\\x04S#\\x97\\x07 \\x13M\\xd8\\x92F\\xb7K\\xf1\\x93\\xa9>d\\xbdGF5\\x9f\\xd4h\\xbf\\xa6\\x99\\xab\\xd2|O\\xe7F\\x81\\xd3\\'\\x93\\x93Mf\\x8f\\x92\\x1e\\x19\\x1a-7]\\xb7.\\xb9\\x1c{\\xd6\\x8ai\\x90\\xe0\\xd1\\xa0\\xb7\\xd4\\xad\\xe4\\x07k\\x03\\x9a\\xbb$%\\xbe3\\x8e\\x9d3@\\ncR\\x99\\xc7Z\\x00a\\xb7S\\xd8P\\x03\\x1e\\xd4|~TP\\x10\\xb5\\xb6?f\\x80#6\\xdc\\xf4\\xa0\\x0f}\\x9c\\x01\\xd2\\x80\\x19$J\\x14\\x92(\\x00s\\xc4\\xac\\xdfv\\xa4c\\xe1\\xb6BxZb$\\x10.z\\n`K\\x1d\\xb2\\x9e\\xc2\\x80$\\xfb\\x1a\\x9e\\xdf\\xc2\\x98\\x0e\\x16*\\x7fd~T\\x00\\xd6\\xb0_\\xdd\\x14\\x80\\x89\\xac\\x13\\xf7G\\xe5N\\x80o\\xd8\\x87\\xee\\x8aT\\x07\\xce\\x11\\xc5(\\x93\\n\\x08\\xc0\\xe4\\x1a\\xe2m\\x1d\\xaa,y}\\xa1\\xd8\\xc8\\x07\\x1c\\x8a\\x86\\xcbH\\xado\\xa8\\x84p\\xf3\\x12\\xec8\\x00{P\\xe3\\xf0$\\xfeBm*\\xceRU\\x1e\\x8e\\x87\\xe2\\xb1\\xda6\\xd3\\xd92\\x07Va( \\x0f\\xba\\xdf\\xd2\\x8b\\xd0\\xabb\\xe6[x^BF\\xc3\\xc0\\xdd\\xda\\x93\\xa6>\\x8aw7\\xdem\\xa9V \\x15\\xe4\\x12;\\xd5%\\xb2[\\xd1\\x88\\xd6\\'\\x9ayU\\x9d\\x86T\\xf2}\\xeb\\xb7\\x12H\\xe4\\xc8\\xdc\\xb6\\\\\\xd34mF\\xfd\\xa3k\\x1b\\t\\xee%\\x91r\\x16$\\'\\x8f\\xe5JY\\xa0\\xb4\\xdfE,3\\xa5*\\xec\\xab\\xa8i\\xfa\\x8e\\x8fp\\x05\\xfd\\x95\\xd5\\x9b\\xb1\\xc1[\\x88\\xcas\\xf0z\\x1a\\xb8\\xe4\\x8c\\xfavD\\xb1J\\x1bh%\\xa6\\xc8\\xd2\\x80\\xb7\\x0cbN\\xdf5\\x9eMt\\\\7\\xd8\\xdbH\\xd2+\\xc2<\\xde2z\\xd1)6\\xba\\x08\\xc2\\x99z\\xe9\\x9akoC.\\xf20\\xca\\xc3\\xb5b\\xb4\\xf6mV\\x88\\xa3\\x868\\xe3G\\x11y\\xaa\\xfe\\x97`>\\xe1\\xf7\\xaarm\\xf6J\\x8aJ\\xe8\\x0bur \\xd4\\x1e\\x18\\x9c\\xb8S\\x8c\\xd6\\xe9\\\\m\\x98\\xb7\\xc6T\\x83\\x1a^\\xb5>\\xc6T\\xb9`\\xaa\\x0esY\\xcf\\x1d;\\xa2\\xe3;\\xf2\\x1a\\xd2\\xfcW-\\xbc)\\xc38<\\x13R\\xf1;\\xd0\\xd6EF\\xc7D\\xf1C\\x92\\x04\\xbe\\x9c\\x01\\xde\\x92\\xc8\\xe27\\x8dH\\xd7h\\xde)\\x1736\\xe7\\xc68\\x03=kx\\xe6M\\x98K\\x13H\\xdaZj\\xd1H\\x8b\\xb9\\x87\\x15\\xb2fM\\x06\\xa0txC)\\xcej\\x84Jc\\xc9\\xc5\\x00#A@\\x11\\x98>\\x05\\x00E$C\\xf6\\xa8\\x02\\x84\\xeb\\xbb\\x8e\\xd5##[l\\x9e\\x9c\\xd3\\x02t\\xb5 t\\xa0Dm\\x06\\x0f\\xcd\\x00> A\\xe4f\\x80.(\\x18\\xe9\\xc50\\x1e\\xaa;b\\x80\\x14\\xa7\\xc5\\x02#1\\x02zP\\x03<\\x8a\\x00\\xf9n\\xe6D!6\\xb3\\x02x\\'\\xa5yv\\xcfL\\xa8-\\xf3\\x13\\xa7;\\x94\\xee?\"\\xa9K\\xc8\\x9c|\\x15\\xad\\x9f\\xca\\x12Jc!W\\x801\\xc8\\xa7%z\\x04\\xfc\\x97\\xed\\x1eY\\x90\\x10LG\\xae\\x08\\xebP\\xe91\\xabcd\\xbd\\x90:DIh\\xc1\\xeb\\x9esN\\xbc\\x85\\xf8\\x16Ma\\xa4\\x8d`e\\x00\\xa9\\xc6\\xd3\\xde\\xa7\\x86\\xec\\xae^\\x01W\\xb7\\xee\\xd0<{T\\xc9\\xbb w\\xab\\x8cU\\xd9\\x12\\x93J\\xbc\\x84?G~\\x1fM{[\\xb9\\xb8\\xd4\\x02\\x8d?O\\x88O:\\xee\\xe5\\x898Q\\xf8\\x9a\\xac\\xd9xB\\x97l\\x98E9[:\\xdb\\xdd\\\\N\\x8ct\\xf3o\\x15\\xba`\\x08\\xa3\\xc0\\xdb\\xf0p+\\x8dc\\xf2\\xcd\\x9c\\x85\\x1a\\xa4\\xebd\\xf0\\xdf,wV\\xfc\\x89\"\\x9cy\\xaaW\\xb8\\xc1\\xfe\\x1d\\x0e:f\\xa2X\\xe9\\xdc{-31\\xaa\\xf83N\\xd5\\xa0\\xfbG\\x86d\\x10]\\xa8$\\xd8L\\xe7\\xca\\x90\\xe3\\xee\\xa3\\x1eP\\x9e\\xc0\\xfaO\\xb8\\xad1\\xfa\\x89A\\xf1\\xc9\\xfc\\x93<q\\x96\\xd1\\xcau\\x1bI\\xa3\\xbc\\x94L\\x92\\xda<<I\\x04\\xaaU\\xd0\\xf7\\x04\\x1e\\xf5\\xe8\\xc6j\\xb5\\xb3\\x8apw\\xbdQr\\xd9\\xe3\\x9a5\\xf5\\xee\\x8c\\x80\\x0f\\xbdCTZw\\xfb\\x17\\xe3\\xbd\\x8a\\x18U-\\xfd/\\xd1\\x81\\xe9G\\xd3m\\xdb\\x1a\\xc8\\x96\\x91F\\xd3LI/\\xfc\\xe9\\xc0\\x8d\\xe4bq\\xdb\\x15NMF\\x91\\n)\\xcbe\\xcb\\xbd\\x12\\xdd\\xf2\\xf6\\xa7\\xd6\\xc4\\r\\xb9\\xed\\xde\\x88dj\\x94\\x87,i\\xdbE{+e\\xb5 1\\xfdX~Kv\\xaa\\x95\\xc9\\xba\"5\\x14\\xac%\\x04\\xa3l\\x89\\x86m\\xecJ6z\\x8a\\xc6Q\\xad\\x9a\\xc6V\\x10\\xd3\\x9a\\xe6(\\xc5\\xcb\\x93\\x1e\\x06\\xd1\\xcf\\x19\\xa2-\\'\\xa1\\xca\\xdff\\xbbA\\xd7.\\x16\\xdc\\xef\\xdcAn\\\\\\xf4\\xc5k\\xcdY\\x8f\\r\\x1d;\\xc3\\xda\\xe4O\\n\\xe5\\x86\\x14`\\x0c\\xf55\\xbcdb\\xd1\\xb2\\xb2>da\\xcf\\xdenj\\xc8\\'\\xdb\\xcd\\x00y\\x93\\x8a\\x06P\\xbb\\x04\\n@\\x0fR7\\xfa\\xb9\\xf8\\xa0a+hT\\xae\\xe28\\xf6\\x14\\x08\\xb0 C\\xda\\x98\\x15\\xe6\\xb6\\xf8\\xe2\\x90\\xc8\\x04 7\\x02\\x90\\x12\\xf9|S\\x01v\\x10)\\x88p_j\\x00\\x90\\x01\\xdcP\\x03\\xb6\\xad\\x00|x^V\\x88C$d)9\\x1ct\\xaf3\\xeez^(\\xb8\\xe8\\xb0E\\xc3\\x92H\\xed\\xda\\xa4\\xa5\\xd00]\\x84\\x90\\x88\\x90?\\xef\\xa1\\xef\\xf4\\xab\\xaf\\x92\\x1e\\xba%\\xbb\\xbaI\"\\xc4yFC\\xc7\\xd2\\xa6\\xbeF\\xdf\\xc1\\x05\\xcb*\\xc6\\xc3\\xbe2\\xa4\\xf74Gc\\x96\\x90\\xd2\\x82\\x7f\\xd79Ua\\x820i\\xddh;\\xdb\\x07\\xcd\\x18\\x12y\\xe6NA\\xe4\\x03\\xcdh\\x9e\\xa8\\xcd\\xaa|\\x8e\\x81\\xfa;\\xb4\\x8d<\\x19q\\xa9Mi\\x04\\xcfyx\\xe2\\'\\x90a\\x928\\xc0\\x07\\x91\\x83\\x82\\xdd\\xb3\\xdb\\xb5s\\xe7\\x93SQ\\xf84\\xc4\\x93\\x8d\\xfc\\x86\\xed&\\x13M\\xbe\\xde\\xe6(\\x18\\x9c\\x04U\\x188\\xec\\x18d\\x7f\\x12*n\\xfb4j\\x97A\\x861\\xbcm\\x1d\\xe3\\x16=\\x0f\\x99\\x1a\\xf3\\xf2\\x0e\\x7f\\x95?\\xd8\\x80l\\xd6\\x1fgR\\xd67\\x05\\x99y@\\xcd\\xca\\xfb\\x82z\\x81\\xf3\\x8f\\xc6\\xa2I>\\xcbL\\xa7\\xaf\\xd8Zx\\xc6\\xd4\\xdb\\xdf\\x1f\\xb1k\\xb0\\xa8X/\\x19I\\x0e\\x9f\\xb9(\\x1dP\\xf3\\x86\\x1c\\xa9\\xf88\\xa5\\x8b#\\xc0\\xfeb\\x13\\x82\\xc8\\xab\\xc9\\xca.\\xb4[\\xfd\\x1fQ\\xb8\\xb0\\xbd\\x8d\\xe0\\xb9\\xb7}\\xb2F\\xc7=FA\\x04pA\\x1c\\x82:\\xd7\\xaf\\x19\\xc6qRG\\x98\\xe1(:a\\xcb\\x0bx\\xf6\\xb1\\x01IoI\\x07\\xa9\\x15\\x9c\\xac\\xd64\\x89Z\\x1f6Eb}9\\xc6\\xd1\\xc9\\x06\\xaa1\\xa5H\\x99J\\xde\\xcfH\\xadlVC\\x13!\\x03\\x18n\\x9fZ\\xb5\\x15\"98\\x8cKF\\xbc@\\xd9\\xe0d`\\xf4&\\x93\\xf6\\xc8\\x17\\xb9!\\xd6\\xf6W)\\x03\\xff\\x00\\x97\\x94\\xe8\\t\\xe9JJ-\\x8e.I\\x0b\\xf6\\xab\\xb9eU1\\xb7\\x94\\x06\\x14v\\xa4\\xb1F(o+l:n\\xd9\\xa0\\x16\\xb0\\x8c\\xa8\\x02\\xb0\\xe3\\xc5\\xdb6\\xbeZA\\xdf\\x0c\\xdeJ\\x93F\\xfe\\xad\\xa82~O\\xbd_.,\\x8e6v\\x8f\\x0c\\xeak%\\xba!}\\xf20\\xcb\\x1fj\\xe9\\x8b\\xb4s\\xc9S5\\x08S\\x18S\\x9f\\xa5Q\\'\\xa4\\xc0\\x14\\x0c\\x11\\xa8\\xb6A\\xc7j@\\x05\\x89\\x8f\\x9d\\xcf\\xbd!\\x87,\\xc9\\xc0\\xcf\\xb50.n#\\xa5\\x02\\x18\\xceH\\xa0c\\x07^\\x82\\x90\\x12\\xae=\\xa9\\x80\\xbbA\\xe9@\\x1e\\tLG\\x8a\\x1e\\xd4\\x00\\xc2\\xa7=\\r\\x00|\\xa5\\x14\\x12oP\\xee\\xb1\\xc8>\\xe9nA\\xaf%\\xb3\\xd4VA\\xa8#\\xaf_Vx}\\xbd\\xa9&:\\x04\\xbd\\xbc\\x0b\\xb4G\\xbd_=q\\x90~+NL\\x8e)\\x1e\\xf2\\xe1oV\\x19\\x18\\xfaHn\\x86\\x92lm.\\xc7\\xda[y\\xf2\\xabH\\xcap8\\x19\\xe0\\x8a\\x1c\\xa9R\\x04\\xafl\\x86\\xf3jK\\xb2\\x11\\x80\\xdd\\xfd\\xa9\\xa7\\xad\\x89\\xad\\xd2\\x02\\xb1f\\xba`\\xe0\\x1e8\\xc7z\\xd9Uh\\xcbw\\xb3\\xa3h\\xb2}\\x97\\xf4u\\xa0\\x89bR\\x92\\xb5\\xc4\\xae\\xad\\x19ebfa\\xc8\\xc8\\xc8\\xc0\\x15\\xc7\\x97y\\x99\\xd3\\x81{\\x03\\xfatM7\\xeb\\x0crF\\x1c\\x05\\xda\\xfbWw\\xd0\\xafA\\xf4\\xa0$\\xd0f;A${\\r\\xbb2\\x01\\xd8\\x92\\x17\\xf0\\xc7\\x14\\x11\\xc8\\x1f}\\xa6\\x95`\\xe8\\xcd\\x08NTI\\x166\\xfd\\t9\\x1e\\xdcu\\xab\\x12\\x90\\x1fX7\\xb2\\xc0\\x90\\xdb\\xde\\xc2\\xb71\\x12b\\x9eh\\xca\\x8c\\x1e\\xa9!\\x18\\xe0\\xf4\\xcf\\xe3\\xc7Z\\x9e)v\\x8d\\x13\\xf2\\x85\\xb8X\\xfcel4\\xcdASM\\xd7\\xadccg3\\xbeT\\x91\\x8c\\xc2X\\xfd\\xe8\\xcfPO*}\\xc1\\xcd,s~\\x9eV\\xb7\\x16,\\x90Y\\x15y0\\xf6\\x1a}\\xccW\\x82\\xda\\xe4I\\x1d\\xfa\\xcc\\xd1I\\x03/1\\x90q\\xea\\xfc\\xc6\\x08\\xe0\\xe6\\xbd\\x1f\\xaf\\x19+]\\x1c/\\x0c\\xa2\\xe9\\x84l\\xe4\\xb7;\\xdd\\x117!\\xc8H\\xe4\\xc1|\\x15 \\x1c\\xfe\\xd7\\'\\xa7\\xb5\\x0eO\\xa0Q\\xf2&\\xbdq4N\\xd0\\xba\\xb0\\x05\\xf6\\x90z\\x83\\x82\\xc4~B\\xab\\x1f\\x1e\\xc9\\xc9vT\\x86k\\xa6\\x8a\\x03nU\\x91\\x9bn\\xc0zq\\xc6~\\xbc\\xfeUrQ\\xb2S\\x95R\\n\\xc5\\xe2S\\xb8Gug\\x17\\x98\\xaaC\\x91\\xfbY8S\\xf9\\n\\xc5\\xe1oi\\x9a\\xac\\xcb\\xca<\\xde C \\xdfh\\x02/!GR*\\x96\\x19/\"\\xfa\\xb1\\xbe\\x82:\\r\\xf6\\x9fzLwJ\\xb01 F1\\x80I>\\xf5\\x19!(\\xed\\x0e\\x13\\x8c\\xb4\\x17\\x9e\\xdd\\xed\\x10y.\\x85\\x1dIP\\x9c\\x9cVK}\\x9a\\xbdt\\\\\\xd1|E6\\x9f\\xe5[B\\xec\\xd29\\xc1f=+x\\xb6\\x8c$\\xac\\xec\\x1e\\x17\\xd5\\x92\\xea\\xdb!\\xc1\\n\\x02\\xe7\\xe7\\xff\\x00&\\xb7N\\xccZ\\xa0\\xf0|\\xae{\\x7f:`\\x0f\\x99\\x0c\\xac@\\xe9\\xf1H\\x08#\\xb1&`{P\\x01x-\\xb6\\xad0\\x1f\\xe4\\x91H\\x05Hr\\xd4\\x00\\x92\\xa2B\\xa1\\xe6t\\x89\\x0fF\\x91\\x82\\x83\\xf4\\xcd\\x01`\\xe95}5X\\xaa\\xdfZ\\xb1\\x03\\'\\x13/\\x1fS\\x9e(\\x01\\xd6\\xd7\\xf6\\xf7K\\xbe\\xdaU\\x953\\x80\\xc9\\xea\\x07\\xe9\\x8c\\xd02\\xfcM\\x902\\x08\\xfa\\xd0\"\\xc0M\\xc3\\xe6\\x98\\t\\xe5P+>D\\xbf\\x7f:\\x04\\x95b*3\\xc6k\\xc8Z\\xd1\\xea\\xbd\\xec\\x96\\\\5\\xba9\\\\3`\\x11\\x9ejWe}\\xc8E\\xaa\\xc9\\xea\\xdcp\\xbdTqN\\xe8\\x16\\xc8\\xcd\\xac[\\x99\\xbd$\\x0f\\xd8cE\\xfc\\x05_`\\xe7\\x00JD$F\\xa35i\\xfc\\x93_\\x00\\xedB\\xe1V\\x14L\\x06U9\\xc8\\xeb\\x9a\\xb8E\\xb6D\\x9a\\x06+I0\\x1e\\\\/\\x1c\\x84\\xf5=+j\\xa3.V\\xb4t;c\\x8f\\x07xk\\x7f\\x9a\\n,\\xca\\xc5\\x08\\xc2\\x8f5\\xb9\\xc6s\\xd4\\xfe\\x19\\xae9/\\xfa\\xb2:\\xb1\\xbf`\\x7fM[6XL7\\xd6\\xe1\\xdc\\xed\\nPG$\\x98\\x19\\xda2Ao~\\x95I\\x11&\\xfe\\x03\\xf0y\\xc9\\xff\\x00*w\\xc7\\xff\\x00\\x90\\x00\\xa3\\xe0\\xa0$\\x0f\\xad>$Y+\\\\\\x19q\\x1b\\xaa3\\xf5P9lw\\xfa\\xfdz|S\\xaf\\x81\\x02u\\x1b\\x07\\x9e#\\xba\\x03<+\\xc9\\x8fa\\x04c\\xdb\\xd4sI\\x96\\x9d\\x19[\\x80\\x90\\\\D\\x91Z]\\xdc\\x8bs\\xe7\\x18\\xe6*\\xb76\\xcc?m\\x0fGN=K\\xd7\\xd8\\x0cR\\xaf\\x05\\xdf\\x90\\x9d\\xe5\\xb4>,\\xd3\\x12\\xf7z\\xff\\x00\\x8d\\xe9\\xee\\x10\\xdc@O\\xeb\\xd5B\\x9d\\xc4\\x0f\\xbcGC\\xf0\\x0fqX\\xa9<2\\xaf\\x0cu\\xf5\\x16\\xfb1)a-\\xc2\\xb5\\xb1\\x9c[_\"\\xee\\x927 \\xc6\\xae};\\xc1\\x1c\\x9e1\\xd3\\xb6x\\xeb\\x8e\\xa5\\x97\\x8b\\xb7\\xb4e,V\\xb5\\xd8\\xed\\x1ac`D\\x1a\\x83\\x89\\x14\\xee\\x08\\xcf\\x19%U\\x91A\\'\\xe3-\\x8c\\xff\\x00\\xa7\\xde\\xaaO\\x96\\xe2f\\x97\\x1dHv\\xa1\\x04zU\\xbajZS\\x01#z\\xa4C\\x826(\\xc1 \\x1e\\xecO\\xe1\\x9c\\xd5Fo\\'\\xb6D\\xb8\\xf0\\xf7D\\x1d<-\\xadhK\\xaeZc\\xce\\x07s\\xa0n\\x88\\x0e\\x0eG\\xd7w\\xf0\\xf7\\xad!/\\xa7/\\xa6\\xc8\\x9cy\\xc7\\x9a(]^\\x93ym\\x1d\\xa9\\x92T\\x99\\xb6\\xa263\\xbb\\x1d3\\xd8s\\xd2\\xb7\\x8c\\x9dl\\xc5\\xc7z\\x12\\x1b\\xdb\\x8b\\x9dj\\xde\\xd6\\x02\\xc5Y\\x95H#\\x04d\\xe3#\\x1d\\xfe\\xb4\\xdc\\xaa-\\xb0Q\\xb9R/k\\x1e\"\\xff\\x00\\nx\\xad\\xac\\xa5\\x95\\xe4\\xea\\xcaO\\x00}>\\xa35\\x11_Sm\\x15\\'\\xc3H\\xbb\\xa5\\xea:\\x83\\xc4.\\xe5]\\xaa\\xe5R9X\\x1d\\xbd\\x89#\\xdf\\x82)I\\xc5:CJOl\\xe8>\\x11\\xf1B\\xe9\\x0b\\xff\\x00\\x15r\\x8eS\\x83\\tl\\x15b:g\\xbf\\xb7\\xe7IeW\\xd0\\xde7Vu\\xbd?\\xc5\\xd6WP[\\xee\\x99\\x15\\x9cd `K\\xf1\\xd7\\xe0\\x7fO\\xadj\\xa4\\x9fFN-\\x1a-6X\\xae\\xa3\\x0c\\x8d\\xba0HR\\xa3\\x87#\\xef7\\xd0t\\x15B\\t\\xa2\\x0fb02p3@\\x0f\\x92{{Ki..e\\x8e\\x1bx\\xc7\\xaaG`\\x14~4\\x01\\x91\\xd4\\xff\\x00H\\x1at{\\x97H\\x86MI\\xc1\\xc1\\x907\\x93n\\xbfYXz\\xbf\\xec\\r\\\\\\x99}n,z\\xbb\\x7fc\\xa7\\x1f\\xa4\\xc9.\\xf4\\xbe\\xe6#^\\xf1\\x8e\\xa5\\xa9/\\x97&\\xae\\xb6\\x90gq\\x87MA\\x18a\\xf3,\\x99f_\\x90\\x14\\x1f\\xe1\\\\\\x93\\xf5\\x99\\xa7\\xfa\\x15\\x1d1\\xf4\\xd8\\xa3\\xfa\\xb6\\x00{].\\xe8\\xf9\\xaff\\xb7r\\xb0!\\xe7\\xbdi.\\x19\\xb9\\xc9\\xcb1$\\xf3\\x9e\\x82\\xb0\\x7fZ_\\xaaF\\xb7\\x18\\xea(\\xa5u\\xa1\\xf8j\\xf0\\x88\\xe4\\xd2\\xed`nG\\x99l\\xa6\"\\x0f\\xf2\\'\\x9e\\x875jY!\\xbeD\\xbe/\\xb4u\\xff\\x00\\xd1\\xbe\\x9a\\xb1h\\xe1d\\x7f>x\\xcf\\x94f%\\x98\\x90:u\\'\\x1cc\\xfaq^\\xa6\\t\\xf3\\x82\\x91\\xe7\\xe5\\x8f\\x19\\xb4\\x8d\\x92\\xc3\\xb0\\xf0+S\"T\\x06\\x98\\x12m\\xa0G\\xc6\\xd2\\xa4\\xb7e\\x90\\xc8|\\xb5\\xe9\\x8e\\xd5\\xe4\\'G\\xaa\\xf6E\\xf6\\xe9\\x12d\\x89\\x89\\x90\\x81\\x80\\xc4b\\x8e#\\xbf\\x92TY\\xae\\x19\\xe5\\xd9\\x87\\xc1\\x0c\\x83\\x8f\\xc6\\x86\\xebA\\xf7(^J\\xaa!\\xdc\\xa0\\x01\\xc6\\xfc\\xf2)\\xa4 E\\xe9\\x92W\\x93\\xca/\\x91\\xc0#\\xa1\\xad\"\\x92\\xec\\x89[\\xe8\\x88\\xd8\\x86\\x827f\\x02E\\xe0\\xaez\\xd6\\xb1\\x95\\xe9\\x19J5L.\\xb1;\\x80\\xd1\\x00v\\x80@\\xcf\\xf0\\xa9\\x8a\\xae\\xc7\\'}\\x1a\\xc7\\x84]\\xf8\\n\\xc6d\\xf45\\xbd\\xe4\\x91\\xb0l\\x01\\x86\\xc30\\r\\xfb9\\xfeu\\x8eU\\xc6{\\xf2o\\x85\\xf2TE\\xa6\\xdaC;\\xaa\\\\JQz,\\x92\\x0c\\x13\\xed\\xd7\\x82\\x0f\\xb1\\xc6(\\x89R\\xbf\\x06\\xc2\\xdf@\\xb4hT\\x87\\x98\\xbbrZ-\\xca\\x9b\\xb22\\x08\\x07\\xa8\\xfc*\\xd9\\x8d\\xb2\\xe9\\xb0X\"dS3 \\xc6D\\x8f\\xb0\\x7f\\xf2?\\xef\\xc5+\\x10\\x1e\\xee\\x0bY\\xa514\\x0b\\xe7/+\\x13H\\xae\\xecz\\x82\\xbc\\xe4\\xff\\x00/\\xad+\\xa2\\x90\\x07U\\xb5\\xb6\\xd3\\xcc\\x17n\\x91Dbm\\xc5]\\xd9\\xf2\\xb9\\xf5\\x10\\xa5\\xb3\\xff\\x00w\\xe5Sw\\xd1\\xa2\\xfb\\x83\\xac%M\\'\\xc4\\xaem\\xfc\\xef>X\\xcc\\xf2\\xa4g\\xccG\\xc6v\\xb2\\x8e\\t\\\\\\xb2\\xb6?\\xd4?v\\x89\\xaeP\\xa6Ju+!\\xf1\\xed\\x94\\xa8\\xf6wV\\xe1#y\\xe1\\xccl\\x9e\\xa5\\x0c\\x06\\xd7\\x03\\xa62=C?\\xbd\\xf3Q\\x89\\xd6\\x99\\xa3\\\\\\xba\\xec\\x1f\\xa2_\\xdc\\xda\\xe2\\x1b\\xc8\\xd6kW\\x8c,\\xa0\\x9c\\x1f-\\x81\\xe0\\xf6\\xc6\\x7f\\xf5U$\\x9e\\xe2J\\xb5\\xa6:\\xef@\\xb4}\\n\\xeaF\\xd5\\x8cm\\x83\\xe5\\x95\\xfdZ U\\xda7\\x9c\\x93\\x8c\\xb0\\'\\xfe\\x9cp+Hf|\\x97\\xb4\\xcax\\xb4\\xf6\\x0f\\xf0\\xfe\\x87u\\xa3\\xe8\\xb1G%\\xc0Qp\\xe48\\x07\\x00\\xbeH\\x0b\\x93\\xc1\\xc6:\\xf4\\xf5\\x1fj\\xd7&X\\xceV\\x97Fp\\xc7(-\\x88\\xbad\\x9a\\x9c\\x8dq\\xa7\\xa8\\xb4\\xfb4\\x92H\\x85\\xc7\\xad\\xf1\\xdc\\x0cs\\x81\\xdf\\xdd\\xbe\\xb8\\xd3\\xea(\\xaa\\x96\\xec\\xcf\\xe9\\xb6\\xee:\\xa2\\xbf\\x86\"6:\\xd9\\xb8\\x96@\\x97\\x0b+@C\\x8c\\x97=r\\x0f\\xd0d\\x1f\\xa7\\xbd\\x19\\xe4\\x9cit\\x18b\\xd4\\xad\\x99\\xbf\\x12\\xda\\xdcG\\xabBR\\xcf\\xca\\x89H,\\x0eq\\xbbq\\xfb\\xc4\\xf3\\xed\\xf4\\xadq\\xc98\\xf6D\\xe2\\xd3\\xe8\\xe86\\xfa\\xf6\\x9f6\\x9c\\xe8d\\x8d\\x11#\\x0e\\xe2_V\\xdfQn\\x9f#<t9\\xcdq8J,\\xe9\\xe5\\x16\\x80\\x9a\\xd5\\x9d\\xee\\xa9\\xab\\xb4\\xd0Yy\\x8a\\xe4D\\xa8N\\xd2=99\\xf7\\x00`\\x92\\x7f\\xf3[\\xc2q\\x84i\\xb39A\\xcd\\xdaAy5[\\xebE\\rc\\x0cb\\'\\x8c\\xedy\\x08\\x04\\xc7\\xc60~x\\xfe\\xc8\\xacSW\\xb6i\\xc5\\xf84\\xba\\x0f\\xe9WV\\xd3\\xbc\\xab[KT\\x9a\\xd9c\\r\\xb1rJ\\x85Q\\x80\\x7f\\xee9\\xc7\\xc5n\\xb3\\xf1^\\xe3\\'\\xe9\\xf9=\\x1b(\\xbcY\\xe3\\x1b\\xe8`\\xb8\\xbb\\x96\\xc3A\\xb3#qYT\\xcd4\\xccO\\xa5\\x82u\\xe9\\xc0\\xe81\\x93\\xde\\xb0\\x9f\\xae\\xf1\\x05f\\xb0\\xf4k\\xfd\\xcc\\x1b\\xa8x\\x9b\\xed\\xb7e$\\x8bP\\xbf\\xba\\x8b\\x85\\x9e\\xfe\"\\x91\\xc6=\\xd2>\\x17\\x1c`\\x00\\x07\\xd6\\xb9g,\\xd9\\x7f[\\xd7\\xc2:!\\x1cx\\xff\\x00B\\x18\\xd0\\xde\\xeaH\\x1a{\\xa4d\\xda7\\x03\\xe9bq\\xd5{`\\xfb\\x0f\\xa74\\xa3\\x8e0\\xe9\\r\\xce\\xcb\\xf6zX\\xda\\xa2\\xe2\\x19%\\xc0\\xe1\\xd6U\\xfc\\xf6v?_\\xc2\\xaf\\xf6#\\x915\\xd4Kk\\x04\\x86\\xd4\\xddB\\xc0r@c\\xc7\\xd0\\x12sJ\\xech\\x19eq-\\xfc\\x98\\x86\\xe9\\xa5f\\xff\\x00\\xee\\x82\\x84\\x8c\\xf7\\xe0{w\\xc7\\xe3JN\\x90Q\\xf4\\x0f\\x854\\xf6\\xb2\\xd1`Y\\x18<\\x8e7\\xb1\\x0c\\x0f_\\xa5z\\x981\\xb8cQ}\\x9evYr\\x9bh*\\xe9[\\x19\\x8c\\xdb\\x83@\\x0e\\xc5\\x00|j\\x96\\x92*+5\\xc8F\\xeaF3^M\\x9e\\xa52\\x85\\xeb\\xe2a\"\\x05l\\x1c\\x06J`\\xfeK\\x96\\xb7\\x01\\xc2\\xa4\\x86Ta\\xd5\\xba\\nN4\\x17co\\xa3\\xb4P\\xdet\\x88\\x07\\\\\\xe2\\x85o\\xa1\\xba]\\x99\\xcf=\\xd6\\xe9b\\xb7\\x02T\\x19;\\x94q\\x8f\\x9a\\xddB\\xd5\\xb3\\x17:t\\x87}\\x9b\\xc9vk\\xa7V\\xdd\\xcf\\xa7\\xb5k\\x1f\\xb1\\x93\\xf9e\\xbb;\\x97\\x9e\\xe5\\x02\\x05\\x0c8\\r\\xfe\\xf5r\\x8a\\x8a&2\\xe4\\xcd\\xff\\x00\\x86m7x/T\\x86c\\x1c\\x92\\x1b\\x81p\\x188\\x03\\x08@\\'\\xe3\\x19\\xe4\\xfe\\x15\\xc3\\x9d\\xf2\\x91\\xd7\\x81p\\xa6f\\xcd\\xd5\\xd5\\x8c\\xfem\\xbc\\xf6\\xd0e\\xb6\\xfe\\xb1\\x02\\x96\\xc7\\xedg\\xa9\\xcfo\\x8a#\\xd1\\xbc\\x92\\xbd\\x9a=?\\xc5R\\xd9\\xda\\xbc\\xda\\xaa\\x89` (1\\xd9\\x89\\x03\\xfd@`\\x07nN>\\x9d\\xea\\xb6\\xcc\\x9c\\x17\\xfbM$Z\\xde\\x97\\x7fj\\xadj\\x030\\xff\\x00\\x94\\x90\\x80\\x07\\x1f\\xb4\\n\\x93\\x8f\\xc6\\xa1\\xda\\xd1<L\\xb6\\xad\\xad$\\x0b\"*\\xd9q\\xd0)\\\\/=0:w\\xed\\x9a\\xaa\\xb0\\xa3!\\xaaK<\\xe5\\x97\\xca\\xf5\\x82]v\\x92F1\\xc8\\x07\\xb8\\xaaT7a\\r\\x17La>\\x9d4\\xacDM\\x1f\\x04\\x10C\\xab\\x00\\x8d\\xf4\\xeb\\xb4\\x8f\\x80k9\\xe4\\xd3H|wl!\\xaa\\x18\\xee\\xbc9w\\x11!^\\xd2\\xf8ym\\x1f%\\xd0\\xfa\\t\\xfa\\x12\\x88>\\x00?5+\\xe4\\xa5\\xdd#+j\\x977\\x97\\x0c\\xf2\\xedH\\x92D\\x96\\\\&\\x00]\\xd8<\\x0e\\xa38\\xe3\\x8e;\\x1a\\xbdAh\\x9d\\xc9\\xec\\xb5\\xaa\\xe9\\xf1:A`D\\x86\\x10\\xa7\\xcd\\x0e1\\xc6\\xfd\\xcd\\x83\\xed\\x90=\\xf7\\x1e;\\x1a\\xa8M\\xa7\\xc8\\x99A5D~<\\xb8)\\xa8h\\xdal2\\xc3w}\\x15\\xea\\xa8\\t\\xf7=$\\x97\\xdcO\\xfa\\x9c\\xfe\\x1c\\xd5`V\\xa4\\xdfTg\\x95\\xfe\\x94\\xbb\\xb1L\\xed}w\\xad\\xea\\x16\\xb2\\x89-\\xde\\xcf\\xech\\xf1\\xe0\\x07\\xd9\\x18we\\xf8\\x03\\x8c\\x0fny\\xaa^\\xd5\\x18\\xbf\\x9b\\x13\\xf795\\xf1FZ_6hm/Q\\xd9\\x0c\\x0e%\\x90\\xbeW%[\\x1f\\xfc\\xb6\\x85\\xcf\\xfdU\\xd1\\xa5q0\\xdd)\\x06\\xf4\\xfd]u]gQ\\xd2\\xa6\\x86)U\\xa4IF\\xf6\\x0c\\x1dT\\x96\\xe3?\\\\}\\t\\xf7\\xaeycx\\xe2\\xa6\\x8d\\xe356\\xe2\\xcd\\x16\\x80\\xdal\\x92\\xc9o\\xf6(\\xe3\\xb8I\\x041*(\\xe9\\xd0u\\xfd\\xafQ\\xfe\\x03\\xb5c7>\\xec\\xd6*>\\x11\\x17\\x89\\xae\\x96\\x10\\xedi\\x10X\\xed\\xe4h\\x9c\\xc66\\xa6\\xe2\\xbbN\\x0f\\xed}\\xdc\\x13\\xdf8\\xe9J\\n\\xfb\\x1b\\xfb\\x024\\xcd\\x0e\\xe3V\\x95R\\xeeY%d\\xc2G\\n6\\xd0\\x15T\\x12\\xcc\\xdd\\x97\\x1f\\xca\\xaayT\\x7fHG\\x1d\\xfe\\xa6m\\xec~\\xc5\\xa1\\xbcV\\xbalq\\xcb\\xa8*\\x963\\xc9\\t0[\\x86\\xc6H\\xc8\\xec\\x06ry=\\xb1\\xd6\\xb1\\xe1)\\xfb\\xa4\\xcbsK\\xdb\\x14)\\xb7\\xbd\\xbb\\xb9k\\xcb\\x81\\xf6\\x81/+,\\xeb2\\x12\\xa4~\\xc9\\x03\\x03\\xe0\\x0cc8$\\xe6\\xb4\\x8c\\x14t\\x88ro\\xb0\\xb6\\x97b\\x96\\x8a\\xbeV\\x9f<\\n\\x06v\\xc0\\x82E?9\\xe5\\xb3\\xf8Sj\\xc9\\xb0\\xfe\\x9f-\\xa5\\xc2\\x85\\xb6\\x9a\\x16b\\x7f\\xcb|#g\\xe8FsP\\xd3]\\x85\\xd8\\xdb\\xfd2\\xe0#\\x18CF\\xff\\x00w\\xccD\\x07i\\xff\\x00R\\x9e?\\xaf\\xd6\\x85C\\xb33v/\\x00\\n\\xee\\xb1\\xdd&p\\xbfu[\\x1dq\\x9e\\x9c\\x1c\\xf5\\xc7a\\x8e\\xb4\\xea\\xcbL?\\xfa#\\xb3\\x1a\\xf7\\x88\\xa1i`\\x91#F2H\\x8e}\\x04\\xafR\\x01\\xe7\\x9e\\x9c\\x93N\\x10\\xe7\\x95@\\x8c\\xb2\\xe1\\x06\\xcf\\xa3\\xca\\x0cp1^\\xb9\\xe6\\x11:\\xd0\\x04,(\\x01)\\x01\\xf1V\\xa3z\\x8c\\xd1\\x8bbw0\\xdb\\x81^Tc\\xf2z\\x8e_\\x05\\t&\\x112\\xc6G\\xeb\\t\\xc9\\xc5RV&\\xebE\\x88\\xb5\\x17\\xb7\\xdd\\xe68x\\xcfg^h\\xe1b\\xe4\\xeb\\xb2\\xa1D\\xbd\\x99\\xd8\\x89\\x04/\\xdf\\x1c\\n\\xaf\\xd2\\xb4O}\\x95\\xa6\\xd4\\xa2\\xd3\\xa5\\xf2!Ui\\x17\\xb8\\x1dEi\\x189\\xab}\\x11)\\xaczC\\xb4\\xfb\\x1b\\xadbv\\x1b\\x1cFy\\x04\\x0c\\x8a\\xdb\\x94q\\xa3\\x0e/#7Zn\\x8fa\\xa4\\xdb\\xb3\\xb8\\xdf(\\\\\\x8c\\xae\\xe3\\\\\\xd2\\x9c\\xa6\\xce\\x98\\xc60E\\ruu\\x08\\xee\\xbc<l$e\\x94\\xc3/\\x98\\xa5q\\x94\\x91\\xf1\\x81\\xc8\\x04\\xfa:px\\xef\\x8cVq\\xab\\x93f\\xde\\x10\\'W\\x8e;h~\\xd4\\xaaYd\\xf5\\x1fH\\xe3\\xdf\\x83\\xdb5*\\x94\\xa8\\xdd\\\\\\xa3ln\\x9d\\xafX\\xda\\xb1e\\xb1S&\\x01g+\\x1c]\\xba\\xee\\xc3\\x1f\\xe5V\\xe2\\xd9\\x9b+\\xea\\x9e4[\\xf4X\\xed^\\xe2\\x19\\x87hgf@s\\xc8\\xe5\\x06~\\xa3\\xdf\\xf1\\xab\\x8e\\x06\\x9e\\xcc\\xa54\\xfa,\\xdai\\x17\\xb3F\\xd2#O7\\x99 \\x03\\x1d\\x0f\\x19\\xe4c\\xaf\\xc7\\xe1JRKBI\\xf6\\x1f\\xd2\\xec\\x07\\xfc:j\\x0e\\xcd\\x01v\\x11\\xc8\\x06\\x02\\x1d\\xa7\\xa8=9\\xc8 \\xf49\\x07\\xb5c\\'\\xf0h,.m4Kf\\x92o5\\x14\\x91!T\\xc2\\xbae\\x80\\xdc\\x07\\xc7_\\xc4\\xd4I\\\\\\x9d\\ri\\x16\\xad\\xa6\\xd3\\xa3\\xd4.a\\x8aQ\\'\\xdac\\x91#\\x83w\\x01\\x88\\xcf\\x03\\xfe\\xfe\\xbd\\x89\\x14\\xe3\\t\\xc9\\x03\\x94S\\x01&\\xa5\\x96\\xb3X.V\\x04\\xbb\\x95\\x9b\\t\\x08\\xf5(\\x01\\xcb\\x03\\xfb\\x8b\\x9c\\x1c\\xf7\\xc0\\xe9\\x9a\\xa5\\x8fM\\xfc\\x03\\x9e\\xd2\\xf93Z\\xa7\\x8c\\xa5\\x8e\\xce[{h\\x95\\xae\\x9aL\\xbd\\xc6\\xec\\xa2\\x90\\x87\\xcbD\\xcf=\\xd8\\x93\\xdc\\x85\\xf6\\xcduC\\x02m6\\xceY\\xe6\\xad \\x8f\\x87<!r\\xb1\\xb6\\xa5\\xb4K\\xa8\\x95W,\\xc7j\\xa2\\xbe\\xc2U\\x7f\\x02\\xca[\\xfd^\\xe75\\x9e_P\\x9f\\xb1t^<5\\xee}\\x97u\\xdd-muK{M9\\xbe\\xce\\xc6W2\\xca\\xeeO\\x90]\\xce\\x15@\\xf8\\xdcO\\xf1\\xec*a6\\xd5\\xc8r\\x8d:@\\xddj\\x7f1\\x96\\xd2H\\xda)\\x15\\xe3\\x85-\\xe4A\\xb9\\x15\\x81RX~\\xc9\\x00\\xe3\\x9e{\\xf6\\xaa\\xc6\\x9av\\x19\\x1aj\\x8aZ\\xa7\\x86\\xe4\\xb1\\xbd\\xbe\\xbe\\xd3\\xfc\\x98\\xda\\xd3\\x0b#\\x0ecrpw\\x0c\\x1fnx\\xf6&\\xb5\\x8ee4\\xa3/&R\\xc4\\xe2\\xdc\\xa2\\x1b\\xd3m\\x93R\\xd1\\xadu\\x18&\\xb9\\x82\\xefi\\x95\\x88!\\x9d\\x98\\x84RG\\x1c\\x0c\\x1c\\x06\\xe9\\xc9#\\x9e\\x98M\\xb8\\xc9\\xc5\\x9bErI\\x96u\\xc8Lzz\\xa5\\xb2;\\xc7\\x0bz\\x10\\xa9w\\xda\\xc3~\\x08 \\x00\\xa39\\xe7\\x92\\x7f:\\xce;{-\\xeb\\xa0\\x97\\x86\\xa3x\\xe0\\x11X\\x11\\x1f\\x9d\\x94F+\\xbbj\\xe3\\x99\\x07\\xb0\\xceN\\xe3\\xc7\\x1cg\\xa5D\\xfb\\xb9\\x17z\\xa4]\\x17\\xcdc9\\x08ev\\x95\\xcb4\\xae\\x0b\\xb8\\\\`d\\xe4\\xe4\\xe0\\x12s\\xc0\\xe9\\xda\\xb4[2\\xa0\\xb5\\x8b\\xcd\\xa8K\\xf6\\x9b\\x1b\\xa9\\'\\xf4\\x80\\xf1\\xbc\\xc78\\xea?\\xd5\\x9e\\xbf\\xd0U\\xf5\\xd9,-ko\\x14\\xcc\\x16U\\xf2\\xae\\x888*\\xbb_#\\xae1\\xf7\\xbe\\x80}i1Y=\\xe5\\x9c\\xd7\\x10\\xb4r\\xb1\\xb9\\xe3\\x03x\\xfeG\\xaf\\xfd\\xa6\\x84\\x82\\xf6g\\xad\\xf59\\xad.\\x85\\x94\\xa9\\'\\x9d\\x1f\\x08\\xb3\\x9c\\xefL\\xf3\\x19?\\x19\\xc8\\xc8\\xf8\\xc8\\xc7\\nJ\\x8b[\\xd9[W\\xd4\\x12\\xf1\\xa6\\xb2\\x89\\x9dX\\xfa\\xa3\\xc3\\xf9\\x8a3\\x91\\x8d\\xacr3\\xd7\\x19\\xe0\\xf4\\xf9\\x10\\xd6\\xb6wo\\xd0\\xff\\x00\\x86\\x13D\\xf0\\xecw2\\x01\\xf6\\x9b\\xa5\\xdcp\\x0f\\x0b\\xed\\xcf\\xf7\\xd2\\xba\\xfd.:No\\xb7\\xfd\\x8e?Q\\x93\\x93\\xe2\\xbaF\\xf9\\x8e+\\xa8\\xe7#4\\x01\\x0b\\x8cS\\x10\\xccQC>-\\xd4\\xb6\\x8b\\x8d\\xa24\\x00te\\xaf%tz\\x80x-M\\xe4\\x8c\\xd3#D\\x14\\xff\\x00\\x98\\x0e\\t\\xad?J3\\xfdG\\xae\\xa3_0\\x98X\\x10?|SK\\xc0\\xa4\\xfc\\x90\\\\\\xcfq<H\"\\x99\"\\xdd\\xe9\\xe3\\xfa\\xd5\\xc21Oh\\x99I\\xb5\\xa6]\\xd348\\xe3\\x99V\\xe5\\x95\\xe6q\\xc1\\x07\\xa9\\xa6\\xf26\\xbd\\xa4\\xa8(\\xf7\\xd9\\xd2\\xf4= \\xe9\\xd0\\xa7\\xda\\x04xQ\\xe9*\\xe38\\xaeyK\\x96\\xcd\\x94kEK\\xf7xZC\\xb4\\xb0s\\xfb\\xd8_\\x83O]\\x82N\\xc9\\xadd\\x9a\\xd3S\\x82\\xf6(\\xc1\\x86\\xe2\\xcd-\\x99\\xb7gc\\x06b\\x08\\xc8\\xf7#\\x8e3\\xf5\\x15\\x9a\\xfd.\\x8d\\x1a\\xf0\\xcc\\'\\x8c/?\\xc4\\n X\\xd2\\xe5\\x89\\x12\\xb0`\\xa1\\xce89\\xec3\\x81\\xf8\\xf6\\xaa\\xc6\\xafl\\xd1\\xcb\\x86\\x903B\\xf0\\xe4\\xda\\x8e\\xa8\\xb6\\xf7\\xe1\\xe2D\\x88\\x99\\x11\\xc0W\\xdb\\x8eH\\r\\xcbc \\xf0\\x08 \\xfbsZ\\xb9\\xa4\\xbd\\xa6m\\xbf\\xe8l\\x97\\xc0v\\x16O\\x01X\\xa2x\\xfb5\\xc0*T\\x81\\x82\\x1dW\\x87\\x04\\x02\\x03\\x03\\xd0\\xe4\\xee\\x15\\x9b\\xce\\xdfd\\xf0,\\xda\\\\\\xc5\\xa4<\\xc8\\x88\\xe6+e\\xc4\\xd1\\xc3\\xc9\\x0b\\x8e=# \\xf1\\xea\\x04c\\xa7N\\xb9\\x97\\xee\\xfe\\xa5!\\xf7\\xf77\\x1a\\x90\\xd9d\\x88\\xbfh\\x12\\x06P\\xe1\\x99\\xb00$\\x8ct~\\xa0\\x15<\\xf5\\x1c\\xe6\\xa61K`\\xdb\\xe9\\x81.\\x8cV\\xd1\\xa4\\x96\\x05$\\xb5\\x8e\\t\\r\\xd8\\x86S\\xbe\\x16ER\\x01Q\\x9c2\\x91\\xb4\\x8e\\xbc\\x83\\xf5\\xa4\\x9b\\xbb\\xef\\xc0\\xad/\\xd8\\x11\\xe1\\xdb\\x85\\xfblw\\x8b\\x01F\\x89Y\\xd2b\\x00\\r\\xe6z\\xfa~\\xc8\\xdd\\x83\\x81\\xc8\\x1b\\xb3\\x91\\x8a\\xd6W\\x1dY*\\xa4\\xae\\x81>\\'\\x8a\\xe3\\xfcZh\\xec\\x84)\\x17\\x92g\\x81T\\x051\\xc3\\xb4\\xcb\\x85\\xec\\x07\\xa9Fs\\xc9\\x1d\\x06H\\xada\\xc5ve>M\\xe8\\xc8\\xe9Ze\\xc6\\xadwk\\x04\\xb2\\xaaE)\\xde\\x02\\x8c\\x12\\xbf\\xb4W\\xf0\\x04{zk\\xa2SPM\\xa3\\x9e1st\\xce\\xe3s\\xa8\\xfd\\x96\\xea\\xe6\\x1b\\xc2\\xdel\\xf1\\xc5xa\\x86,\\x14\\xb7H\\xc3H\\x14\\xf7\\xe5q\\x93\\xd9\\xb3\\xceEy\\xbc/g\\x7f*\\xd0:}.{\\xadni\\xdd%G\\x985\\xccq\"\\x94S\"\\xc6\\x18z\\x9b%HgB\\xc7\\xb1A\\xdcUsJ4O\\x1bveV8\\xecm\\xe4{h\\x91\\x99\\xae\\xc5\\xbcSD9\\xe8\\x140\\xea\\xc7$\\x12=\\xc0\\xeb\\xef\\xa5\\xb9=\\xbf\\x02\\xae*\\xe8\\xdeGge{\\xa2O\\x1b\\x87\\x92\\t?W(\\x1e\\x83\\xe5+q\\x12\\x82~\\xf1(\\xbb\\x8fS\\xc0\\xe0\\x1e0\\xb7\\x17h\\xd2\\x93\\xd39\\x8e\\xa36\\xb5\\xa7j\\xea\\xaf\\x08\\xb7\\x12:y\\xd0m>Xb\\xe5\\xb6\\x909\\xc6\\x18c\\x9e\\x9c\\x0e\\x08\\xae\\xc8\\xacr\\x8d\\x9c\\xad\\xce2H\\xd7h\\xb7\\xd8MM\\xf5+\\x96k)I\\x12\\xef\\x93\\x05\\xe4\\x04\\xae\\\\g\\x00g\\x08\\x00\\xe3\\x87=\\x05r\\xe4\\x85\\xd7\\x1e\\xce\\x98K\\xbb4\\x1ae\\xb4Zt35\\xa1f\\x87\\x1b\\x1d]\\xc8f\\xe5FNy\\x03\\xb68\\xe8:\\x1c\\xe3\\t\\\\\\x9d3UIXcX\\xb0\\x0f\\xa7\\x97\\x1edK\\xb7\\x90\\xab\\xef\\x8e?\\x97\\xd7\\x8eqF9S\\xd92\\xd87J\\xbd\\xb9\\x82t\\x16\\xecd@0\\xb1\\xdc2\\x81\\'\\x1f\\xbc\\xa3\\x04\\xfdF:c\\x15\\xd1\\xa6d\\xd1\\xac\\xb6\\x9e+\\x88<\\xa9m\\xc1\\xc9\\xc9\\xb7\\x99@#\\xd9\\x90\\x9c\\x8c\\x8f\\xc3\\xf0\\xa9\\xb6\\x14YY.\\xccq\\xbcQ\\x0b\\xb8\\x0ev\\xb0o.U\\x1e\\xfbI+*\\xfb\\x80s\\xedT\\xb6*\\x07j\\xd0\\xae\\xa3l$\\x87c\\xcd\\x0e6;e\\xc3\\xa9\\xe3\\x0cz\\xa9\\xea2s\\x8e9\"\\xad\\x02\\xd3-\\xfe\\x8e<\\x17>\\xb7\\xadEs|wZ\\xda\\xb12+\\xc2\\xa1\\xb3\\x9e\\tn\\xbb\\xbb\\x1cpz\\xd3\\x8e?\\xa8\\xf8\\xae\\xbc\\x8b.E\\x05\\xf7>\\x87\\xf4\\xc6\\x8a\\x88\\x02\\xaa\\x80\\x00\\x1d\\x00\\xafC\\xae\\x8f<\\x8c\\xbfZ\\x00\\xf0l\\xd0\\x03[\\x9a`3\\x1f\\xde(\\x11\\xf1F\\xb1\\x11y\\x15\\xad\\xe2\\x0b\\x8fV\\t\\xe0\\xd7\\x93\\x17]\\x9e\\xac\\x93}\\x15[\\xf5\\x90y\\x86]\\xa3\\xa1\\xc7j\\xb3?\\xb9\\x05\\x9chKn\\x9b\\x03\\xf7\\x9a\\xad\\x92\\x16\\xb0\\xd3\\x96\\xe2?J\\xc6I<9\\x18\\xcd\\x0eT.6it=.?=D\\xaa\\x9b\\x87J\\x89I\\xd6\\x8aI\\x1aY\\xd3\\xc8\\x87\\x04\\x02\\x14|\\x8e+2\\xa8\\xc9j\\xf7\\xb1\\xf9\\xa7\\'f\\x07\\xa1B\\xf2O\\xe2I4\\xdamh\\xb8\\xe8o\\x87\\xb5i\\x12\\xc7Q[\\xed\\xf0\\xc9\\x10-\\x12\\xb2\\x82\\x18\\xf6\\x18$c\\xf9~5\\x12\\xa8\\xbdy-\\xa7%\\x7f\\x06*\\xf0\\xbe\\xa1{t\\x04\\x1eY\\x9b;Js\\xb1\\xb1\\xb9\\x94\\x91\\x9e\\x08\\xcf\\xf7\\xc5k\\x15\\xc7\\xc92\\x97#\\xa2\\xf8QSO\\xd0-c\\xbc\\x99n\\xac6\\xee\\xb7\\x17j|\\xeb3\\xfb\\xaa\\xc7\\x04 9\\xc61\\xd7\\x8e:\\xe3\\x92V\\xf5\\xd8\\xd2\"\\xbc\\xd5\\xe4\\x96\\xf6Kb\\x86;`2\\xb2\\xab#\\x86\\xe0\\xe4`\\xf4#\\x07=\\xf2>jx\\xea\\xc6\\x9f\\x80!U\\xb7H\\'\\xb6fy\\x1cH\\xa1\\x98\\xaeF\\x14\\x92\\x00\\xfb\\xd8\\xe0p3\\xd7#\\xa9\\x07M\\xbe\\xc5\\xa4G\\x04\\x08\\xd6h\\xb7)$q\\xa3y\\x91^\\xab\\x91\\x89\\x01\\xe3!{\\x90B\\x9cg\\xf6N\\x08n\\x1b{u\\xfc\\tu\\xb0tV\\xf7\\xb7\\xba\\x83\\xcbx\\xf1\\xfd\\xa1\\x9d\\x9a\\xda\\xed\\x94*LI\\xc7\\xeb\\x19}\\xfd \\x9c\\xe4d\\xf5B6\\xec\\xe5\\x1aH\\xc9E\\xdbemBY\\x91\\xe3\\xd3\\xaeW\\xc8\\x991qz\\xac\\x03\\x1bs\\xb7a.\\xa0z\\x90\\x1c1\\xc7Ld|(\\xc7\\xb7\\xfc~|\\x8eRo\\xfb\\x97.\\xb5\\x05\\xd4,\\xed\\xaf\\xed\\xc4^m\\xe5\\xb8\\x8efP\\x8c\\x91H\\x84\\x80\\xaeq\\xd3v\\xdc\\xe0`\\xe4\\x1a\\'\\x1ai\\x0e\\x0e\\xd5\\xa1\\xde\\x05\\xf0\\xf3\\xc3\\xaaAss\\x08\\x13Om<SX\\xca6\\xc9\\x18g\\x0c\\x14\\x0e\\xc0\\xee\\xc7\\xb9\\xdfO&U$\\xd2\"\\x18\\xf8\\xed\\x92\\xeb\\xba\\xd8\\xb1\\x92\\xd5\\x1c\\xf9\\xc2\\x19\"\\xcbgo\\x98\\x14\\x9c o\\xbd\\xb4a\\x01\\xf7\\x0b\\xf3\\xc4\\xc2<\\xb6\\x8a\\x9bK\\xb0\\xb8\\xd55\\x0b\\xbd\\x16{\\x8bY\\xe310\\xccB_P\\x89\\x0c\\xc5y\\xc63\\x84\\x04\\x96\\xfa\\xe0\\x1c\\x8cf\\xe2\\xbc\\x96\\x9b}\\x024\\xb4\\x9a\\xf3S\\xb1EG\\x9d\\x92g\\xbd\\x90\\xbf\\xea\\xc6\\x17vs\\x8e\\xe3\\x0b\\xc7\\x1f$c\\x83T\\xff\\x00\\x81\\xf94\\x9aQ\\x83H\\xb9\\x92\\xde\\xd5\\xed\\xa4\\x12\\xb0\\xbaXFN\\xd4;\\xbc\\xb5<pH \\x85\\xe3\\x96\\xf6\\x04\\xd0\\xd3\\x92\\xd9&\\x0f\\xf4\\x8dun\\xf7\\xe9\\x7fk+HK\\x80\\xb3F\\xdbwyY\\xf3\\x1d\\x14\\x8e\\x8c\\xe4\\x80\\xdd\\x06\\xdc\\x93\\xc8\\xae\\x9c\\x0b\\\\_\\xe5\\x98\\xe6\\x7f\\xeeE_\\x0bK\\x1e\\xc9/$\\xb1sqk\\'\\x9e8\\x0b\\xb5\\xceyRp\\x01,p3\\x9cg\\xaf\\x18\\xa5\\x96\\xd3\\xab\\xec\\xact\\xd5\\xb4ht#}\\xa8\\xeaV\\xed\\x0c\\xb1\\xca,\\xcbI7\\x90\\x9b!\\x04\\x92\\xa5\\xb76K6N\\xd0\\xc4~\\xf1\\x1c\\x91Y\\xca*\\x9a^JM\\xbd\\xb3yl\\x925\\xac\\x96\\xa2\\xee\\r\\xe7\\x95\\x18yX&2X\\x9c\\x8ey\\xea[\\xa9\\xfa\\xd6\\x15\\x14\\xed\\xb3M\\xbf\\x00}SH\\x86\\xd7d\\x93^\\xdc\\xe4)\\xc6\\xc8\"R\\x0e\\x06X\\xb6\\xe1\\x91\\xf0\\x0e\\x07\\xd75\\xacrE\\x91\\xc5\\xa2\\xef\\x87\\xf5x\\xed\\xd5\\x96Md\\xcdo\\x9e\\x12h\\x94`\\x03\\xd48$0\\xeb\\xc1\\x19\\x153\\x8a}h\\xa5h\\xd2Gqh\\xeb\\xe7Z\\xc8\\x8c\\xe4\\x87?g\\x97\\xcai\\x07\\xb9\\x0b\\x95s\\xdb={RZ\\xecMx*\\xdcOgy6\\xe9\\x9a\\xe2\\xcad\\xcb5\\xc9`\\n\\x8e\\xe0\\x91\\xc1\\xcf\\xcf?5\\xa3v\\x14\\xe0\\x8e\\xf3\\xe1\\r54\\xcd\\x12\\x08\\xe3@\\x85\\x949\\xf7\\xe6\\xbb\\xf1C\\x8cO?$\\xb9J\\xc2\\xce3Z\\x10G\\xb0\\xd0\\x02\\x85\\xc5\\x00{\\x14\\xc0\\xf6\\x05\\x02>%\\xd5#\\x16\\xd2yV\\xfb\\x89<\\x95np+\\xca[\\xdb=N\\xb4\\x8c\\xfc\\xd1\\xcd+9\\x8eE\\x88\\xa9\\xfb\\xaep\\x0f\\xe1Z\\xc5\\xa4g$\\xd8SO\\xb1y\\xa1\\x12>\\xd6\\x1d3\\xf3G*t\\x85V\\xad\\x9b=\\x12\\x10b\\xdb\\x84\\xc1\\xf6\\xf5\\n\\xcd\\xf6R\\xd24\\xfakE\\x13\\'\\x96\\x15\\x8a\\xe5q\\xc8\\xcdL\\x86\\x8aZ\\xfd\\xf4E\\x19\\x15ZY1\\x90\\x81\\x80\\x02\\xa5\\x15Vgl\\xe2D\\xb6\\x92\\xea\\xe0.\\x1b\\xa4r\\xf1\\x81\\x9e\\xa0\\x90j\\xe7\\xf0\\x81\\x00\\xb5]b\\x11,\\x8c\\xb3\\x16H\\xd7g\\xa8\\xa8~{/\\xef\\x0f\\xec\\xd6k\\x1d\\x9a)\\xd1W\\xc3\\x96w\\xf7\\x1a\\x90ei\\x05\\x8b0\\xdf\\x13ee\\x84\\xf7 \\xfe\\xc9\\xe8s\\xca\\x9e\\xfdpt\\x9bJ?r\\x15\\xb7\\xf65\\x17\\xfa\\xecB\\xdb\\xc8k\\xb5\\xb5\\x95d\\xdb\\t\\x08Z\"\\xca@*\\xff\\x00\\xfc\\x86Fq\\xb4\\xfbt\\xca8\\xdftS\\x92\\xea\\xcc\\xfd\\xf2\\x03\\xe4\\xbb,RIr\\x87\\x11\\xdb8b\\x18d\\r\\xad\\xc8#\\x9c\\xabrq\\xe9=2u\\x8e\\xbf\\xa1\\x0fek%\\xbd\\xb3\\xb3\\xb2\\x92\\xda\\xccL\\x92$x|)+\\x82x|\\x05 \\x8c\\xe40\\xc1\\x1e\\xfdi\\xc9\\xc6M\\xdb\\x04\\x9aA\\xd2eI\\x84\\x90_C\\x1d\\x9e}\\x1ej\\x13\\x1b\\x13\\xce\\xd6\\xdb\\xf7\\x81\\x07\\x18\\x19\\xcfJ\\xc7^V\\xcd;\\xe8\\x1f\\xb8&\\x9e\\x05\\xbcV\\x12\\x89Y\\x92U\\x9df\\xd8\\x1b\\x80\\x15\\xdb\\x19^\\xb8W\\xce=\\xf9Pkd\\xad\\xec\\x86\\xdf\\x80/\\x8a\\xb5\\x19\\x85\\xc4\\xb3D\\x1a\\xdd\\xe0\\x80Es\\x14\\xa5X\\xa2\\x1e\\x1a\\x1c\\xa8\\xe3\\xf6p\\xc3\\x86\\x18a\\x83\\xd7\\\\p\\xd5?\\xcf\\xb9\\x8c\\xe7~\\xe3)\\xa3Nmu \\\\)0\\x97h\\xe3S\\x92\\x1b\\x04\\x13\\x8f\\xda\\x1e\\xe3\\xdb\\xe9[\\xe4W\\x1d\\x18\\xc1\\xd4\\xb6u\\xf42\\xa6\\x93\\x1b\\x98=J\\x8c\\xef\\xe5\\xb0b\\xac\\x14\\x0c\\x93\\xdc\\r\\xad\\x80{.GZ\\xf3\\xdbVv\\xa5\\xe0\\xe6\\x17\\x90_\\xea^7[y\\xd4\\x84\\xfbR\\xe4\\x93\\x95T\\xca\\x83\\xf9g\\x07\\xe4\\xd7f7\\x15\\x8a\\xd1\\xcb\\x91I\\xe4\\xa3\\xa5\\xe9:\\x1cCH\\xd1\\x95\\xa7\\x8a\\x10\\x17k\\x07$\\x94\\xb7\\x8c\\xb7\\xab\\x1d\\x19\\xdd\\xc8\\x19\\xf6S\\xc1\\xc0\\x15\\xcb9\\xdbm\\x9b\\xa5T\\x91\\x07\\x87\\xc3]x\\x96\\xf2(aE\\x82H\\x18\\xc6\\x17s\\x86R\\xca\\x8f\\xe6}A\\xf8\\xeap\\x0f9\\x99~\\x92\\xefe\\t5I\\xff\\x00\\xc5\\x1a(\\xe2\\xb8k\\xe9gx\\xa4\\x92@Ay\\x18\\x95\\xc2\\x01\\xc2~\\xe2\\xed\\xce\\xd0[\\x92I\\xab\\xadY\\x1a\\xe9\\x0b\\xe2\\xdd5,m\\xf4\\xabkK\\x16\\x99\\xe1\\x85`\\x96W]\\xb1\\x80\\x83#$\\xf4\\x01\\xbd[F3\\xe9,xAU\\t\\xf2\\xb6\\xdd\\t\\xc6\\xbaDGP\\xbd\\x868d\\xb6\\x86\\x18\\xd5\\'G\\x11\\xcc\\x02\\x15\\x93\\x05\\x15UO\\xder7m\\x188\\xe4\\xed\\xe9R\\xa1\\x16\\xf6S\\x93J\\xc3w\\xb6*\\x89%\\xbd\\xce,m\\xc1\\xccb\\xe0\\x95Xd\\xce?\\xcb_\\xd6I!\\x079`>\\xf1\\x03\\x1d)[}\\xb2\\xb5\\xe0\\xd3xwN3\\x80\\xdau\\xe8\\xb8\\xb3\\xe8fe*\\x1f\\x00p\\xa1P)P;\\x8d\\xc3\\xa60*e\\x14\\xd6\\xc5a;\\xf8\\xac\\xae!\\x92\\xdd\\xa7>\\xad\\xbcZK\\xb0\\xf7\\x03s\\x80q\\xd0\\x8e\\xbfL\\xd2\\x8a\\x8cwv\\x0e\\xdf\\x83!\\xad\\xc6\\xda-\\xb4\\x97\\x1a^\\x93\\xa7\\xd9<\\x84\\xb3\\xca\\x10]n\\xf9`N\\x03g\\xf6\\x80\\x1d{b\\xb6Rl\\x16\\xf5\\x7f\\xe0\\xab\\xe1\\xcf\\x11\\xea\\xb7g\\xf5z\\x8c\\xe1\\x1dp#P\\xa2(\\xcf\\xfa09\\x1f\\x1d~\\xbc\\x1a\\x89Nvk\\xf4\\xf1\\xf1\\xeba\\xd0u\\xbb\\xbdSIG\\xbe\\xbb\\x11\\xcfs\\x1207\\x07k\\xae\\xe1\\xbbi\\'q\\xe0\\x1e\\xb9\\x1fJ\\xd1I\\xb6s\\xb5\\x14\\x9e\\x8f\\xa8\\xed\\x95<\\xa1\\xe5\\x9fH\\xe0\\x10Mz)\\x1ep\\xf3\\x91\\xfe\\xa1\\xfci\\x81\\xec\\x83@\\x1e\\xe2\\x80\\x1ah\\x01(\\x03\\xe3Sh$TUbg\\xc7\\xf9\\x98\\xed^M\\x9e\\x9aF{Q\\xd3\\x96\\x0b\\x9f\\xd7)c\\x9c\\xe7<\\xd6\\x91\\x91\\x12\\x8b.\\xe9\\x93*\\xa2Ah\\x1c\\x178\\xe4\\xd3j\\xf6\\xc9Z\\xd25\\xda|?\\xe1\\xa9\\x1a(}\\xed\\xcb09\\x19\\xa8o\\x93*\\xb8\\x87`\\x92Ype\\x91@Q\\xcf\\x188\\xac\\xe5]\\x14\\x80\\xb3y\\x97\\x9a\\xabG\\x19Sl\\x08\\xde\\xa4\\x8d\\xdf=\\xea\\x94RV;&\\xbf6\\x86\\xdc\\xdb\\xfd\\xc8y\\xde\\x112F9\\xed\\x9c\\x1f\\xe1P\\xdb\\xbbCFW\\xff\\x00\\xa6\\xad\\xf5=EV(\\xae\\'\\xb3\\xdd\\xb8\\x12v*\\x1e2K\\x0c\\x8c\\xe3\\x91\\xdf\\xe0\\xd5}G\\x05~G\\xc5I\\xd34\\x9a\\xed\\xc5\\xbe\\x97\\x01\\xb4\\x92\\xe6;p\\x8b\\xb29\\xaf`+\\x03\\xb1\\xe4)\\xc6\\x17=\\x1b\\xa0=H\\xc5e\\x8e-\\xbb\\x1c\\xe5\\xe0\\xccG3\\xfd\\xaad\\xbe0\\xdb\\xdf1\\xdd\\xe6I\\x87\\xb7\\x9d\\x88>\\xac\\x80\\xe5_\\x93\\x87R\\xa7\\x1cr8\\x1d\\x15[]\\x19\\xf7\\xa2\\xdc\\x1aU\\xda(\\x86Y-\"\\x82\\\\\\x13o\\x10U8$\\x02\\xcaTu$s\\x9c\\x10Fy\\xe9P\\xe6\\xbb)/\\x019\\xedl^x!c7\\x96\\x0eA\\x99\\xc7\\xdf\\xe7\\x19e\\x19*>\\xbe\\xe3\\x90j9j\\xe8\\xaa\\x07j\\xc1\\xade\\xdf\\xf6\\x0b\\xcbic\\x8c\\xfaQ\\x98\\xc2\\xa9\\xd4\\xed\\xc2\\x10A<\\x8fI\\xeb\\xc8\\xefU\\x06\\x9a\\xf9\\x07aM\\x17P\\x8a\\xee+[+\\x89o\\xc7\\xa0\\x88P\\x95oN0\\xcd\\x1b\\xe46\\x00<\\x8ev\\xfb`\\x9c\\x0e\\x93\\xb4*f\\x1f\\xf4\\x89\\xa0\\x9b(d\\x96Y\\xa6w\\x80\\x08\\xfc\\xd7\\xc0Y\\x00\\x1e\\x97E\\x1c\\xedl\\x90A\\xe4\\x1e\\x99\\x07\\x8e\\xbc97\\xc4\\xe7\\xcb\\rY\\xcf\\xb4\\xebY.5\\x1bh\\xd0\\xf92+\\x87$c!\\x879^\\xd9<q[\\xceJ1l\\xc6\\x10r\\x92G\\xd0\\xde\\x1a\\xb21\\xe9\\x10[\\xc9\\xe5\\xc9\\'\\x038;pF\\xd6\\x07\\x1f!\\x88\\xfc\\xbd\\xeb\\xca\\x93Og\\x7fG:\\x10\\xcb\\xa7~\\x92-\\x929%\\x07\\xcb\\xda\\xfdHn\\x06\\xe5\\xc9\\x1c\\x1c\\xfe\\xefN1[\\xc5\\xa7\\x85\\xfe\\xe6r_\\xf5\\x17\\xecl\\xb5\\x01\\x0c\\x1a<\\xb0\\xbc\\x925\\xf3\\xc4\\xb1\\xefA\\xb68bB\\xdeZ\\x8f`An\\xa7\\'\\xe4\\xe4\\xd6\\\\\\x9d\\xe8\\xd1+\\xb6\\xc8<7f\\xebi\\x134\\xc24\\x90\\xb33\\xa4@\\xaeB\\x99ZV\\xcf\\x1bTz@8\\x19<u\\xc56\\xd3bz@\\x8d6\\xeaMK\\xc6\\x0ban\\xb6\\xe3`f\\x8f\\xcbbK\\x95\\xe3.\\xc0\\x02\\t=;\\x80\\x08\\x1c\\xb1\\xab\\x9cj\\t\\x93\\x19{\\x9d\\x95\\xff\\x00J:\\xa8]N\\xda\\xd6\\xc9fi\\xd4\\x86\\x91Cyh\\xab\\xd4#\\x10r99\\' \\xe4\\x9e\\x84\\x02/\\xd3\\xe3M9>\\x88\\xcb6\\xa9.\\xcc\\xcf\\x86\\xf5I\\x85\\xc4\\x8e\\xef\\x1d\\xa4\\xf2+,\\x13\\xc6\\x83j)\\x18*\\xb9`\\x08\\xed\\xc9\\xe9\\xdf\\x9a\\xdb&?\\x8d\\x99\\xe3\\x9b}\\x9d*\\xc1m4\\xdb\\x9bkqh\\xd7w\\xcb\\x18\\xf3^4\\xdb\\r\\xbe\\xe1\\xe9\\xf4\\xa0\\xcc\\xa4\\x8e\\x83\\x91\\xf2y#\\x99\\xebh\\xe8\\xbf\\x92\\xef\\x9e\\xfa\\xdd\\xa5\\xd3Ize\\x86\\x11\\xb4Al\\x8a#V\\x04\\x9eT\\x9e[\\xaflg<7Z\\xcaM\\xda\\xb2\\xd2^\\x04\\xb4\\xb8Qn\\xad7\\x9dh\\xc0\\x93\\xe5\\xb9,F\\x07&L\\x0c\\'\\x18\\xe3<\\x02:\\xf0(\\x92i\\xebd\\xa7\\xf2\\x1a\\x06\\xda\\xed|\\xb9|\\xc5\\x95\\x86\\n5\\xbf\\x00c\\xb0#\\'\\xa8\\x1c\\x9a\\x85)&6\\x95\\x01n\\xb4\\xb7\\x8ee{(<\\x85V\\x1b\\xa5\\x8b%2;\\x10x\\x1c\\xf3\\x85\\xc0=8\\xad\\x9c\\x93[&6t\\x7f\\xd1\\xad\\x84\\xda\\x8e\\xa3\\x14\\xee\\xa7bbBJ\\x10X\\x8e\\xf9\\xff\\x00z\\xdb\\xd3\\xe3\\xe5+~\\x0c3N\\xa3H\\xed\\x81\\x062\\x06\\x1b\\xf9\\xd7\\xa2p\\x9e\"\\x80\\x18\\xd9\\xa0\\x06\\xe6\\x80\\x15y\\xa0\\x07\\xed\\xa0g\\xc7\\xa5B\\x8c\\xda\\x05\\xf36\\xfd\\xd6?\\xce\\xbc\\x9f\\xdc\\xf4\\x97\\xd8\\xc7kr\\x97\\xbe\\xfdz\\xe2U\\xea\\x14\\xf1[A\\x19\\xcc\\xbf\\xa5\\x14\\xfbH\\x91\\xddb\\x00zp\\xb9\"\\x9c\\xb6\\xa8K\\xbb5\\x16\\xd1\\xac\\xd7(`\\x92I\\xc9\\xee\\xbd\\rf\\xf4\\x8b[\\xd8s\\xec\\xc2\\xda\\x1c\\xdc3\\x8c\\xfb\\x91\\x9f\\xa75\\x9b\\xbf\\x05#9\\xa8;nS\\x18%\\xb2B6\\x143s\\xdf\\x04\\x9e?\\n\\xd0C\\x93K\\xb8w\\rwq\\x9bb\\x7fY\\x039.Gn\\xeaA\\xfcq\\xde\\xb2mx[4_sF\\xd0\\xa4\\x1aax-\\xe5\\x86\\xd65 \\xa3\\xa8\\xd8F1\\x9d\\xcd\\x83\\xf1\\x9c\\xb7\\x1d\\xeb5\\xb7\\xb2\\x9fTR\\x97M\\x8b\\xc8\\x83\\xcb\\x8e)-e\\x00\\xb5\\xa9\\xbc\\xc4|\\xf6\\x07h \\x8e\\xdd{`\\x01Z)\\x99\\xb8\\x94\\xad,-4\\xb8\\x8c\\xfaQI\\x1afey\\x1a\\x10\\xea\\x8f\\x9c\\xed\\xdf\\xb4\\x1cv\\x01\\x94\\xe39\\xe7\\xb1)6\\xf64\\x92!\\xbb\\xb4K\\x84[o*\\t$P$1\\xb0tBOg\\xdb\\xd7\\x8e9\\x1d\\xb0}\\xe9)4]\\x1a}?J\\xbbE\\x8c\\xbd\\xa6\\x93sl\\x89\\x8c\\xad\\xb3\\xef\\xe9\\xd8\\x0c\\xf7\\xcfl\\xfc\\xd4-\\x89\\xba+=\\xb4Ku\\xfa\\xcb(\\xed\\xe4\\x07t^|SFW\\xe4\\xa9\\'\\xff\\x00\\x909\\x1e\\xdd\\xabT\\xb4Co\\xb1\\x7f\\xc1\\xa1\\xb8\\xb9\\xb4p\\xcbm<g\\x9d\\xd9\\xc7\\x03\\xef$\\x8a9?\\xf5~c\\x19\\xa5Z\\x1f\"O\\x1d\\xf8v-WE\\x92IY\\xa4\\xba\\x8dq\\x9c\\x05}\\xa7\\xf6X\\x0e\\x1ct\\xe7\\xbf\\x1dOU\\x1c\\x8e\\x0c8\\xa9h\\xe5\\x1e\\x00\\xf0\\xe8\\xbc\\xd7\\x1e[\\x88\\xe2h-\\xf7$\\x85\\xb3\\x9d\\xcc\\x06\\xde=\\xf8\\xc8o\\xccV\\xf9\\xf2{i\\x0b\\x1c8\\xec\\xea\\xea~\\xcea\\x8e\\x07h\\xa2X# \\x8c\\xb0\\x1e\\xac\\xb8\\xc0\\xe78e\\x00|7\\xbf\\x1c\\xcb}\\x96\\xfb1\\x9a\\x86\\x8f=\\xde\\xac\\xd7H\\xb2\\xc2VF\\xdc\\xac\\xe3rnbSw\\xb6@\\xc7\\x07\\xb1\\xeei\\xa9%\\xa2\\x9d\\xbe\\xc6x\\xa6\\xee\\xe2\\xdbK\\xb7\\x86<\\xc8\\xcf\\xfa\\x95\\x82\\x06\\xdcY\\xc6\\x0c\\x8c\\xc3\\xfd#\\x00n\\xc9-\\xf09\\xa8$\\xde\\xc9w\\xe0\\xb9\\xad\\xdf\\xa6\\x93\\xe1\\x0b\\xc8\\x92\\xd7\\x93\\x9b;p\\xa7*U\\x81\\xc1\\xff\\x00\\xa5H\\xc1\\xe3\\xb7\\xceh\\x82\\xe5$\\xc4\\xd5hO\\xd1\\xd6\\x9ba\\n\\x0b\\x88ad|\\xac\\x126\\xd2\\xee\\xc0\\x01\\xbb\\xa7rO?\\xf9\\xa5\\x92R\\x93\\xd8\\xd4Tc\\xa3\\x9c~\\x93\\xee\"\\xbb\\xf1\\x85\\xc3Ck\\x1d\\xbd\\xb8>\\xa8\\xbc\\xf5rX\\x1c\\x12v\\x92\\x14\\xf08\\xe4\\xe0\\x0c\\xf3\\x9a\\xef\\xf4\\xda\\x81\\xc7\\x99\\\\\\x89\\xb4\\x9d\\x0fQk8\\xef,\\xe7)#\\x10\\xb1*\\x1fW\\\\n\\xf7\\\\{\\x80H\\xe7\\x18\\xebI\\xce-\\xf1h\\xa5\\x8d\\xd5\\xa6t\\xb6\\xb5Y4\\xe8\\xf4\\xe8\\xb5\\xc5\\x86\\xe3\\xd5\\xf6\\x8f6U\\tq\\'\\x1b\\xfdJ\\x19\\xff\\x00\\x0eq\\x9eA=9\\x1e\\x9d\\xb4t.\\x82\\x16CdMo+\\x1bw\\x04l\\x02$\\xdd(\\x03\\x8d\\xab\\xbb\\x00~\\x00\\xf55\\x9c\\xaa\\xec\\xa5i\\x015\\r2v2\\xcboy:\\xc9\\x16\\x193\\xe6 \\x8b\\x1dv\\x15\\xfb\\xcd\\x93\\xd7\\x91\\xef\\xcf\\x15\\xb4\\\\|\\x99\\xc9?\\x01M-\\xf5Eh\\xc5\\xc5\\xac\\x8bi\\xb7j\\xddIp[\\xcc~\\xacFpp2FJ\\x8f\\xc75\\x96HG\\xc3\\xb1\\xc2O\\xe0\\xbf|g\\x01\\x1d\\xee3\\x03\\x10O\\x99m\\xe6\\x10\\x07\\xd4\\xe0\\x03\\xee\\x06}\\x8dD]*-\\xc6\\xd9\\xbe\\xfd\\x16_\\xfd\\xaa\\xeew\\x86&dB\\x00bJ\\xe3\\xe9\\x968\\x15\\xe8\\xfa5\\xedvp\\xfa\\x9f\\xd4\\x91\\xd9m\\xe5-\\x18\\xdc\\xb8?=k\\xac\\xe6\\x1e\\xcd@\\x11\\x93L\\x06\\x11\\xdf\\xbd\\x00ys\\x9a\\x00\\x93?Z@|H\\x99&I\\x92W\\xd8:\\x93\\xd3\\x15\\xe6\\x7fC\\xd0\\xfe\\xa0\\xa5\\x9a+\\x8b\\x86f;\\xb3\\xd0\\xf4\\xcd_\\x16\\x85i\\x85-\\x11,\\xd7\\xccp\\xaeNpH\\xe8~\\xbf\\x88\\xa1\\xdc\\xba\\r$\\x1d\\xd1/\\xe66\\xc3h\\xde\\xbdX\\xa8\\x00\\xd4\\xca;\\x1a\\x96\\x82\\xe5\\xc5\\xc8\\xf3\\x1a\\xdc\\x84\\xc1\\xd8\\x85Y\\x8b\\x9e\\x9dG\\x00{\\xd4=y)o\\xc0\\xfbH\\xad\\xec\\xa3Y&X\\xed\\xa6~\\x0b\\x13\\xbd}\\xb0W\\x93\\x8e\\xc3\\x1d\\xea%&\\xf4\\xb6RU\\xd9\\xe9\\xad\\xe4\\x92\\xe3\\x12\\xfd\\xa6X\\x93\\x1f\\xad\\x10(B3\\x95\\xe4\\xfa\\x97\\xf0\\x15\\x1f\\xb1DWr[\\xda^Gsz\\x92[\\xb6\\xd3\\x1a\\xce\\x8b\\xe6\\xee\\xce8a\\x92\\xa4g\\xdf\\x8c\\xd3V\\xd6\\x82\\xcfEwmug5\\xad\\xc4\\xf0L\\xa8\\xe5\\xa5Q3\\xedl\\x93\\x80\\xf1\\x91\\xb8\\x0e\\xbc\\x1d\\xa3\\xe7\\x184\\xb6\\x9d\\x8e\\x81\\x17Z\\xab\\xc1bl`{\\t-\\x97\\n\\x9b\\x1d\\x99\\x9d3\\x900O\\x07\\xdf\\xd5\\x91\\xf3V\\xe2\\xbb\\x12\\xb05\\xfd\\xc3\\xdb\\xa2\\xae\\x9dsm%\\xb8Vb\\x98k\\x93\\xc0\\xfb\\xa0\\xe4\\xe1y\\xe4\\xf5\\xe9\\xc55O\\xb47~\\x01\\xf0x\\x92\\xf1,\\xe4kx\\xdb*\\x00\\xd9\\xbd\\xb3\\xc7N3\\xb7\\xe4q\\x91W\\xf4\\x93\\x951r\\xa8\\xdd\\x17|;7\\x89\\xf5\\xcbd\\xbe\\x9f[\\xba\\xb3\\xb19\\xf2\\xa0\\x89\\xb0\\x19s\\x82y\\x07\\x82G\\x1fN\\xdcS\\x9b\\xc7\\x8d\\xf0\\x8a\\xba\\xf2`\\xe5\\'\\xeez\\xb2\\xaf\\x885\\x0b\\xbf\\x0cY-\\xc5\\xbd\\xe4\\xd2L\\xd2\\xfe\\xaf|\\x85\\xcb\\xb7q\\xc9\\xe0\\x0fq\\xd2\\xaf\\x1e%\\x99\\xba\\xe8\\xcd\\xe7\\x94<\\x86|9\\xfaB\\xbaHmf\\xd6-\\x85\\xc5\\x84\\x8a\\x0b\\\\B\\x99\\x920G%\\x93\\xf6\\x80\\xeeW\\x91\\xcf\\x06\\xb3\\x97\\xa7\\xdb\\x8a\\xec\\xd6>\\xa1yGG\\xd1\\xed`]=Z\\xc1\\xe3\\x9a\\xdd\\xc1\\x9a\\x17\\x18dp\\xdc\\xa9$u\\xff\\x00a\\xf4\\xaeN\\x9d3\\xad\\xbb\\xda\\x05\\xea\\x13\\xfd\\x96\\xec\\xfe\\xb0\\tr\\xe6\\x14\\x1e\\xb6\\x90\\xe39\\xc1\\xe9\\x82O\\'\\xfd\\xabH\\xab2~\\x0c\\xfd\\xe9\\x9d\\xeeR8\\x9b\\xce;\\x9c\\x06\\x11\\x05Eol\\x83\\xcf \\x92y\\xe7\\x8c\\xf4\\xcb\\xaa\\xe8\\xa4\\xedl\\r:\\x985\\x1f7\\xcd3$e\\xbfX\\xd8V\\x90\\x93\\xc9*:}\\xd29\\xe7\\x8ej\\x955An\\xec\\xb7\\xad\\xc7\\x1d\\xc6\\x93-\\xac1\\x86\\x95b\\x8cB\\x1d\\x80R\\xc3j3\\x9e\\xc3\\x18\\'\\x03\\xdc\\x13\\xd7\\x14\\x96\\x9d\\xb1\\xf6l4;\\x8b{\\x1bk{h<\\xa4\\x93\\xcb\\xff\\x00-X\\x94 v\\n0\\x08\\xceOQ\\x9e\\xfd\\xb3\\x9f{bg4\\xfd!xe\\xe2\\xf1\\x1d\\xb5\\xce\\x9dh\\xef\\x14\\xc0ot\\x8co\\x0c\\xd9l\\xe3\\x81\\x93\\x92z\\x002:\\xd7N\\x1c\\xab\\x8bRdd\\xc6\\xdc\\x93H\\xe8>\\x0b\\xf0|\\x11i\\xd1Mqoq \\xd9\\x87k\\x9b\\x95\\x19b?t\\x823\\x8c\\x8c\\xff\\x00*\\xcd\\xe5\\xe5a\\xc2\\xb4S\\xd64\\xcb\\xfb+\\x99\\xa2\\xd3\\xd4Z\\xe9\\xdb\\x15\\xa5\\x8a\\xd5\\x82\\xb4\\xb8\\xear\\xa0~d\\xe2\\x92\\xf7~\\xae\\xca\\xd2\\xe8\\x17\\x06\\x95\\xadE\\x0c\\xdfho.\\xdfpd\\rr\\xc7 \\xe3\\x04c)\\xd7\\xae2O\\xbfj\\xb6\\xe0O\\xb9\\x84d\\xb5\\xcc\\x12\\x01%\\xcc\\xf7f=\\xbb\\xd1Y\\xa2\\x04\\x1c\\x10\\xc8\\xe7\\x9f\\xc0t\\xf756\\r}\\xcc\\xbd\\xf4/\\xa4\\xdf\\x7f\\x88O\\xa6\\xc8n\\xad#\\xf2\\xe0\\x98\\xbb,I\\xdf\\x01\\x80eR2N\\xd0\\x01\\x03\\x93[/r\\xe2\\x9f\\x7f\\xc9\\x94\\xa9>M\\x1ak\\x98\\'\\xbc\\xb1\\x8e\\xe5oP\\xdd\\x84\\x0ec2g9\\x1dN\\t9\\xf9\\xeb\\xf1\\\\\\xd6\\x93\\xa6\\x8d\\x96\\xd1\\xb1\\xfd\\t\\xc8\\x92j\\xd2\\x19$cp\\xcb\\x8fB\\x1c~g\\x15\\xe8\\xfamZ8\\xbdF\\xe9\\x9fBB\\xaf\\xb0o\\xc5u\\x1c\\xe3\\xca\\xd0\\x03vP\\x07\\xb6P!J\\x8a\\x00iQ\\x9a`|E\\x03\\xf9\\x90\\x84X\\xe5\\ny\\x11\\x01\\xc6+\\xcc\\xa6z\\x16\\x8af\\xdc\\x8b\\x90\\xd7\\x10\\xf9Q\\x8f\\xba\\x80sM\\xbaZb\\xef\\xb4_\\xfbA\\xbdV\\xb6\\x01N\\xdc8$\\xfbpG\\xe4\\x7f\\x81\\xa7\\x15[\\x14\\x9d\\xe9\\x07,\\xf4\\xa9\\x17\\xca\\x85\\xa5\\x8a8X\\xe3q\\x93g\\'\\xb05.k\\xb2\\xb8\\xf85\\xd2\\xc3o\\x11X\\xa6\\x8dv\\xae\\x02\\xbeK\\x15l`\\x0c\\xfc\\xfd@\\xe2\\xb0\\xbb\\xe8\\xd0\\x1f\\xa9_b\\xd6_*G\\x0f\\x10\\x08\\xce\\xc1UT\\x8f\\xd9\\x04\\x8fO\\x19\\xfb\\xdc\\x1a\\x94\\xb7\\xb1\\xf8\\xd1OL\\x86%]\\xb3\\xdc\\\\\\xc4\\x0b\\xf9\\xaaZO3\\x1e\\xac\\xf1\\xc0\\xdc\\x0f\\xe5\\xd3\\x9ar\\xd8\\xd5\\xa2\\xbd\\xcd\\xfc\\x16W\\x84\\xdc\\x06\\x85\\x83\\xfe\\xa4B\\x80\\x01\\x93\\xfbm\\xce\\x1b\\x1d3O\\xc6\\x83\\xf73>\"\\xf1\\xaaM#\\xc5o\\xff\\x00\\x1b;\\xae\\x08\\x8c\\x82\\x0e9\\xc9!\\xbd\\\\~\\xc9\\xc5i\\x0c-\\xed\\xe8\\x99M.\\xb6g\\xc6\\x9b\\xack\\x8d\\xf6\\x8b\\xcb\\xd9\\xb4\\xf5\\x95\\xcf\\x97\\x04 !e#\\x1b\\x89\\x04n\\x18\\xf8?Z\\xd3\\x9e<zJ\\xc8P\\x9eM\\xb7A\\x9d+\\xc0\\xefk2\\xfd\\x93Q>^r\\xf1\\xaf\\xa9\\x87O\\xbb\\x91\\xc8\\xe7\\x8c\\x9e\\x9f5\\x9c\\xf2\\xf3\\xed\\x1aB\\n\\x1aL#\\xe2\\xbd\\t\\xb4\\x9f\\x05^\\x98[}\\xcc\\x8cO\\x9b\\xb4\\x06\\xe4q\\x8fa\\x8f\\xc6\\x9f\\xa6w\\x95Xgw\\x07A\\x9f\\x0b\\x08n<%\\xa7Kg\\x82\\x9eB \\x00r\\xb8P0;u\\xf7\\xa8X\\xdb\\x94\\xbel\\xe5\\x9c\\xaa\\x8e}\\xfaL\\xd6n\\xa0\\xd4\\xed4\\x86\\xb5\\x8d\\xc0\\xf2\\xe4Y\\x00\\xcb\\xb2\\x96\\xc8@\\x06\\x08\\xe4\\x1c\\xf2s\\xc5z^\\x9b\\xdb\\x8c\\xe6\\xc9\\xb6lt]0Y\\xe8z}\\xb4\\xd1\\xc9\\x14\\xf1\\x0fY|\\x1cg$\\xaeA\\xea\\t\\xeb\\xf1\\\\Y\\xa7\\xc9\\xb9#X*\\xa4]\\xfd\\x18jk\\x1e\\xaf\\xabhJ\\xcb\\xe5\\xdb\\xc9\\xe7B\\xa7\\xa2\\xab\\xfd\\xe5\\xfc\\x1b$\\x0f\\x9a\\xe7\\xcb\\x16\\xd2\\xc9\\xf3\\xfe\\x0fC\\x13\\xa4\\xe1\\xf0h|Sn\\xcbhe\\x8f)\\xcfP\\x06Fz\\x0f\\x8eH9\\xac\\xf1=\\xd1SZ2\\x90O\\xe5[F\\xb7P\\x03\\x04aLk\\x93\\xbbnQC\\x0cz\\x87=\\xb1\\xd2\\xba\\\\l\\xc96O,\\x00j\\xab+\\x03r\"R\\xfeHQ\\x8c3\\x9c\\x10\\x17\\xb2\\x90G\\xe0s\\x9cVu\\xaa*\\xfc\\x97\\x1e\\xde\\r\\xe0D\\x91?\\x97\\x1a\\x94T\\x18\\xfdc\\xb9-\\x8e\\xa7\\x90\\xa9\\xf5\\xf5t\\xa7\\xc7[\\x12\\x93\\xbd\\x1b-\\x1a\\xc4\\x98D\\xf7\\xe0\\x190\\x02\\x8e\\xa4\\x0e\\xb8\\xcf\\xf7\\xda\\xb1m\\x16\\x90\\x0b\\xc5\\x1e-\\xf0\\xfe\\x8dz\\r\\xf4\\xe6\\xeexwf\\x0bX\\x84\\x82/r\\xc7\\xee\\xabq\\xdc\\xd5\\xc3\\x0c\\xb2lS\\xcb\\x1cj\\xac\\x03c\\xfa^]RI\\x13I\\xb6\\xba1\\xc4}YT\\x0c\\x17\\xb6\\x01c\\x91]\\x0f\\xd3J=\\x98}x=l!\\x17\\x8c4{\\xe9\\xbc\\x9dF\\xe6k{\\xe7\\x01b7J#\\xdd\\xd7\\x85b1\\xf9\\xf4\\xcdO\\t/\\x05rOI\\x9ak{y$\\xf2\\x96\\xdey\\x81#\\xd4\\xb1m\\x9f<c\\x18\\xc2\\x9f\\x9c\\xaf\\xe6j\\x1d2\\x96\\x8170\\xad\\xb3\\xc9\\xbdd\\x9e\"v\\xbc\\xd0\\x11\\xbb\\x80@R\\x98\\xce\\x07\\xb0\\xc3sY\\xef\\xc1\\xa1\\x9a61^1\\x9a\\t\\xe6\\xb1w\\x90\\xcb\\xe7\\xc7+\\x81!\\x18\\xeb\\xcf\\x03\\x8c\\x11\\x95\\xfcz\\x9d\\xd4\\xab\\xf5l\\xc5\\xc7\\xe0\\xbdam-\\xbe\\xa8]\\xda&K\\x90P\\xa7\\x94\\x18\\xbb\\x1ew\\x06B\\x11\\xb8\\xf8\\x07\\xb5D\\xa9\\xad\\x14\\xad0\\xaf\\x85\\xf5q\\xe1\\xbf\\x17@\\xa9#y2\\x91\\xb8\\x10\\x17\\x1f\\xe9\\xc18\\x15\\xb7\\xa7\\x9b\\xbb2\\xcf\\x15G\\xd36\\x17P^[G4\\x0c\\n\\xb8\\xcfQ\\x9a\\xf4\\x8e\\x12\\xc9\\xa0\\x08\\xc9\\xc5\\x00{4\\x08\\xf14\\x01\\xea\\x00\\xf8\\xbe\\xdaI\\xb2V;\\x88\\x96&\\xe06=B\\xbc\\xcb\\xd6\\xcfGw\\xa2\\xa6\\xab\\x01\\xb7\\x87t\\x93\\t%<\\x0c\\xf7\\xa6\\xb6\\xc5\\xe0\\x8bM\\x8aF\\xb9\\x87\\x022\\xe3\\x92\\x98\\xc7\\x1d\\x08\\'\\xe9\\x9a\\xbb\\xad\\x90\\xed\\xba5\\xda$k\\x06\\xaa\\xb0\\x88T\\x80\\x9b\\xa3\\x9cDX\\xb0=\\xfa\\x8e\\xdd\\xfbsY\\xe4\\xb4\\xbb.\\x14\\xdfA+\\xc3u4\\r\\r\\xbb\\xdb\\xa2\\x1f\\xbc\\x1eY\\x1878\\xdb\\xb4\\x81\\xc7\\xe3\\xf8V\\t\\xab\\xb6h\\xd7\\xc1\\xef!\\xdcG\\x1a\\xcblg\\x0b\\xcaF\\xc5\\xe3^z\\xed\\xe4\\x83\\x8fq\\x83\\xfc)\\r:\\x04\\xeaH-cy.\\x87\\x98\\x0b\\x10\\xa0\\x03\\xb1\\x07\\xb2\\xe4c\\x7f^\\xb8\\xf7\\xc5W`\\xbb2\\xba\\x84\\x97\\xba\\xf5\\xea\\xd9\\xc6\\xf3Z\\x94\\xc1x\\x8cL\\x15\\x94\\x1cr\\xc3*[\\xa7#\\x1fZ\\xd2)Ar{\\x13w\\xa1l4\\xab\\r\\x029\\xe5q\\x0e\\x06<\\xdd\\xce\\xces\\xd7 \\x85\\xcb\\x01\\xecM)Ny\\x1dX\\xe3\\x18\\xc1ZG\\xad\\xee\\xdeY\\x91\"3\\xdc\\xd83\\x02\\x8c\\xa8IF\\xeb\\x92\\x84ci\\x03\\x1ct84\\x9a\\xfeJTi\\xf4\\x0b\\xcb\\x19nL\\xcc\\x96\\xd2H\\x1c\\xfap_x\\xcfbXl\\xe7\\xb6\\x17\\x9fpi+Z\\x13\\xde\\xcd\\xae\\xb1\\xa6\\xa6\\xab\\xa4\\xb5\\xb1\\x8d\\xa3b\\xa4\\x01\\',\\x0f\\xbe\\x06\\x7f:V\\xe2\\xd3\\x14i\\x9c\\x8fG\\xbf\\xb9\\xf0N\\xa7>\\x95\\xacf\\x1b\\';\\xa3v\\x07ly\\xecN3\\xb79\\xc1\\xed\\xd0\\xf4\\x15\\xd5%\\xcd\\xfdL\\x7f\\xd5\\x1c\\xb3\\x87\\x1fl\\xbf\\xa34\\xb2\\xad\\x86\\xa1}k\\xa8Iomqq\\x14l\\xb1L\\x93+\\xaa)\\xef\\x9f\\xe5\\xdf\\x93Y<\\xce\\x9cS\\xd3#\\xe9\\xb5\\xb6\\x81^(\\xf1.\\x9b\\xa2X\\xbb4\\xc95\\xde\\xdcG\\x1a\\x1c\\xed?\\xedS\\x18K+\\xe3\\x12\\xd2Q\\xf7H\\xcb\\xfe\\x84\\xef\\xa5\\xba\\xf1\\xd5\\xcd\\xc4\\xbfvX\\x1f\\xafs\\xb8\\x1a\\xe8\\xf5\\x91P\\xc4\\x92\\xf0_\\xa5ns\\x93gc\\xf1;\\xc75\\xa1\\x8bze\\xb1\\x92Fr3\\xce?\\x80\\xc9\\xf7\\xef^f7\\xee\\xb3\\xbeQ\\xf6\\x98{\\xe2\\xd6\\x9a\\x8b\\xc99\\x9e\\x16\\x95\\x02\\xee\\xb6+\\xb9d^7\\x8c\\xe4\\xf1\\x93\\x8e;\\xfb\\xf0;b\\xed\\x1c\\xadS,%\\xb4\\x93\\\\DauVE\\xc3\\xc7\\xff\\x00!\\x81\\xcbz\\x7f\\xf8\\xf3\\x8eH=\\xb2)\\'\\xe1\\x85y4\\xfa\\x140\\xdc\\xea\\xc9\\xbe6YJ9~\\xc3\\x01\\x94)\\x03\\xb6Fz{\\xe3\\xb5c\\x96T\\xa8\\xd3\\x1c|\\x92x\\xfb]h\\xafl4[6h\\xe7\\xbc\\x8d\\xae$p\\xd8)\\x18\\xe3\\x00\\xfb\\x93\\xc6}\\x81\\xa7\\x8a\\n^\\xe7\\xd19\\xa6\\xe0\\x9a]\\x9c\\xe7\\xc5\\xa6\\xd7D\\xf0U\\xfe\\xcb\\x18\\xa6\\xb8\\x9c\\xa4bU\\x00y`\\x93\\x93\\xc7Nzq\\xcf\\x04\\xd7~\\t{\\xf6\\x8f6k@\\xef\\xd1]\\xa5\\x83\\xf8\\x9ay\\x99\\xa5xb\\x86#\"$\\x05X\\xe4\\xa6\\xee\\xa0\\x0e\\xcf\\x8e\\xe6\\xba3\\xb4\\x92\\xb2 \\x9d\\xe8\\xd2~\\x95t\\xbbO\\xf0\\x17\\x9a8\\x9c\\xacsF\\xd1\\xf9\\xa0e\\xb9\\xe7\\x81\\xd3\\x8d\\xd8\\xae\\\\\\x7f\\xf7\\x92]3\\x7f\\xf6;\\x00\\xe9z\\xe6\\xa3\\xe1\\xe8!\\x89\\xe6\\x13[\\x94VT\\x9f\\x94|\\x8c\\xe4c\\xa1\\xfe\\xf2+)\\xc1JZ;S\\xa5\\xb0\\xf9\\xf1\\x07\\xf8\\x90Y\\xa4\\x91N\\xe5\\xf2\\xb7$\\xac\\xcd\\x8eO.\\xb9\\xc8>\\xa1\\xf1\\xf1\\xdb*\\xad\\x16\\xbeCZ|r^[\\xa41\\x95\\xb6\\x86U;\\xd5e\\xdf \\xe3\\x87V`\\x02\\x9e\\x83\\x18\\xc1\\xe0\\xd4\\xda\\xf2\\'e\\x95[\\x84\\x1b,\\xf1\\x1d\\xb8P\\x1d\\xb0\\x18\\x96\\x1c\\x06a\\x8c+\\x1crG\\x7fc\\xd5}\\xd8\\x89\\xae\\x92C:\\xdb\\xdcO,\\xa6I\\x15\\x83\\xec\\xdb\\xb9\\xbe}\\xc7\\xc9\\xeai\\xc1\\xf1|\\x90\\xa4\\xb9*gg\\xfd\\x1fk\\x82\\xe6\\xd4[\\xcb\\x03E,~\\x9c\\x94_V;\\xf0\\x7f\\xa5z\\xb8\\xf2,\\x91\\xb4y\\xd3\\x83\\x83\\xa6oC\\x06\\x00\\x8csZ\\x12#\\x0c\\xd0!\\xa4`\\xd0\\x02\\x8a\\x00Z\\x06|1m4\\x88\\xc8\\x87k3\\x1d\\xd9\\xf6\\xaf9$\\xce\\xd7h\\xbf\\xaa\\xc1\\x14\\xd1\\x873\\x16a\\xfb+\\xefI:+\\xbe\\xc1\\xb6\\xf6S\\xa9\\x12\\xcb#\\x96\\x07;?x{U\\xa9\\xae\\x91.,\\xdbx2yo\\x84\\xb6\\xd3\\x90\\x82\\x03\\x95\\x1c\\x04\\\\\\xf6?\\x07\\xdf\\xb1\\xf6\\x04\\xd6yREB\\xd8WS\\xbc\\xb5\\x8ec\\x0bG\\xe4K\\x10$\\x99d\\x00!\\xe9\\xc9<\\x81\\xf4\\xc7N3X\\xa8\\xb3F\\xc0\\xda\\xb5\\xe5\\xad\\x81\\x8e\\xee\\xfak@\\xd26 \\x9a42<C\\x19\\xe5\\x83e\\xb2z\\x02\\x0f\\xe3M+\\xd2\\x07\\xad\\xb3\\x1b\\xe2\\x1dQe\\x98\\x0bYf\\x92w!y\\x91QA<~\\xd8\\n\\xc7\\xe4\\x0c\\xe7\\x8e\\xd5\\xae<\\x7f+D\\xcau\\xa5\\xd8W\\xc3\\x1e\\x10\\xb9\\xb0\\xb3mR9T\\\\\\xbb\\xeeW|\\xce}\\x88%W\\x93\\xf1\\xd74\\xa7\\x97\\x97\\xb5t8\\xc3\\x8e\\xdfe\\x9dW\\xc3F\\xe2\\xd2\\xe6c?\\x97\\x14\\x8d\\x96\\xfd\\\\\\x83$\\xf5\\xe1\\x87\\xbf\\xb6Mg\\xca\\xa5\\xd1j\\x9a\\xa3-\\x03\\xff\\x00\\x80HTF\\xe6C\\xb9A\\xb4r0:\\x9c\\x8ex\\xc7n:\\xfe\\x15\\xaf\\xfd\\xc2\\x7fOC\\xadM\\xf7\\xda\\x85\\xe6\\x9fk|\\xd3NK\\x1f\\xb4\\x1c6\\x03\\x0e\\x9b@n\\x9c\\xe3\\x1d*\\xa5\\xc5*o\\xa2#}\\xaf&\\x83J\\xf1\\x9e\\xadi<V\\xc3\\xcd^p\\x00\\xb8\\x0f\\x199\\xf5\\'L\\xe78\\xc6GN*%\\x8d5vZ\\x96\\xe9\\xa3K?\\x89t\\x8dr\\xd4\\xda\\xf8\\x8a\\xc4F\\x9c\\x9f1P\\x88\\xc1\\xc0\\xcf=A\\x19\\xe7\\xfd\\xb9\\xac\\x9a\\x94]\\xc0\\xd1qz`\\x97\\xfd\\x1axv\\xfb2\\xe8\\xda\\xab\\xc0\\xac2D7\\x1e\\x9c{\\x91\\xef\\x9a\\x7f\\xea\\xf2/\\xd6\\x93\\xfd\\xd0\\xbf\\xd3c}Z(\\x7f\\xfa]\\xe1\\xebG\\x8a]J\\xea\\xe6\\xeaY\\x18\\xaa\\x86}\\xa2F\\x00\\x9e\\xdf\\x03>\\xd4?]\\x91\\xea(\\x7f\\xe8\\xe1\\xdb\\xd9\\x8f\\xb2\\x96\\xdf\\xc3\\xfe+a\\xa7z\\x9c\\x12\\x8259\\xe0\\x9e\\x07\\xf2\\xad\\xf2^l)\\xb2q\\xc68\\xb34u[I\\xbe\\xd0\\x8b-\\xc1-3\\x80\\xbc\\xe3\\x18\\x1d\\x80\\xec>z\\x9a\\xf3\\x95.\\x8e\\xb9Y^\\xf2 \\x1aIcE]\\xa8\\x00;\\x02\\xf1\\x9e9\\'\\x83\\xd4\\xfc\\x9cV\\xf1~\\xd3\\x9eKee\\x8a?68\\x8e\\x12^%\\xc0RPpNOq\\x9fO\\x1dN\\x07\\xb5\\\\e\\xab&Q\\xdd\\x1a\\xcd6\\xe5-.#\\x98q\\x8fA\\x04\\xf4\\xc0\\xe8\\x07\\xbf\\xcf\\xc5sI\\xb6o\\x14q\\xff\\x00\\x1f\\xf8\\x8eH\\xbfJ)\\xab\\xacd\\xda[\"\\xda1^\\x98\\x04\\xfeC&\\xbd,8\\xb9`\\xfb\\xbd\\x9ew\\xa8u\\x96\\x9f\\xecn\\xe5\\xb5\\xb1\\xd74y\\xd0\\x11=\\x95\\xe4{IR\\tRz\\x10=\\xc1\\xe4}+8\\xe4q\\x92\\x92]\\x18\\xb8j\\x99k\\xc2\\x9e\\x19\\xb5\\xf0\\xee\\x8f\\xf6hf\\x96S\\xbb3M/\\x06F\\x1d8\\xf6\\x1d\\x86}\\xebig\\xe4\\xf9I\\x90\\xa1\\xe1#\\x13\\xfaA\\xd7d\\xf1F\\xb5k\\xa1x|\\x19a\\x82M\\xd3L\\x87r\\xee\\xc6\\x02\\x8cu\\xda\\t\\'\\xe4\\xfcUb|o4\\xf5\\xf0i\\xc1\\xba\\xc6\\xbf\\xa9\\xb3\\xd5|9\\x1c\\xbaU\\x9a\\xaa4\\x89\\x0c!7\\xae\\x03\\x0c\\x0eO=\\xbd\\xc6+\\x81\\xb7\\'g\\xa1\\x16\\xa2\\xa8\\xc0]\\xf8we\\xb9\\x8a\\'\\x98G;afXJ\\x9c\\xfc08=\\xb8 \\x03\\xef[)\\xb4\\xed\\xf8!\\xa4\\xd5#\\xda]\\xe6\\xa7\\xe1\\xfdB\\xd6\\xdfR\\xd9u\\x11\\xc4j\\xb1\\xab\\x02\\x8cz\\x13\\x9e\\xe4v\\x19\\x15MBi\\xb8h\\x8ftiH\\xe8\\xd3\\xdd)\\xb5\\x86}>+Cm\\xc1f0\\xe3g8 \\xafB\\xbe\\xf8\\xe7\\xf2\\xcds\\xd7\\x86\\xca\\xfd\\x85\\xbd\\x89B\\xed\\x85\\xa2Y$\\\\yr\\x1c\\x03\\x1f\\xb0o\\xbd\\x8fb\\t\\xe2\\x85\\xf2\\x16m?Gw\\x8f\\x1d\\xd0U\\x9dm\\xf3\\x84\\xdb8.\\xb2~\\'\\xa1\\xcf~\\xf5\\xd7\\xe9d\\xd3\\xab0\\xf5\\x11M]\\x1d\\xb2\\xd7\\xcd\\xd83\"\\x1f\\x85^?\\x9dw\\x9cE\\x90}\\xcd\\x00!<\\xf1\\xcd\\x0074\\x01\\xed\\xc6\\x98\\x1f\\x0eZ\\xdc\\x15\\x9c/\\x94\\xa4\\x9e\\x00^k\\xcd\\xe2w\\xd9z8\\xca\\x8d\\xa6\\x06\\r\\x9c\\xee\\xcd\\x0fbBE\\x08\\xbcw\\x05\\xca\\x85\\x1fx\\xb61D_\\x1f\\x055\\xcb\\xb6i<,&\\xb0\\x8eHC\\xc4\\xf0\\x11\\x85V\\x1b\\x8e~\\x9d?<\\x9e\\xf5\\x9eV\\x9e\\xca\\x82\\xf0\\x03\\xf1\\x0e\\xb7$/%\\xa2)\\x95\\xf3\\xb5~\\xca\\x81\\xa6\\x8cc\\x01y\\x040\\xe4\\xfa[\\x03\\xd8\\x8e\\x95X\\xe2\\xa5\\xfa\\x856\\xe3\\xfaL\\xe4z\\x05\\xcd\\xec\\xbb\\xda\\xf6\\x19\\x10\\x9fJ\\xca\\xa2\\x19F{\\xe1\\x8e\\t\\xc6z\\x12\\x07lV\\xb2\\x9cc\\xa8\\xa2\\x14d\\xdf\\xb8%\\xa5\\xf8`\\xd9H\\xbeM\\xacfR\\xc0/\\xa8o\\xc7\\xb1b9\\xcf\\xe2\\x07Lc5\\x8c\\xf39i\\x9bC\\x1cV\\xce\\xc5\\xa6[\\x1bM2\\x10\\xe9\\xe51P\\xa5\\x9d\\x04{{\\x0e\\x063\\xd7\\x8e\\x9f\\x85a\\xd8\\xd86D\\x87O\\xbd\\x99\\xe7\\x96\\xdd\\xae%`bg]\\xa7\\x8e\\x08\\x07\\xa6\\x7f\\x8d\\x0e\\x98+\\x00\\xf8\\x8e\\xca\\xd9\\xad\\xcd\\xf5\\xf5\\xa4QM\\x1f\\x00\\x88\\xc9g\\x19\\xf7<\\x9f\\xc3\\x1f\\xd6\\x92r\\xbaE\\xaa1\\xb7:\\xa9\\xb8\\rkb.\\x99\\x03\\x00\\x04xy! \\xf5\\xc1$\\x9e\\xdd?\\x13[(\\xd2\\xb6Kn\\xc9\\x1bK\\x96tS~\\xcbpeL\\xb3\\xf9\\xa9\\xbd\\x8f\\x07#\\xd3\\x9e\\xdd\\x0eNr3G:\\xda\\xd0\\xf8\\xf8{\\x1al\\x96\\x12qu.\\xe1\\xb5\\xd2\\' \\xac\\xa3\\x1c\\x8f\\xbd\\x80G\\'\\x93\\xef\\xc5\\x1c\\xd8qD\\xe2;\\xcb\\x00\\xfb\\x88\\xb7\\xda\\xc1\\x95\\xb7\\x18\\xd5\\xf2}$\\x11\\xc61\\xcf\\x1c\\x0e\\xe6\\x93J\\x7fq\\xa98\\x96\\xb5\\xcd^\\xe0\\xdab\\xe1\\x98\\x85\\x8cfP@\\xc9\\xea2\\x18\\xf7\\xff\\x00\\xce+8bM\\x9b<\\x94\\x8c&\\x87\\xa7)\\xd4\\'\\xba\\x9cyjI`\\x0fU\\xcfny\\xc9\\xf7\\xcdt\\xe6\\xc9qQF\\x18q\\xd4\\x9c\\xd9\\xd2-H\\xf2\\xe1\\x01\\x08\\x1bxR~?\\x8f\\x15\\xe7\\xbd=\\x9dka\\xd6\\x91\\x1e\\xd9\\xff\\x00T\\x8cs\\xc3g\\x04\\x7f?c\\xd3\\x9ai\\x91(\\xef`\\xe7\\xb60\\xa4[\\xe7\\x91\\xb6\\xb6C\\x13\\xc9\\xe3\\x03\\xf9\\xfe9\\xabS\\xd3TK\\x8e\\xec\\xa3\\xe2\\x0b\\x96\\x1a5\\xc8U\\xf5\\xa0\\x05A\\xea\\x07b\\x08\\xf6\\xe3\\x8f\\xca\\x94\\x15\\xcbe\\xed+]\\x99\\xbf\\xd1\\xc5\\xed\\xad\\xdc\\xf7\\xf6\\xfa\\xcd\\xb0\\x95\\xe6c\\x1c\\xab>60\\'8?5\\xd5\\xea\\xb9AG\\x83\\xd2\\xe8\\xe7\\xc1S\\xe5\\xc9o\\xc9\\xaf\\x97\\xf4s\\x0cN\\xf2\\xf8oV\\xbc\\xd2\\x1c\\x92D \\x97\\x8b\\xe7\\ns\\xfc+\\x08\\xfa\\xaeZ\\xc8\\xaf\\xfb\\x8e~\\x95\\x7f\\xb7_\\xd8\\x1dq\\xfa9\\xf1\\x16\\xa6\\xc2-g\\xc4\\xcf=\\xa0\\xc0!IU?\\x1c\\x7f\\xbdo\\x1fS\\x89n0\\xd9\\x8f\\xfaiV\\xe5\\xfc\\x1b?\\txWD\\xf0\\xac*E\\xc4Kq\\xb4\\xab\\x99\\x19Pc\\xe9\\xd4\\x7f}j2f\\x96W\\xb2\\xe3\\x8dcT\\x87x\\x8b[\\x81@\\x8c\\x18\\xd8\\x8f\\xf2\\xde2\\xec\\xa7\\xaf\\x05\\x80\\xca\\xe7\\xb1\\x04\\xfd\\x058F\\x88n\\xcc\\x9c\\xf7\\xd2\\\\\\xea\\x11\\x95\\x8dbr\\xde\\xbc36G\\xee\\xee\\xe7-\\xd3\\xa7\"\\x94\\x92\\xa2\\xd5\\xa39\\xe3+\\x08\\xee\\xb6\\x8b9.<\\xd8\\xc8V\\x8e9\\x0eNz\\x80\\t\\xc0\\xe7\\xa9\\x18\\xce\\x06zV\\x98e]\\x93\\x926\\x82\\x1e\\x0e\\xd6\\x8c\\xb0\\x9b\\x1b\\x98\\xe4w\\x8c\\x90\\xac$RA\\xf7\\xed\\x8c\\x8c\\xfe9\\xe4R\\xc9\\x1e.\\xd0\\x93\\xb5L\\xd7O\\xb9\\xac\\xe2d\\x7f6\\xd8\\x9d\\xc1\\x82\\xefRz}\\xd5\\x19\\\\g\\xdf?Z\\xcf\\xc8\\x07\\xbc!r\\xb1j(\\xea\\xff\\x00h\\x89\\xf3\\xf7\\x1b\\x0c\\x06z\\x13\\x8e\\xbfQ[a|e\\xb3<\\xaa\\xe2w\\xcd:U\\x9a\\xd66\\x8b\\x95\\xc0\\xc1=k\\xd38Kx\\'\\xad\\x02=\\xb6\\x80=\\xb6\\x80\\x10\\xad0> \\x9a\\x05\\xb7\\xbb\\xfdC\\x00\\xdd3\\xd6\\xbc\\xdb\\xbe\\xce\\xea\\xa0\\xa3\\x7f\\xfcp\\x13s\\xe7\\x86|\\xd2\\xa1\\xd9Z\\x0bt\\xb7\\x8eF\\xf30\\x87\\xabc$\\n\\xa4\\xed\\x83I\\x06t\\x93\\x1cJ\\xef\\x04\\x92\\x1f0\\x001\\x8d\\xf9\\xfcN\\x17\\xf9\\xd6s\\xb7\\xd9q\\xa0\\xbd\\xa6\\x9f2YI\\x1cs\\xb4O0\\xc3\\x80|\\xce\\xa7\\xbe1\\xe9\\xc7\\x18\\xeek\\x1eV]Q\\x04\\xff\\x00`\\xb1\\xb6\\xfb%\\xc3\\xfd\\xa2\\xe0\\xbe\\xc5G\\xb5\\n\\xce}\\x80\\xc7?\\\\c\\xdc\\xf7\\xa6\\x94\\x9e\\xd0\\x9bC\\xec\\xad\\xbc\\xab\\x85xA\\x85W\\x90\\x12>I\\x1f\\'\\x83\\xf8\\nR\\x93\\xad\\x8e)6jb\\xbc\\t\\x16\\xc7\\xb5\\x89]Fs\\xb7s\\x9e2I\\'\\x80?\\x11\\xf1Y\\xa9\\x14\\xe3E\\x1d_\\\\\\xb3\\x8e\\xdc\\xc5xR9\\x18\\r\\x8c\\xe1\\x14\\xfdG8\\xfad\\x1f\\xa9\\xa17\\xe0j&/Q\\xf1\\x96\\x9b\\xa5B\\xfe}\\xe4\\x97\\xee\\x1b\\x0e\\xc4\\xa2\\x80\\xdc\\xfaA\\x03\\xa63\\xfd+X\\xe2\\x94\\xfaD\\xcaJ=\\x82\\xe3\\xd6|)1k\\xbb,\\xa3!\\xc3\\x15\\xde\\xc5K\\x1e\\xc7h\\x1e\\xfc\\x9e*\\x9e<\\x8bM\\x04g\\x17\\xb4\\xc7\\xc3\\x97\\xdb,\\xd7Nm\\x98c\\xcc\\x8d\\x96!\\xb4\\x1e\\x14\\xa8\\x1e\\xa0~\\xb9\\xfeT\\x9b\\xfb\\x15TX\\x83\\xec\\x96W8\\x90\\\\l*NcP\\xea\\xc3\\x82\\x1b\\x04\\x1c\\x90>\\x07\\xe5\\xcd*\\xbd\\x8d\\xbf\\x04\\xf9\\xcb\\x86\\x80L\\xf2;\\xe2\\'\\x95\\x83\\xc6\\xc3=\\x02\\xaf\\xa4c\\'\\xa6\\x0f\\xbfJ\\xa7\\xf7$\\r\\x7f\\x03J\\xf8G,\\t$\\xef9c\\x9e\\x07Bp3\\xd0{\\x7f\\x07\\xca\\x8a\\x8a\\xb1\\xa9c\\x15\\xba\\xc5\\x19\\x8f1\\xe7xC\\xf7wc \\xfb\\x8f\\xa5b\\xe6\\xde\\xce\\x88\\xc0+b\\xb2\\x0f[\\xf2\\xf9\\x03\\x93\\x8e=\\xb8\\xed\\xd6\\xb0\\x953T\\xa8\\xd0\\xdb\\x15\\x11l\\x91\\x01>\\xc3\\x81\\xf5\\x1f\\x98\\xab\\xe9\\x18\\xbfs\\x12\\xe9\\x16H\\\\\\xb3\\xed\\xda\\x9c0\\xe78\\xf9\\xeaz}*l}31s<\\x82\\xd6\\xe7b\\x97b\\x01\\nq\\xd7\\x18 \\xfdG\\xbf\\xf4\\xaa\\x8d^\\xc7-m\\x19\\xfb\\x18F\\x9b\\xab\\xc5<9X\\xdf\\x00\\xb1\\\\\\x85\\xcfB{\\xf5\\xc7?\\x85u\\'\\xce.,\\xe7\\x92\\xe1%$k\\xaf\\xae\\xef\\xa6\\xb7\\x82+iY\\x83zH-\\x87f\\x18#o\\x07$r+(B)\\xdbEJrh\\x13%\\xe4\\xd1\\x8f*\\xeddd\\x03v\\xe1p\\xca\\xcc\\xa0\\x91\\xb8\\xa0\\xea\\xa4\\xe7\\xb68\\xce9\\xad\\xd4W\\x83\\x17\\'\\xe4H\\xae\\x1e9\\x19\\xa3\\xb8\\xba\\x85\\x9d\\xcb*\\xdcB\\xaf\\xb8\\x01\\xca\\x81\\x9d\\xd9>\\xc3\\x8e\\x82\\x9d\\x12\\x99\\x14\\xf7\\x9a\\xf2\\x01g+\\x98\\x9dH0\\xc9\\x05\\xbbar=\\xcfL\\xe0zH\\xcf\\xb5W\\x18\\xf7\\xfeIm\\xf4-\\xae\\xad\"o\\xb7\\tq5\\xd8\\xfb\\xd7\\x021\\xb9\\xba\\x90Hc\\xe6\\x1c\\x11\\x8c\\x13\\xf8\\x8a\\x99Aw\\xe0jO\\xa0\\x8e\\x8b\\xa7]\\xdd\\\\y\\xd7\\x17\\xa6\\'p<\\xc8\\x9a,.\\xd29\\nN\\xee}\\xb3Y\\xcaU\\xa4\\x8a[\\xdd\\x89\\xe2\\xad3\\xfc\\x13U\\xd3\\xae_rC!\\xda\\xf3\\xa00\\xb7N\\t\\x19#?\\x1c\\xf4\\xec*\\xe3\\xb4\\xd1\\x17\\xb4j-\\'\\xb7\\x9a\\xd3tL\\xd2L\\x07\\xa4\\xee\\x1c\\xf6\\x04\\xb79\\xc7\\xe0{d\\xe2\\xb1\\xdb)\\xaaa\\x8f\\x07\\\\\\x11\\xa8Bm\\xfc\\xbd\\x87\\x03\\xdb\\r\\x9ezp+\\\\-\\xf3\\xa22\\xafkg\\xd0z~L\\x11\\xf9\\x80\\xc769\\xcf\\x7f\\xf7\\xafT\\xf3\\x8b\\xa3\\xa7=h\\x18\\xa6\\x81\\x1e\\xa0\\x04#\\x9e\\x94\\xe8\\x0f\\x88d@\\';\\t\\x08\\x0f,{\\xd7\\x9a\\xce\\xf4Z\\x12J\\xd0\\x92\\xfe\\x98\\x87\\xb7qR\\xc6\\xb6\\x8bV\\xeb\\x04\\xb06r\\x91\\x9e\\x80\\xf2Z\\x8bi\\x8fTY\\xd3\\x1d-\\x9a2\\xe8\\xbb\\x8bm]\\xea\\x0f^\\xff\\x00\\xdf\\xf0\\xa5-\\x82\\xd1\\xa0_6\\xe2b\\x08\\xb8`\\xc7\\x00\"3\\x16\\x18\\xeeW\\xdf\\xb0\\xe0w\\xac)\\xf85\\xfd\\xc26:\\x19\\xd8dkP\\xae\\xfc\\xb1\\xc0i\\x14t\\xf7-\\xfd\\xfe\\x15U\\'\\xa2\\x1d]\\x8f:l\\xb6P\\xcc\\xf6\\x96\\x0f#\\x91\\x80\\xea\\xaa\\xa5\\xb1\\xd0\\x01\\x9c\\x9cs\\xf1JP\\x93*2Ff\\xf3\\xfcvI\\x99\\x93I\\xd4..\"l\\x0c,J\\xaa?w\\x97\\xc7\\xb7@\\x7f>i\\xc3\\xd3\\xc9\\xf4\\\\\\xb2\\xc5vd\\xbcG\\xa5\\xf8\\xbf]\\xb8\\x8d\\x0e\\x8fubA\\xc1\\x0b\"\\x87o\\x8d\\xc3\\xa8\\xcf\\xb9\\xfc+\\xa7\\x16\\x08\\xe2W-\\x98d\\xc8\\xe7\\xa8\\xe8\\xb7\\xe1\\x8f\\xd1t\\xb6J\\x92j\\x17r\\t\\xcb\\x07 \\x14\\xd8\\x1f\\xe8O\\xa8\\xf5\\xe4\\xf1F\\\\\\xce]\"q\\xe3Q\\xec\\xdf\\xa6\\x88\\x90&\\xd8\\xd6\\xdd\\xa4<\\x12ve\\xc7@\\x18\\x8cg\\xf1\\x06\\xb8\\xa5&u%\\xf2Q\\xd4\\xb4ym`T\\xb7\\x8d#\\xf5\\x0c\\xdb\\xbf\\xa0g\\xe4/\\xf3\\xfeT\\xe2\\xed\\xec\\x1e\\x81\\x97:s[\\xcc\\x92\\xc6n#*F\\x11\\x11\\x1d\\xd7\\x8ey\\xc8<rrs\\x9e\\xf9\\xaa\\xe4\\xabbQo\\xa0l\\xd7\\x11\\x1f9\\x7f]1\\x94\\x08$yei\\x03\\xf3\\xc1\\x03\\x8d\\xac=\\xbarir4P\\x12;G\\xb9\\x927tHg\\x8d\\xb7\\xb0\\xfd\\xec\\x0cd\\xf3\\xce8\\xc19\\xa8r4\\x8cK\\xb7\\xf6k\\x1ccb\\xed\\'>\\xa0s\\x9e\\xf5\\x8f+7\\x8a\\x04X\\x89\\'\\xbat\\x82\\t\\xae%U\\x0ep\\xb9\\x039\\xed\\xc0\\xfc+\\xaf\\x0e$\\xd5\\xc8\\xe6\\xcf\\x92I\\xd4C\\x96\\xeem\\xe1\\x91\\xaf\\x15\\xa0e\\xe4o^{\\xf21\\xed\\xc75Y`\\x97FPs\\xf2:\\xfa\\xf1\\x05\\xba\\x10\\xeaAo\\xf2\\xf0I\\x1cd\\xf0>*q\\xe2\\xe7\\xa1\\xcen D\\x87\\x8f. \\xbfx2\\xb0 \\x83\\x9e\\xa2\\xb0\\xc8\\xb8J\\x99\\xd5\\x8d\\xf3\\x8d\\x96\\xb5\\x1d45\\x8cR\\xaa\\x8f1F\\xd69\\xc0\\xc1\\xf7\\xe3?\\xfb\\'\\x93O\\x1c\\xe9\\x91\\x92\\x17dQ@\\xe8B\\xec\\x89\\xa5$\\xa2\\x17i\\x17\\x8e\\x87\\xd4\\x06\\x07\\x7fnEtZ\\xa3\\x9a\\xb6Y\\x86Y.\\xed\\xd0\\xdc[\\xea!\\x8b\\x91\\xb2\"\\xa1\\xd9\\x81\\xe1\\x03\\xee]\\xf8\\xeb\\x93\\x9e8\\xeb\\x9aO\\xda\\xed\\toEmB\\xd6\\xe6\\x0b\\xbf\\xb3\\x0b\\xd5\\xc4\\xc7\\x12\\x8f\\'\\xd6\\xbe\\xc9\\xc6Fy\\x18\\xc8\\xc9\\xe7\\x15p\\xa6\\xae\\x89\\x97\\x82\\x86\\x8fg{c\\xa9\\x1b[\\xcbh\\xd1X\\x95\\x8aS\\x90I\\'%Q\\xb3\\x9d\\xbe\\xfd\\x07^9\\xa3$\\xe2\\xd7\\xb4!\\x17{6\\xba7\\x86-\\xe3\\x93\\xed\\x13[\\xc4\\'>\\x96R\\xa0\\x81\\xfb\\xa7\\x0c3\\xf9Vnm\\xaa\\x13[5Vp\\xa0\\x93dm\\x13N\\xa0\\xe626\\xb1\\x1d\\xc7#\\x07\\xa6\\x7f\\xf5J\\xc4g\\xbfHv\\xc2=\\x08\\xc7\\r\\xacWQ9!\\xa3wQ\\xb5\\x8fBI\\x04\\x83\\xed\\x8f\\xca\\xaf\\x1b\\xf7\\nKF/\\xc3\\x1a\\x83\"\\xc9\\x15\\xa2\\x18\\xe3c\\xb7\\xcb\\xb8^\\x03\\xfe\\xd6\\t\\xfe#\\xe7\\x8a\\xbc\\x91\\xf2\\xc2/GI\\xf0}\\x94b\\xfdc\\x0c#el\\x87Q\\x9e=\\x8e3\\x91\\xf3U\\x8brM\\x91\\x93Qtw\\xbb\\x08DV\\xc9\\x1a\\x85\\x18\\x03\\xd2\\xbft\\xfc\\x81\\xdb\\xf0\\xafH\\xe0.\\x821\\xd7\\xf3\\xa0\\x0fP\\x07\\xb3@\\t\\x9at\\x07\\xc5\\xc8\\xd1+\\x90\\x10\\xba\\x83\\xd4\\xf7\\xaf/\\xb3\\xd0\\x1bq\\xbaw\\t a\\x13\\x1c*/S\\xf4\\xc5:H6\\xcb\\xb6\\x91Cj\\xc0\\xc8\\x84m\\x18\\xf2\\x93\\x0c\\xff\\x00\\xf7\\x1e\\x8b\\xfcO\\xc57\\xf7\\x0f\\xd81\\x05\\xdck\\x17\\xa6\\xd5\\x15\\xc0\\xe0`;~$\\xe4\\x7f\\x0f\\xc0T\\xb7\\xf0:&i\\xaf.m\\x98!\\xb8\\x95\\xb6\\x90\\xf9\\x95\\x81\\xc1\\xea9\\xe8+)m\\xf6i\\x1d\\x03c\\xd4\\xec\\xf4\\xd8f\\xb8\\xb9\\x9c\\xcd(R\\xcb\\x05\\xbc{Fzd\\xb7V\\xc6}\\xc8\\xef\\xdb\\x88\\xe2\\xdb\\xa4\\x8aj\\xf6gu\\x9dj]ztK;\\x7f2d?\\xfd\\xb6v\\xc1\\x1f\\xb2\\xbc\\xf4\\xeb\\xfc\\xea\\xe3\\x8dG\\xf5\\x83\\x97\\xfe%\\x9d#\\xc2\\xbaZ\\x98\\xde\\xfbI7\\x85\\x9b,\\n\\xac\\xac\\xaa;\\x13\\xc0\\xf9\\xc0\\'\\xe6\\xa9\\xe5kQdqOrF\\xc6\\xce\\xd7K\\xb7X\\xe3\\x86\\xd0\\xe9\\xe0\\x8fLE\\xf6\\xe0g\\xb8\\x07\\xa7\\xc0\\xac\\xf6\\xf7c\\xb6\\x1a\\xb6\\x10\\xcb\\xfa\\x9b{\\x88\\x8a\\'\\x19X\\xbc\\xc0\\x0f\\xb0R:\\xf3\\xeeqM\\xc9\\xae\\xd8\\x94o\\xa2\\xf5\\xae\\x99\\x02\\xaf\\xebwJ\\x0ey,\\xc9\\xfc\\x01\\x02\\xa7\\x93{L\\xa5\\xa1\\x97\\x9a\\x05\\x9c\\xaa\\xaa\\x8d\"#\\x0eT]2\\x8f\\xc0g\\xad.r_\\xfe\\x15I\\x81\\xee\\xbc\\x0fk3;\\xae\\xaf\\xaa\\x89pU\\x0b\\x04b\\xa3\\xe1\\xc8\\xc9\\xe7\\xde\\xa1\\xe6_\\xf8\\xa2\\xa3\\x16\\xbc\\x99\\xcdOM\\xd44y\\xa0Qn\\xf7\\xca\\x17\\xd50]\\xac}\\xc9\\xc7\\x04\\xf5\\xfe4\\xb9Fw\\xba5V\\x8fZj\\xf0\\xbd\\xc8\\xb3\\x92\\x12%\\x03\\xf6\\xd3\\xef|\\x8cd\\x1e\\xc3\\x9a\\x99cui\\x96\\xa5l\\xb3\\xac\\xd8\\x7f\\x88i\\xd70\\x89Z\\x19\\x196\\xf9\\xa8\\xdd\\x0f\\xb8\\xf7\\xc6\\x05D%\\xc6I\\x97-\\xa6\\x91\\x9b\\xd2<qc\\xe1\\xbd\\x07\\xecz\\xe5\\xa5\\xfc\\x9a\\xc4\\x12\\xb2\\xc9\\xe4B\\x08\\x98g\\x87\\xdd\\x9c\\x0e0\\x08\\xf8\\xe3\\xadz\\x91\\xc4\\xb2n\\x1d\\x1c\\x8b:\\xc4\\xab&\\xd9\\xd04\\xe9\\xed\\xf5-:+\\xcbw\\x13Z\\\\F$\\x8d\\xf6\\xe3*zpz\\x1f\\x8a\\x86\\x9c]3\\xa9q\\x9cT\\xa3\\xe4K\\xcb\\xeb\\r\\x17\\xc9k\\xfb\\x88-Rw\\xf2\\x90\\xb9\\xc6\\xf6\\xc6x\\xc7\\xc7S\\xd0w\\xa7\\x14\\xdfD\\xcb\\x82\\xed\\x80\\xeeZ\\xde\\xff\\x00]\\xb9m*\\x18\\x9fO\\x8c)\\xfbJ\\x9fL\\x92c\\xd5\\xb4t \\x1e\\xa7\\xb9\\xcdrz\\x8a\\xbf\\xb8\\xf1\\xb6\\x90FD\\xf3@I\\x01%\\xbdG<\\x02;\\xe0\\x9e\\x87\\x81\\xd7\\xda\\xb9b\\xe8\\xb6\\x80w\\xc1\\xac\\xe6\\x8a\\x19H\\x92\\t\\xd8\\xe0\\xb8\\xe8\\xa3\\x90\\x0f\\xbf\\xf7\\xf8uBI\\xec\\xe7\\x94I\\x13O\\x9a[A\\x1b\\xcd\\xf6\\xd8\\x8e]\"\\x9c\\x0f1H\\x1c\\x85\\xc7Q\\x9eq\\x83\\xf8\\xd6\\xb6\\xbbF7\\xf2\\x07\\x82y\\xec\\x01\\x9e\\xc6\\xdb\\xce\\x97v\\'\\x8dp2\\xbc\\x8cl\\x07p\\xc6:\\xf1\\xf9f\\xa9\\xc6\\xf5bO\\xec\\x17\\x97V\\xd0\\xe6\\x92\\xda\\xe6Y\\xa4\\x86\\xee2\\xb3*\\x9f\\xbb\\x19=z\\xf2\\x01\\xe3=G9\\xc7\\x18\\xa4\\xa3%\\xe0M\\xae\\x8d\\x84\\x1a\\x8e\\x9d4,~\\xd5\\x15\\xb3\\xe4\\x05\\x94J\\xac\\xb2\\x0ep:\\xe0\\xf7\\x1dG\\xc1\\x15\\x9a\\xab\\x1d0\\x8e\\x9eQ\\xd16\\xcb\\xbe 3\\x869\\x03\\x1d\\xcf\\x7fob(\\xb2h\\xa1\\xe2\\xf13\\xfd\\x98\\xc5\\x9cgk\\x90\\x03\\x85\\xcf@Fs\\x8f\\xef\\x8a\\xa4\\x078\\xfb=\\xcd\\xae\\xb8\\x03\\xe9\\xd3\\xc9\\x0c\\x8f\\x95eG\\xc0=\\x8ey\\x07\\x07\\xbf\\xb6+\\xa3\\x8b\\x94l\\xcb\\x92N\\x99\\xd9|\\x11i-\\xc5\\xf17\\x10\\xc9\\x1a\\x10\\xad\\x1b\\x95\\xe3?^?\\x85k\\xe9\\xa0\\xfb\\x922\\xcf5\\xd2:\\xf5\\xb0h\\xe2Ta\\x8c\\x0f\\xc3\\xf0\\xae\\xd3\\x90\\xb1\\x9e\\x87\\xbf\\xbd\\x00x\\x9c\\xd3\\x013@\\x1e\\xcd\\x00|v`\\x8aY\\xb6/\\xb7o\\xeb^Zm\\x1e\\x83I\\x88\\xd6\\xad\\x16\\xef%\\x8c@\\x8c\\x19X\\xfa\\x98{\\x0fa\\xf4\\xe4\\xf7\\xf6\\xa7\\xc8Tz\\xdbr)DM\\xd8\\x18\\xf8\\x15,\\xa5\\xd9n\\x0b\\x8f-1)X\\x88\\xe7\\x1dO\\xd7\\x14\\xa8\\x0b\\xb67\\x1bd\\x06D2G#z\\x9e^\\x98\\xc7Lt?\\xd2\\xa6KEE\\x93j\\x1ae\\xad\\xd6\\xf9\\xccL\\xc3\\x1c\\xb1\\x18\\xdf\\xf9\\xf0\\x07\\xcdd\\xe4\\xd6\\x8d\"S\\xb7\\xf0\\x8d\\xe4h$\\xb6\\xb71\\xc0pw\\xb1\\x01y\\xe4\\x92\\xcf\\xb5O\\xe2q\\xf0j\\xad\\xc9\\\\\\x87i=\\x04\\x16xm\"\\xf2\\xee\\xae#!y\\xd9k\\x13\\xdc\\x12:r\\xec\\x15:\\xf6\\x19\\x07\\x1c\\x12)pKv=\\xbf\\x05\\xa5{[\\xa2\\xa9\\r\\xae\\xa1p%l\\xb8i\\x92\\x04n?l*36?t>)sK\\xc3\\x0f\\xa7\\xf2_\\xb6\\xb1\\x8eYH]2\\x05\\xcf\\xff\\x00vi\\xa7?\\xfcw\\x00\\x07\\xc6\\x05\\nM\\xbdG\\xfc\\x85*\\xec\\xd4\\xc1\\x05\\xfd\\x8a\\xa3J>\\xc7\\x11\\xe4 \\xb7Tc\\xf0\\xaa\\x01`>+h\\xc7\"\\xdb\\xd7\\xf0\\xbf\\xfac\\'\\x06\\xe9o\\xf3\\xf8)\\xea\\xaf\\xa8\\xca\\x85ll\\xe0\\xf5\\x7f\\xcf\\xbd\\x9cG\\xff\\x00\\xf5P\\xcc\\x7f1Q\\x96\\xbc\\xb7\\xfc\\x15\\x8dW\\x83\\x1bw\\xe1}Q\\xae\\xcc\\xf2jQ\\x84\\xcf1C\\t\\n\\xc7\\xfe\\xa6\\xe7\\x1f\\x18\\xae\\x7f\\xab\\x08\\xaaQ\\xfeY\\xd1\\xc6M\\xdd\\x95\\x92Mf\\xd6FK\\x94\\x8e\\xf41\\xdb\\xb3\\x91\\x81\\xf4\\xc9\\xe0T>\\x12\\xebF\\x8a\\xd1n\\x18\\x12g\\xde\\xdalP>>\\xf6\\x0b|\\x1ex\\xc6*]\\xaf%*d\\xd1\\xc6G\\xa3\\x19\\xcfp\\xa3\\x00\\x0e\\xc0T\\x8e\\xcc\\xbf\\x8d\\xbc9\\x1e\\xa3\\n_\\xc2\\x1cM\\x0b\\x06\\x91\\xb3\\x86\\xda:\\xf0;\\x0e\\xbe\\xf5\\xdb\\xe9r8\\xbe\\x1f\\'>X\\xa6\\xd3f\\xbbG\\xb8\\xd3\\xa2\\xd2\\xb4\\xb8,\\x1e1jP\\x85!\\x86\\xd0\\xa82\\xc7\\xf3\\xeb\\xf5\\xae\\xbe/\\xcfe\\xa9\\xc5\\x19\\xadwM\\xb7\\xf1g\\x89\\xe2\\xbe\\x86U\\x9bJ\\xb4\\xb7\\x10&\\x0eC\\xc8If\\xdb\\xf1\\xd0\\x13\\xf4\\x15\\x96\\\\\\xaf\\x148\\xae\\xd9\\x93\\x8a\\xcb;~\\r-\\x85\\xa2\\xdaF\\xb1F\\x06\\xc2\\xa7\\xa0\\x04/l\\x1f\\xca\\xbc\\xc6\\xdb\\xdb:\\xf5\\xd2 \\xd5t\\xbb\\xb9`Qe0\\x86D;\\xf7\\x9eTq\\xd3\\x1d\\xff\\x00\\xb3O\\x1c\\x92\\xec\\x99o\\xa2\\x8c\\x9e\\x11\\xd45 \\r\\xc6\\xa0\\xf0\\xb2\\x80\\xc1\\xa3T\\xfb\\xdf\\xbd\\xfc\\xfa\\x11[\\xc74c\\xa4\\x8c\\xe5\\x16\\xfc\\x97\\xad\\xb4\\x1dR\\xd5V\\xde\\xe3\\xfe&,dM\\x14Q\\x96n\\xdf\\xb5\\x86\\xfa\\xf3[)\\xc1\\xad\\x7f\\x93\\x9d\\xc6I\\xecs\\xe8\\x96\\xb6\\xf3\\x137\\x96\\x8f\\xbb\\'\\xcd\\x84\\xc2\\xdb\\xbe\\x0f\\xdd\\xcf\\xd0\\x9aV\\xc0\\x05\\xe2\\xef\\tX\\\\\\xaa]\\x8b\\xa8\\x95\\xe3\\x07\\x02h\\n\\x879\\xc8;\\xd7 \\x00s\\xea\\x1e\\xfc\\x8e\\xf5\\xb69V\\x933\\x9a\\xbe\\xd1\\x8c\\x97O\\x93Me\\xba\\xb6\\xdf5\\x8f1\\xcb*\\xb2\\x98\\xd3\\x90pd\\x8f s\\xee8>\\xc6\\xb5\\x94[^\\xe4Dd\\x93\\xd1\\xd0\\xbc\\x1d\\xa8+\\xa9\\xc9\\x12\\xc5\\x80RE#${\\x12;\\x8ez\\xd7\\x14\\x953\\xa7\\xc5\\x9a\\x1d^\\x14\\xba\\x95\\x98g\\xcb`7\\x0ct#\\xa6>j\\x95\\x99\\x99\\xfb\\xbf\\x08\\x7f\\x8c\\xc9\\x13\\xc5\\x1a\\xb3F\\xdfqI\\x00w\\xe3\\x04\\x11\\xff\\x00\\x9a\\xdb\\x0f$\\xfd\\xa4dqkgk\\xfd\\x1f\\xe8\\xd1\\xe9Z<j\\x8b\\xe9q\\x96S\\x90A\\xfeY\\xf9\\xe35\\xeaER\\xa3\\xcf\\x93\\xb6l\\xa3\\x1b@\\x03\\xa7\\xb1\\xfe\\x94\\xc9%\\xc8\\x14\\x0cn\\xeeh\\x01wP\\x07\\xb3LG\\xc8v\\xab\\xb4\\x85\\x18-\\x9c\\x93^_g\\xa0\\xf5\\xa2i@\\x902\\xc8\\xc0\\xd0\\xd0\\xad\\x91A\\xb67TL\\xed\\xc7\\'=(\\xecm\\x89%\\xa8\\x92d0\\xe6Y\\x0baUA$\\x9f\\x81\\xdc\\xd1\\xb6\\xe9\\x06\\x96\\xc3\\xabeo\\x1ck&\\xa5r7\\x0e\\xb0\\xc3\\x87`}\\x89>\\x95\\xfe\\'=G\\x18\\xa4\\xd2ZcM\\xbd\\xa2\\xf5\\x95\\xf9[\\x92\\xb1D\\x96\\xd1\\xe3y\\x97\\x1b\\xe4?\\xf7\\xb7C\\xff\\x00H\\\\T;K\\xdaU\\xfc\\x97\\x16\\x1f>u|K4\\x878g%\\xd8\\xfc\\x0e\\xbf\\x95b\\xd3f\\x89\\xa0\\x84:F\\xe0\\xb2\\xde\\x01\\x0f\\xfd\\xd9*\\x7f\\x908\\xecNx\\xe0UG\\x0b{\\x96\\x84\\xe7]\\x16L\\x9aN\\x9d\\x11h\\xa0\\x92b\\x0e\\xde\\x06s\\x9e\\xc0\\x9cd\\xe7\\x9c\\xe3\\x18\\xef\\xc5j\\x968\\xf5\\xb29N]\\x95S\\xc4w\\xae\\xaccw\\xb3\\xb5\\xe7lV\\xeb\\xb1\\xb1\\xf2\\xff\\x00x\\xfe\\x1bA\\xf6\\xa1\\xe5\\x95Rt%\\x05\\xdb\\xd8\\xcd:t\\xbd\\x82;\\x95\\x90\\xda\\xdb;\\xecY%\\xc9iXu\\x0892\\x11\\xdc\\x8c\\x81\\xdc\\xd6|\\x1b\\xdd\\xd1\\xa3\\x95h\\xd0\\xc3\\x01\\x91#\\x90)\\x8a&\\xe2\"\\xfe\\xa9e\\xed\\xe9\\x03\\xa0\\xfa}7\\x1a\\xd5#6\\xc0\\xda\\xc6\\x83xI\\x7f\\xb5\\xcdg\\x0fLE\\x86s\\xf0\\x80\\xe5A\\xcfV \\xe3\\xe3\\xb6S\\xc4\\xa3\\xb9-\\x1a\\xc3%\\xe93?qbai\\x16Y\\xa4\\x8fjr\\x89!20\\xee]\\xc9\\xe3\\xf0\\xfc\\xab\\x14\\xb9>\\xa8\\xdb\\x95.\\xec\\x828\\xc3\\xdc\\xc4\\xb6\\xef5\\xb0\\t\\xbc\\x07\\x90\\x96\\x90\\x13\\xc6G\\xb1\\xeb\\xce8\\xe6\\xaeP\\xaf\\x06k%\\xf6\\x12\\xb7\\xb7\\x96D\\xfdlqJO\\x01\\x90\\xe0\\x7f\\xe4\\xfeU\\x93\\xc7\\xb3_\\xa8\\x10\\x86\\xd1\\xad\\x90l\\x8fg<\\x91\\x8e\\xbf\\x87\\xcd8\\xe2d\\xcb\"9\\xc4~\\x0b\\xb5\\xbf\\xf1\\x9e\\xa1\\x12\\\\\\x06\\xd2!}\\xcdm\\x17\\x00\\x17\\xf54Y\\x07\\x81\\xdc\\x81\\x8e8\\xafRYe\\x1cj\\xbb8\\x14S\\x9d\\xbe\\x8e\\x88m\\x16\\x08\"\\xb6\\x8e\\x11\\x02 \\xc4a@\\x03\\x03\\xa61\\xc0\\xfaW\\x975&\\xf6w\\xe3qKD\\x0fl\\x8a\\xac<\\xf8\\xa3a\\xc9-\\xdc\\x1e\\xe0\\xd6|]\\x9a)\\xa0V\\xa9dn@d\\xd5\\x0cd\\x00\\xcb$Rm\\xc6\\x0f^\\x0fo\\x7f\\xce\\x9a||\\x0f\\xb23\\xa4k\\xd1\\xc1\\xff\\x00\\t\\xa8,\\xef\\xd4\\xc3p\\x17\\xcb`NH\\x0c\\x06W\\xe0\\x8e\\x99\\xa23\\xc6\\xfbB\\x92\\x97i\\x87\\xf4\\x9de\"\\x8b\\xca\\xd4m\\xa6\\xb5\\x961\\xb9\\xd4\\x92\\xea\\x83\\xf7\\xbd\\xc2\\xff\\x00\\xab\\x1bx9\"\\xb6\\x86;\\xdaz0\\x9c\\xbc\\x05\\xaf\\x02\\x98D\\xcc\\xca-\\xdc\\x8d\\x92)\\x05A?\\xea\\xe9\\xcf\\xb1\\xc7Z\\xd1\\xc7\\x8a\\xb34\\xf9h\\rr\\xad\\xa7\\xc9\\x1f\\x93\\x18\\xf2$!\\x98\\xa8\\x18F\\x1d\\xca\\x9e\\x18\\x7f\\x10\\x7f\\x1a\\xa5&\\xd1-S2>!\\xd2m\\xfe\\xd3\\x16\\xa2\\x96\\xd7:]\\xe0\\xca\\xb5\\xcd\\x83\\x80H\\xc7Ibl\\xab\\xae\\t\\xe40\\xc8=\\xabXe\\xe3\\xa6L\\xa3\\xc8\\x93\\xc2\\xf6\\x87\\xcc\\xdfl\\xd6\\xb7\\x07\\xa3=\\xb2\\xed\\xfcZ\\x1e\\xa3\\xb7\\xa921\\xdb\\xa1\\xa9\\xc8\\x94\\xf7\\xf9\\xfc\\x0e/\\x8e\\xbf?\\x93_wn\\x81\\xd5\\xd4\\xb4sm\\xc6\\xe49\\x12.x\\xf88\\xac\\xf6\\x95\\x15\\xdb5\\xbe\\x06\\xd2A\\xbbc#\\x10\\xe1A\\xdb\"\\xfd\\xf5\\xf7\\xc7\\x7f\\xa8\\xe9]\\xde\\x9f\\x1dm\\x9c\\xb9\\xe7zGI\\x86\\x11\\x0f\\x00m\\x1f\\x1c\\x8a\\xeb9Iv\\x81\\xd3\\xf2\\xa0\\x08\\x9c\\x1c\\xd0\\x07\\x95h\\x01v\\xd0\\x07\\xb1@\\x1f\\'_\\xda\\x17\\x91\\x1d\\tT\\x03\\xa0\\x15\\xe6\\xa7Gwd\\x96\\xf0\\xc6c>X\\x1b\\xb1\\xf7\\x9a\\x8b\\xb0\\xaa,%\\x98\\x95\\x0c\\x84\\xacp\\xa9\\xda\\xf2\\x11\\x9c\\x9f\\xddQ\\xfbM\\xf1\\xf9\\xe0P\\x80I\\xa6\\x86\\xda\\xdd\\xa1\\x85\\x1a5q\\xca\\x86\\xfdc\\x8ffa\\xdb\\xfd+\\x81\\xf5\\xebE\\xfc\\x0e\\xab\\xb2;\\x00\\x12e\\x92\\xeb\\x04/\\xdd\\x8c\\x01\\x85\\x1fN\\x82\\x93\\xd2\\x1fa\\xe8<\\xd9![\\x9b\\xc9\\xfe\\xc3c\\'(\\xd8\\xfdd\\xe3\\xff\\x00\\xc6\\x83\\x96\\x1f\\xea\\xe9\\xf3E:\\xb7\\xa1.\\xe9m\\x84 \\xd6p\\xc2\\x0b\\x18\\x04\\x11c-4\\xe7|\\x9b}\\xc8\\xe8\\t\\xf6\\xe6\\xa2R\\xa5Q4K\\xe4\\xf4\\xb1\\xdd\\xc8\\xacb\\x91\\x9aV\\x07t\\x92\\x12\\xec\\x83\\xb8\\x1e\\xc7\\xe0}+\\'\\x17\\xd9jH\\xa8\\xc9x\\xcf\\x1c\\x10\\xc4\\xeaO\\xea\\xd5S\\x96\\xe9\\x93\\xf2I\\xeek7\\xc9\\xbaE\\xae)[/\\xc5h\\xf8\\xf2#\\x85.\\xef$\\x0c\\xa9\\x08\\x1b\\xa2C\\xee\\xc7>\\xbc\\x0e\\xa0\\x1d\\xa3\\xb9=*\\xa3kUo\\xf3\\xf3\\xe0N\\x9e\\xdb\\xa4^\\xb1\\xb0o\\xb4\\xaa\\x84]ST\\xd9\\x82\\xed\\x8f\"\\x14\\x1e\\xe4`\\x15\\x1f\\xba0\\x83\\xfd]+Km\\xebr\\xff\\x00\\xd7\\xe7\\xfe\\x88u_\\x0b\\xf3\\xf3\\xe41it`\\x92X\\xe2\\x94_j\\x12\\x7f\\x99t\\xc3\\xd08\\xe8\\xa3\\xf7G>\\xc3\\x00\\xf6\\xe0\\\\gN\\xae\\xdf\\xc92\\x85\\xef\\xa5\\xf0_\\xb4\\xff\\x00\\x8c,\\xbb\\x8b.9v\\x1d\\x87s\\xed\\xf0;\\x0cV\\xf0|\\x8cd\\xb8\\xec\\xa5\\x7f\\xa6\\xc6\\xca\\xc2\\x14U\\x8b<\\x06PI\\xf9>\\xff\\x00J\\x89aO\\xf4\\x95\\x1c\\xbf yl\\xbc\\x82d\\x920\\xe7$\\xee\\xc7_o\\xadJ\\xc7N\\xd9\\\\\\xedR*Ky<2*\\x0bt\\x18\\x1c\\x16\\x19$\\xfd?\\xa9\\xe3\\xad*\\x8at\\xca\\xa6\\xd5\\x99\\xef\\x12^j\\xb3\\xc6\\xcb\\x0c\\xbeDA\\xb6\\x9d\\x9c3\\x0fq\\xf5\\xe9\\x9f\\xfc\\xd6\\xf8\\xdc_\\x839E\\xd07\\xc2\\xbae\\xf6\\x93r\\xd7\\x9b\\x8bGt\\xdb\\xe5\\x0f\\x9c1?\\xecG\\xf15Y%\\x16\\xa9\\x93\\x185\\xd1\\xd0\\xac\\xaf\"\\xba]\\x92(\\x8eBy\\r\\xd35\\x97\\xd2\\x8c\\xb6\\x8a\\xe7(\\xf6E\\xa8Y\\xc9\\x13\\x97\\x8a\\x14bs\\xe9\\xda=X\\x19\\xc6;\\xe4s\\xf5\\x18\\xebX\\xcb\\x1d\\x1a\\xc7%\\x83c\\xb3\\xf3\\xc8\\x06\\xd9\\xa3\\x07\\xf5\\x8a\\xc0\\xe0\\xb7\\xd3\\xd9\\x80\\xc7?<\\xe4\\x1cW;\\\\\\x1f\\xb7\\xa3t\\xedl+a\\xa7\\xc9\\x05\\xd0\\xcbF-_\\x1eS\\xaa`\\x13\\xddX~\\xc3\\x83\\xd8zX\\x10W\\x07\"\\xada\\x84\\xf6K\\xcb(\\xe8\\x8b\\\\\\x02M\\xf6\\xb7\\x96\\xc3tL\\x19J\\x9c<m\\xd9\\xd1\\x87 \\xfb\\x11\\x8a\\\\\\x1e6\\xd2\\x17%-\\x99\\xfb?\\xb7Z\\x99\"\\xb5\\xbbu\\x0c\\t\\x1c\\x80\\t\\xee\\x8c\\x08\\xdaA\\xcfF\\x189\\xe4\\x0e\\xb5\\xa4d\\xd7\\xe7\\xf6\\xff\\x00\\x87\\xa1I)w\\xf9\\xf9\\xf2\\x87\\xc5\\xa8}\\xaaSgv\\x9f\\xe1\\xf7\\xa3&6\\x84?\\x96Xr\\x14\\xc4r\\xc0\\xf5\\x04!l\\x83\\xf7pA\\xab\\xe2\\x9e\\xbc\\xfe~\\x7f\\x82Zi_\\x8f\\xcf\\xcf\\xf2C\\xac\\xa7\\x97\\xa68\\x90b9T\\x94\\x8d\\\\mlu\\xf2\\x9c\\x1e\\xb89\\xeb\\x91\\xdc\\x0c\\x11YI\\xb8\\xbd\\x8e1M\\x18}5\\xee\\xed\\xf56xd\\xde\\xa0\\x81\\x86]\\xa2N\\xbc\\x82:?\\xf0\\xcf#\\xadi*\\xa0Vu\\x8f\\r\\x89u\\xfb\\xa4\\x89\\xf72n\\xc1w]\\xad\\xbb\\x1dH\\xee~x>\\xf9\\xadpc\\xe6\\xeeF\\x19\\xa7\\xc3H\\xecZ]\\x9cv\\xf6\\xc9\\n\\x8c\\x18\\xfa{\\x83\\xee?\\xda\\xbd%\\xd5\\x1c\\x0c\"\\x84\\xf4n\\xbf\\xce\\x80\\x1eq\\x8a\\x00\\x8d\\x80\\xa0\\x06\\x9e(\\x013L\\x0fR\\x19\\xf34\\x88\\xae\\x00\\xc6\\x07C^a\\xda9l\"?\\xac}\\xcb\\n\\x1e@8.}\\x87\\xfb\\xf6\\xfc\\xa8\\x0b f\\xdfs\\x97\\xe0(\\xc2\\xaa\\xf0\\xa8=\\x80\\xfe\\xc9\\xeahley\\xed\\r\\xd4\\xca!FiX\\x80\\x02\\x8c\\x92h@_X\\xad\\xf4\\x80D\\xc2+\\x9d@\\x7f\\xcb`\\x1e8O\\xcfgo\\x8f\\xba?\\xd4x\\x0e\\xb8\\xfe\\xe1\\xd9\\x02\\x1b\\x8b\\x97\\x92\\xe2\\xeeY$\\xb9\\x94\\xe5\\xdd\\x89fol\\x9fo\\x8e\\x9e\\xd5/l}\\x16\\x96\\xe1,\\xd3\\x11\\xa9.\\xdc\\xe4\\xf5\\xfa\\xff\\x00\\xb5*\\x1d\\xd8WL\\x9e\\xea\\xe9\\x8a+\\x04\\x84\\x00^F\\xe0\"\\xfb\\xff\\x00\\xb7\\xb9\\xe9\\x93S\\x18\\xb9\\r\\xb4\\x83\\xd6\\x93Cp\\xaf\\xf6}\\xd0Y\\x9c\\xabN\\xc3\\xd77\\xba\\xa8\\xee=\\xc08\\x1f\\xb4sUZ\\xd7B\\xfd\\xfb\\xfc\\xfc\\xfe\\xc5\\x85\\x87raH\\xb6\\xb1\\x07\\r\\xfbM!\\x03\\xa1\\xe9\\xbc\\xff\\x00\\xa4aGS\\xefSM\\xaaZ_\\x9f\\x94;\\xfe\\xaf\\xf3\\xf2\\xca\\xf7s\\xca\\xe9\\xf6kT6\\xf6\\x8c\\xd9e\\x07-!\\xfd\\xe7o\\xda>\\xc3\\xa0\\xe8\\x07z\\x996\\xd7\\x18\\xad~vZ\\xa5\\xb7\\xdf\\xe7D\\xab\\x8bX|\\x90\\x85\\xa6c\\xfa\\xc099\\xfd\\xc1\\xfc3\\xf3\\xc7nO\\xa7\\xc5W\\x90\\xe7{\\xf0^{\\xa9#Akn\\x17p9\\x9d\\xc7B\\xdf\\xb8>\\x17\\xdf\\xb9\\xcf\\xc5o|W\\x18\\x98\\xd5\\xfb\\x99v\\t\\xb7\\xae\\xd7^\\x07\\x19\\xf7\\xad\"\\xd9\\x9c\\xa2:k`\\xc3r\\xf2{\\x1fj$\\xa8i\\x81\\xee,\\xbf[\\xb8\\xaa\\x91\\x91\\x80G\\'\\x19\\xe7\\xf8\\xd65\\xb3e-\\x15[NK\\x893*\\x92\\x11\\xb0w\\x0e:g\\xfb\\xfa\\x9aq`\\xd9,6\\x00\\xc9\\x1a\\xed (\\x11\\xe0t\\x1f\\xdf\\x147`\\xb4[\\x83G\\x89\\xc0\\xdd\\x1eI\\xe7\\x81\\x8f\\xef\\xff\\x00up\\xd7Fsw\\xd8B=-v\\x81#p:\\x13T\\xe1\\xcb\\xb2\\x14\\xeb\\xa1\\x12;tW\\xb5\\x89CH\\xc0\\xba\\x0c\\xf5e\\x19\\xe0\\xfd8\\xa8Q\\x8a\\xf6\\xa3G&\\xf6\\xcc\\xec\\xd7\\x8f\\r\\xcf\\x9f\\x08\\x12\\xc3 \\xcc\\x91\\x11\\xc4\\x8b\\xdf\\x8f~\\xbf\\x8eEct\\xec\\xd1+\\xd1.\\xa4\\xbflkkB\\x81\\x99\\xd7\\xfe\\nr\\xd8\\xf3\\x01<\\xc0\\xcc{\\xe4\\xfaI\\xe8H\\xcf\\x0cv\\xe8\\xe2\\xa6\\xab\\xf8\\x7f\\xe0\\x94\\xf8\\xbb\\xfe\\x7f\\xe4\\xcd5\\xbc\\xf1\\xce\\xb2A\\th\\xdd\\x08u\\x91p\\xca\\xcb\\xfb\\xde\\xdcd|\\x11X\\xadvYj\\xe2\\xca\\xd6\\xf6\\xc5\\xa0\\x9635\\xb3\\x8c\\x04c\\x87\\x8cg\\x9d\\x8c}\\x8e}\\'\\x8c\\xfbg46\\xaa\\xbc\\x7fo\\xdb\\xfe\\x07\\x16\\xd3\\xbf#\\xec\\xb4\\xa9-\\xe31\\xcb\\xff\\x00\\xee6\\xd3z3\\'%\\xf6\\xf4\\x0c\\x1b\\xf6\\x80\\xec\\xde\\xa1\\xfb-\\x8ej\\x92\\x9d\\xd7k\\xf3\\xf3\\xfc\\x89\\xca=\\xf4\\xff\\x00??\\xc0R\\xc3\\xc0\\x89v\\xcb5\\x9a\\xa4p\\x96\"H%\\xe7\\x1f\\xd7\\xf3\\xe4\\x1eA=k\\xa2\\x1e\\x95:\\x95\\x98\\xcf\\xd4W\\xb4\\xe9>\\x1c\\xd1m\\xacm\\x16\\x16\\x88y\\xc9\\xc1f\\x1e\\xa3\\xed\\xcfz\\xee\\x8a\\xe2\\xa9\\x1cm\\xf2v\\xc3\\x9e^F\\t \\x8e\\x8d\\xde\\x99#\\xd5\\xb3\\x90\\xc3\\xd4:\\x8a\\x00\\xf14\\xc0L\\x8a\\x00c\\x0c\\xf4\\xa0\\x08\\x8eA\\xa43\\xdb\\xa8\\x11\\xc0\\xc5\\x9a\\x99=<w\\'\\xd8W\\x99Gu\\x91\\xcdn\\xef\\'\\x00\\x04\\x03\\n\\xbe\\xc3\\xfd\\xe9X\\xc8d\\xb4.BF\\x84\\xb9\\xe3\\x81\\xc94\\x01b\\xd9\\x05\\x84-\\xe4\\xb03\\xb8 \\xca\\xa7\\xa0\\xef\\xb4\\xff\\x00\\x0c\\xf7\\xfau\\xab\\xa5\\xa1v\\x0e{\\x031\\x0c9~\\xdf\\x15:\\x19\\x19\\xca\\xdc(a\\x84^\\t\\xf7\\xa41\\xf0\\xc1\\xe6\\xcc\\xf3\\xcc\\xea\\x90\\xa0\\xdd$\\x8e=(\\xbfN\\xe4\\xf4\\x03\\xbf\\xd0\\x12\\x05\\xb1\\xf4\\x19iR\\xda\\x05\\r\\t\\xf5`\\xc5h\\xe4\\xe4\\x02?\\xcc\\x98\\x8erGE\\x188\\xfd\\xd5\\xea\\xdb\\xa5_\\xfa\\xff\\x00\\x90_\\x9f\\xfc&\\xb6_1\\r\\xe5\\xfc\\xcem\\x91\\xf6\\x92\\xb8V\\x9d\\xd4q\\x1c`p\\xaa\\xb9\\xec6\\xa8\\xf7$\\n\\x16\\xf7.\\x83\\xf6\\x16-a\\xe7\\x94K E\\xe0\\xaa\"\\xf0\\xb1\\xaexU\\x1e\\xdd\\xc9\\xeaz\\x9a.\\xc2\\xa8%g\\xa9E\\x1c0\\xc8\\xc0\\x99$\\x05\\xa2\\xf8Pq\\xbf\\xf9\\xe3\\xe8Oj\\xb4\\xa9\\x10\\xed\\xb2\\xfd\\x9d\\xcc+\\x07\\xda\\xf1\\xb4\\x96)\\x17\\xd4uo\\xc3#\\xf1#\\xda\\x9cR[\\x13w\\xa1\\xb1\\\\\\xc5\\x84*\\x00\\xdd\\xc2\\x8ai m\\x925\\xe0U\\xdc1\\xf1\\xf5\\xad4F\\xcb\\x16\\xba\\x80\\xdc\\xab\\xc6\\x18\\xe0\\xd1i\\x89\\xa6\\x8b\\xe5\\xa1\\x90\\x85\\x0c7\\x1f\\xe3\\xf1R\\xe05&\\x8f\\x0b\\x15m\\xc3p \\xf2G\\xf7\\xf4\\xa8\\xe0\\xcb\\xe6\\x87\\x88\"E&B\\xa7\\xe8:\\xe2\\x8e?#\\xe5\\xf0U\\x93U\\x8e\\x19\\x00T\\xf4\\xe7nOQK\\x9a\\x88pr*j\\x1a\\x8c\\xd2\\x00c\\xf4\\xa9\\xed\\xdb\\xff\\x00]k9\\xe5t\\\\1\\xa0<7\\xb3Cqm$[\\xb7\\xc6\\xdef;\\x83\\xbb\\xff\\x00\\x7f\\x9da\\xf5\\x1d\\xa6l\\xe0\\x9ai\\x8e\\xd5\\xad\\x04Wd\\xdb\\x8f\\xd4\\xbb\\t\\xe3\\x1e\\xca\\xddq\\xf45YSN\\xe3\\xfb\\x93\\x07kdV\\x93\\r\\xbfc\\xbbPmd>\\x96\\xc7\\xf9m\\xd8\\xfd?\\xdf\\xd8\\x9a1\\xcf\\xfd\\xaf\\xa69G\\xca\\xec\\xb74s\\xdc]\\xccJ\\x91w\\x08\\x0f2\\x93\\x9f51\\x8f0{\\x91\\xc0oq\\x86\\xeb\\xba\\xad\\xc1\\xc9\\xfd\\xff\\x006g\\xc9G\\xf6,\\xd9h\\xb7\\x13\\xc6\\xa4\\xc7\\xe8f\\xc9\\xc1\\xc7\\xf7\\xff\\x00\\xaa\\xd7\\x1f\\xa6ml\\x89\\xe6K\\xa3i\\xa1\\xe8\\x90[B\\xe1\\x86\\xe4|nR:\\x11\\xd0\\xff\\x00}+\\xba\\x10QZ9\\'7\\'\\xb0\\xe4p\\xaa\\x11\\xc0\\xe9\\xd4w\\xf9\\xad\\x08&\\xd8\\x06\\x0e:t\\xc7\\xf7\\xfc(\\x01[$dr(\\x11\\x1bg\\x82>\\xf0\\xe9\\xfe\\xd4\\x01\\xe5}\\xc34\\x01\\xec\\xe2\\x98\\n\\r\\x005\\xd7=(\\x01\\x85h\\x03\\x84ZL\\x1e!\\x83\\xcb\\x0c\\x9f\\xe9\\xfe\\xf5\\xc2\\xd1\\xd4\\x99;\\x1c\\x9c\\n\\xcd\\xc4\\xb4\\xc5lD\\x98\\x1c;\\x8eO\\xb2\\xff\\x00\\xe7\\xf9}jZ\\xa2\\xae\\xcaW\\x0c\\x14n#\\xafO\\xe9J\\x98\\xc9\\xa3\\x8f\\xd0\\n\\x9e\\xd4\\x9a\\x11V[!8*\\xc5P\\x1c\\xb1f\\xe0(\\x1dX\\xfcQAc\\xee\\x13\\xec\\x88\\x88\\x89\\xfa\\xd8\\xfdP\\xc5 \\x07\\xca8\\xff\\x006A\\xd0\\xc8GE\\xe8\\xa3\\x19\\xec)\\xb7\\xc4kg\\xb4\\xbb/0\\xb4\\xf7rI\\xe4\\xa7\\xaaG\\x07.\\xc4\\xfe\\xca\\x93\\xd5\\xd8\\xe7\\x93\\xd3\\x92zTU\\xbeO\\xa2\\xee\\x95\\x12M+\\xde]\\x02\\xea\\xb1\\xa4k\\xe5\\xc5\\x12}\\xc8\\xd3\\xb2\\xaf\\xc7\\xcfRrO&\\xa5\\xcd\\xb64\\xa8O\"13\\x19A\\x16\\xf1\\xa6d\\xdb\\xd7nz\\x0f\\x92p\\x07\\xd7=\\xaa\\x93\\xf2\\xc4\\xd1f\\xd1d\\xbd\\xba\\x0c\\x02\\xf9\\xb2\\xe25Q\\xc2\\xaex\\x03\\xe1@\\xfe\\x02\\x9d\\xb91RH\\xb1y*\\xcb\\x12G\\x01>B\\x92\\xb1\\xf6\\xca\\x06<\\xfe\\'\\x9f\\xc6\\xaaR\\xb5HJ4\\xf61\\xe7\\x11\\xc2\\x18~\\xc0\\x18\\xa1HM\\x11Gve\\xf3\\x14\\x1c\\x10h\\xe4\\x1cI\\xe3\\x9d\\x95\\xe3\\xc1\\xee\\x0f\\xe1ML8\\x93\\xdc\\xdc3\\xce\\x19\\t\\x18_zR\\x9e\\xc6\\xa3\\xa1\\xeby\"\\x96Q#\\x00y8?\\x14\\xfe\\xa3\\x17\\x14>\\xdbS;JH\\xfdWvO\\xd7\\xfd\\xa8S\\xe4\\x84\\xe3C\\xc5\\xecNvI\\x8d\\xcc@\\x07\\xe6\\x93I\\x8d:,}\\xa2\\x16\\x1d\\xb8<\\x8a\\\\,|\\x8a+$>{+\\xf5Y\\n\\xe4{T}$W\\xd4%\\xbd\\xbf\\xf2\\xf4\\xb5\\x9bh\\x90[3D\\xc3\\xb8\\xcf\\xa8\\x7f#\\xf8\\xfd+^\\x1c\\xa3\\xfb\\x19\\xb9S\\x06\\xdd_#\\xc4%\\x89}$g\\x07\\xaf\\xd2\\xa1@\\xaeA\\xcf\\r\\xcf.\\xa5<w\\x07+q\\x01\\x026\\x079S\\xdb\\xf1\\xe7\\xf8\\xfe\\xf5u\\xe2\\x8fM\\x9c\\xf9%\\xf0tM>\\x04\\x8d@E\\x01\\x0f@;WJ9\\xd8J5\\nr:\\xf45T\"B\\x060:S\\xa0\\x14\\x1e0\\xdd\\x7f\\x9d \\x1b\\xd0\\xf1\\xcf\\xf5\\xa0\\x04l\\x11\\xc50#\\xdaCq\\xf5\\xa0\\x07c4\\x01\\xed\\xb4\\x00\\xe0(\\x01J\\xfd(\\x0b>b\\xd2/\\x19\\xf6\\xee<\\x9ek\\x8e\\xec\\xeaj\\x8d\\x04,\\x19\\xbd\\\\\\x802i4\\t\\x8e\\x93q%\\x98\\xf2y5\\r\\x15`\\xdb\\xdd\\xccG\\xb0\\xa5C\\xb2\\xc5\\x84\\xa4\\xa1-\\x9an\"\\xb0\\x9c\\xc4Z\\xc0\\xac@3\\x12\\x19T\\xf22:1\\xf8S\\xd0wl\\x9e\\x80e5\\xc5\\x05\\xd9J\\x18^y\\xd24\\x05\\xe4\\x91\\xb9\\xc9\\xeaOr\\x7f\\x895\\x9f\\x1be\\xf2\\xa2\\xf4\\xdbJ\\xc7\\x1c_\\xe4C\\x9d\\xbf\\xeac\\xd5\\xcf\\xc9\\xe3\\xe8\\x00\\x14J>\\x10\\xd3\\xf2THs!n\\x98\\xe6\\xb2\\xe2i\\xc8\\x96\\xfa\\x12\\x02A\\xecw\\xc9\\xf2\\xf8\\xe0~\\x03\\x8f\\xa94\\xe5\\x1a\\xd0\\x93\\xf2X\\xb0\\x8f\\xec\\xf6\\x92\\xc82\\x1fi\\x8d\\x0f\\xb1<\\x13\\xf9\\x1f\\xe3M*V+\\xf0U\\x956\\xc7\\xe9\\xea=?\\x85MR\\x18\\x93\\r\\xa9\\xb4\\xf5*3T+*\\xc2\\xab\\x07\\x99\\x9c\\xeej\\x94S\\'\\xb6\\x0e\\xf2 \\xf6\\xf7\\xa6\\x80W\\x9c&\\xe5\\'<\\x9aH\\n\\xbfkf\\'#\\nAZ\\x10\\x14>\\xdaq\\xb3>\\xa4%\\r\\\\U\\x10\\xdd\\x96\\x9aI<\\x82\\xeas\\xb0\\xef\\xaa[\\'d\\xabx\\xd9Y\\xe3`U\\xc6_\\xfb\\xfc\\xe9\\xf2\\xa1U\\x93\\x89\\xc1\\x99\\x8er\\x1c\\x0c\\xfdi\\x82,\\xc8\\x9b\\xecu%\\r\\xe8\\x92\\xdde\\xc7\\xbb\\xa3\\xaf\\xff\\x00\\xe5\\x9a\\xae>I\\x97\\x82\\x94P\\xa8\\x0b\\x86\\xa8EQ\\xb2\\xf0]\\xa3\\xc7/\\x98\\x9c\\xaf\\xb7\\xc5u\\xe3\\x8d#\\x9aogF\\x81}\\x19\\x1dG\\xf1\\xad\\x8c\\xc9\\xd4\\xe7\\xf1\\x15B\\x1cM1Y\\xee\\xa3\\xaf4\\x81\\t\\x9c\\x8fj\\x06 ?\\x97z\\x00}\\x00z\\x80\\x14\\n\\x00\\xf7J\\x00B\\xdf4\\x01\\xf2\\xae\\x84\\xa7#\\xde\\xb8!\\xb6vOH\\xd5\\xdb\\xf0\\xbc\\xf7?\\xcb\\xff\\x00u\\xd0\\xd1\\x82e\\x96]\\xe3\\x02\\xa3\\x81\\\\\\x88\\xda\\xd7p\"\\x9a\\x809\\x92X[,[\\xe6\\x90z#8Q\\xfb\\xcf\\xd8~\\x1dj\\\\F\\xa5z=:\\xb4\\x8cY\\xf9c\\xd7\\xdb\\xff\\x00U\\x12L\\xb4\\xc7[\\x8f\"\\x07\\x7f\\xf9\\x92\\r\\xaa}\\x97\\xb9\\xfcpG\\xd3\\xebB\\x8d n\\xcfF\\xd8\\xe0\\xf75.#L\\xb9l\\x15\\x03J\\xc0a9\\x00\\xf7=\\x87\\xf5\\xfc*x\\xf9\\x1f\"\\x0e\\x18d\\xf3\\xdc\\x9a\\\\G\\xc8\\xb2\\xc0\\x04U=\\xb6\\xe4|\\x9c\\xb7\\xfbSq\\xd0\\'\\xb2$\\x84;0\\xed\\xd6\\xb3\\xa2\\xac\\x82b\\xb9\\xe6\\x93\\x1a)H\\x15\\xa7 v\\xa42x\\x8e\\xc9W\\xe6\\x92C*^\\x95\\x86Fi\\x0fZ(,\\x8c\\x08\\xdfb\\x83\\x8c\\xd1B\\xbf\\x00\\x9dB\\xceT\\xb8[\\x88\\xb9\\xf5a\\x97\\xde\\xadK\\xc1-y-YL\\xccYO\\xdd=\\xa9t\\xc6\\xd1\\xe1\\x16\\xd9v\\xaeUh\\xb0,G\\x11B\\xaaO\\x1d3\\xfc\\xaa\\x9b$\\xb1kt\\xa9|\\x96\\xaf\\x9f\\xd7\\xeeE\\xf9\\xfd[\\xff\\x00]\\xb5\\xa6=\\x912\\xb4\\x17^k@a\\xfb\\xb2\\x01\\x9aQ\\x8d\\xb0n\\x91\\xd5|%\\x01\\x86\\xdds\\xdc\\n\\xee\\x8fG35\\xb11\\x1d*\\xd1$\\x80\\xe1\\xb1\\xd8\\xf3LC\\xb3LB\\x83@\\x0b\\x8e~\\xb4\\x86{\\x18?\\x14\\xc4(\\xf6\\xa41h\\x03\\xc0\\xe3\\x8e\\xd4\\x00\\xe2h\\x01\\xa4\\xf3@\\x1f*\\xf8}\\xc3\\xce\\x05qc[:\\xe6l\\x19B\\xaa\\xe3\\xae+\\xa4\\xe7$\\x81\\xb9\\xe6\\x80.\"\\x99\\n\\xaa\\x0c\\xb18\\x02\\x81\\x12L\\xa3pE9\\x8e<\\x85>\\xe7\\xbb~\\'\\xf8b\\x93C\\xb1\\xab\\x10\\x91\\x82\\xf4\\xcf\\xf0\\xa4\\xd0\\xd4\\x84\\x920\\xe7v0\\t8\\x1e\\xc0p\\x07\\xe5S\\xc4v1\\xed\\xfa\\x11I\\xc4\\xa5\"\\xc8\\xb7c\\x08\\x8f\\x1f\\xeao\\xa9\\xff\\x00a\\x8f\\xcc\\xd1\\xc09\\x14.\\x11\\xe2\\x04`\\xd48\\xd1I\\x92O#y\\xb3\\x01\\xd9\\xc6>\\x80\\xe3\\xf9b\\x8e6\\nC\\xd2M\\x91\\xb6:\\xe2\\xa1\\xc0\\xa5 -\\xed\\xd8\\x8eQ\\xb8\\xf3\\xd6\\xb3q-2\\x0b{\\xa1#3\\x03\\x93\\x9cT\\xf1\\x1d\\x96\\x1a\\xec,\\xa9\\x9c\\x0c\\x1aJ#\\xbf%mB\\xe69\\xee\\x02\\x86\\x18\\xc57\\x1a\\x04\\xcaws\\x05\\x84K\\t\\xfb\\x94%\\xe1\\x83g\\xb4\\xcd@]\\xbb\\x06\\xa6\\xe1B\\xb1\\xb7\\xd3\\x0bYK)\\xe3\\xda\\x97\\x11\\xd9f)\\x16\\xf2\\xcf\\xccF\\xc3\\xf5\\xc5\\x1cEg\\x84\\xa4\\xdb\\xe3q\\xde:SHL\\xf6\\x94V\\xee\\xfe\\t\\x1f\"H\\ta\\xf2O\\xa7\\xfa\\xd6\\x91\\xd3\\x13.h\\xf6B\\x05\\x8e3\\xc9\\\\\\x00i\\xad\\xb2_GY\\xd0A[T\\xe3\\xb5u\\xa3\\x9d\\x9a\\x18\\x8f\\x1f5\\xa2 \\x97\\xa8#\\xf2\\xa0\\x05^Fh\\x01\\xc0b\\x98\\x87\\xf5\\x18\\xa0,L\\xe4}h\\x067?\\x98\\xa0\\x07\\xe6\\x80=@\\xc5\\xa4\\x02\\x1e\\xb4\\x01\\xf2/\\x87\\xa6)v\\xb95\\xc1\\x07L\\xec\\x9a\\xb4n\\xa4\\x97tj~+\\xac\\xe6\\x1fjK\\x11@\\x83\\x16\\x83b\\xb3\\xf7</\\xf54\\x01ec\\x05)\\x81]\\x8e\\xc2\\xe4}??\\xec\\xd0\\x07\\x83d/\\xe3H\\x0bv\\xca\\x1d\\xc0n\\x9dM\\x14\\x16\\x11\\x82\\x10If\\xeay\\xa7Ad\\x17\\x96*\\xf9 |\\xd2q\\x1atW6\\x1f\\xf1\\x0eH\\xe0\\xb1\\xcf\\xe7K\\x88r\"\\xb9\\xb11\\x86=\\xe98\\x8dH\\xe7^+v\\xb7\\xbb\\x189\\'\\xb5c$\\x91\\xbc]\\x95\\xb4\\xdb\\xbf&\\x06,}g\\xb5CVU\\x95\\xb5\\r]E\\xc1\\x86#\\x97#4F5\\xb17\\xe1\\t\\x14\\x92y\\x8b#\\x928\\xc1\\xa9\\x94\\x97E\\xc6%\\xfbP\\xf2\\xd9\\xcc\\x9c\\xf1\\x92\\x0f\\xc5f\\xd9IQR\\xce9-V)\\x14\\x11\\x97\\xf5SR\\x13Z\\xd0J\\xf6/6b\\x19}$SlI\\x12\\xc5jm ,\\x84\\xe3\\xae*T\\x984I`\\xbexos\\xcdY!k+a\\x14\\x89 NZE\\x07\\xe8\\x0eI\\xfe_\\xc6\\x9a\\x11b\\xcf\\rq\\x08Rrq\\x9a\\xac{d\\xcfH\\xeb:\"\\x01k\\x18#\\xb5v\\xa3\\x99\\x86#Z\\xa1\\nF\\x08\\xa0\\x05R\\x03}i\\x88\\x7f\\x14\\x00\\x84\\xd0\\x03w\\n\\x00\\xf6E\\x00*\\x9a\\x00\\\\\\xd0\\x03\\x81\\xa0\\x0f\\x13\\xf3@\\xcf\\x8c\\xf4\\xeb\\x8d\\x97I\\xc8\\xeb^j\\xec\\xee\\x96\\xce\\x89f\\xdem\\xaa\\x1c\\xf3]qv\\x8eY*e\\xbb`U\\xc0\\x03$\\x9e*\\x89\\t\\xf9\\xa0\\x15Px\\x1d?\\xbf\\xe3\\xf8\\xd0\\x05\\xa8\\xa6\\xc8\\xc50\\x19)\\x05~\\xa4\\x9a\\x04D\\x08\\x06\\x81\\x96\\xed\\xa6UR}\\xce\\xdf\\xea\\x7f\\xa5\\x00\\x17\\xb7\\x95J\\xf0j\\x90\\x89\\x19\\xc5\\x02\\x19\\xbcn\\xc9\\xef\\xcd\\x03#\\xbe\\x95L\\x07\\xa6{R`\\x8ee\\xe2\\xcbL\\t.\\x1f\\xafj\\xe6\\x92\\xb6tA\\xd20\\xfes\\xa4l\\xf9%\\x8fJ\\x87*5Q\\xb2o\\x0f\\xday\\xd7\\xc6y\\xf9\\n;\\xd6R\\x9bz-F\\x8d\\x1c\\xb1\\xc6\\xe8\\xc4\\x0fH\\xf6\\xacl\\xd1*.\\xd8:\\xa5\\xa6\\xe6\\x18\\xcei\\xa2\\x18\\xad\\xb5\\xf4\\xe9\\x19W\\xa7\"\\xa9D\\x96\\xc5\\xb5\\x9dZ\\x08\\xcc\\x9dH\\xa6\\xd0\\xac\\xb0\\xd3\\xab$c\\xaa\\x9a|Ed\\xb0D\\x8b(\\x11p\\xe7\\xfb\\xcd4&J\\xba\\x98Y%P2\\xb1\\xa6\\x17\\xe7<\\x03\\xf8\\x92j\\xe8\\x9b/xi\\x1a\\xe7QW\\xc7\\x1d\\xaa\\xf1\\xaadI\\x9d\\x9bNL@\\x80\\x8e\\xdd\\xab\\xb1\\x182\\xf8\\x18\\x14\\xc9<\\xc3\\x83@\\xc6\\xb0\\xe2\\x98\\x86\\xfc\\xd0\\x03I\\xa0b\\x03@\\x1e&\\x80\\x1c\\x87\\x9a\\x04\\xc9i\\x80\\x9d(\\x01\\xa5\\xa8\\x03\\xe2;Y\\x0f\\x98\\xa4\\x9e\\x95\\xe73\\xb8\\xe8\\xda\\r\\xea\\xbd\\xba\\xaey\\xc5m\\x8d\\xe8\\xc7\"\\x0fZ\\xc8\\t\\'?t\\x7f\\x1a\\xd4\\xc8\\x9d\\x1f\\x92M\\x00L\\xb2\\xed\\xa0\\x05\\x96oB\\xfe4\\x01\\x07\\x9aOJ\\x00\\x93\\xcd  \\xef\\xb7?\\x9f\\xf6(\\x02\\xdd\\xbd\\xd3\\'zi\\x80F;\\xb5n\\xa6\\x9ab\\xa1\\xcf!\\xc7\\x07\\xe9@\\x11\\xee-\\xf7\\xa902\\xfe(\\xb6{\\xb4(\\x83\\x8a\\xca_cX\\x1c\\xf3P\\xb46\\xaf\\xb1\\x97\\x9a\\xe5\\x9agT\\x1a.\\xe9\\xff\\x00\\xa9\\xb6+\\xfboY3K.\\xea\\x12\\x8bk$T\\x19v\\xa9\\xad\\x8f\\xb1%\\x94\\xc7\\xa6&\\xf3\\x8c\\xf5\\xad(\\xcf\\xce\\xcb6\\x17q\\xac\\x08\\x8eF\\xd2:\\xfb\\xd5\\xa4\\xc8lm\\xa4\\xf1\\xc8\\xf2D\\xc4\\x00\\xa7*~)\\xf1\\xa1Y\\xe9f\\xfb-\\xd7\\x96\\x18\\x14<\\xaf\\xc5*\\xb4\\x1eK\\xf2J\\xe6 c\\x1f|`\\x91\\xed\\xedB\\x07\\xd8\\xf5\\x89c\\x89L\\x87\\xd6\\xc4H\\xdfLz\\x7f\\x99?\\x88\\xa6\\xde\\x85\\xe4;\\xe1I\\xd5\\xaf\\x94/J\\xdb\\x0ffY\\x0e\\xbd\\xa7\\xcd\\xe8Pk\\xad\\x186\\x13V\\xc8\\xa0C\\xfa\\xd01\\x9d\\xbf\\nb\\x10s\\x9a\\x00k%\\x003n(\\x19\\xecP\\x02\\x81\\x8a\\x00q$u\\xa6!\\xa5\\xa8\\x01\\xb4\\x0c\\xf8ub\\xbb\\x85<\\xd9m\\xe5D\\xfd\\xe2+\\x86Q\\xd1\\xd7\\x19+\\n\\xe9Z\\xabB\\xeb\\xb1\\xf2;RN\\x86\\xd2h\\xdei\\xba\\x98\\x92\\xd5\\t8g\\xf5~\\x03\\x8f\\xf7\\xad\\xd4\\xac\\xc2Q\\xa0\\x9cw`\\x81\\x93Ud\\xd1 \\xb8\\xdcz\\xd2\\xb0\\xa2l\\xb1U\\xfch\\xb1\\xd0\\xe0\\t\\x1f4X\\x137\\xf9\\x8d\\xf5\\xc7\\xe5\\xc5+\\n\\x1e\\x99\\xa2\\xc2\\x89\\xd0\\x9e)\\xd8\\xa8\\xb3\\x13\\xb0\\xefN\\xc5D\\xea\\xdb\\x8d\\x00Et\\x8a\\xb17\\x19&\\x93\\xd0\\xd7f\\x07Z\\xb5\\xff\\x00\\x8a2\\xcb\\x80\\xa2\\xb9&\\x99\\xd5\\x06\\x05I\\x83N6t\\xcdd\\xd1\\xaa,\\xdc\\xb8f\\xdc\\xf8\\xda\\x82\\xa7\\x8d\\xb2\\xae\\x91\\x9d\\xf1\\x16\\xb0V\\xdfd]\\xc6\\x05uF\\x08\\xe6\\x94\\xbe\\n\\xf2_\\xcc\\xb61\\xe3$\\xaa\\xe7\\x8f\\xa5U+\\'t%\\xad\\xdd\\xd0\\x86\\x19\\xf2rq\\x90>\\x94\\xad\\x0e\\x9d\\x16\\xf5\\x17\\xba\\x924\\x9a\\'%\\x94\\x0c\\x8a\\x84\\xd2t\\xcai\\xf6\\x82:F\\xa3rm\\x18L\\xacc\\x8b\\x0c\\xdf\\xea=\\x94|\\x9f\\xe5\\x93\\xda\\x9d&\\xec[\\xa2\\xcf\\xf8\\x9d\\xe4\\xfe\\xa6]\\xcc\\xdc\\x9c{\\x9a\\x96\\x90\\xcd\\x8f\\x80\\xe3\\x95nU\\xe4\\x18,s\\x8a\\xd3\\x14\\xb7DdZ\\xb3\\xb3Z\\x1f\\xd5/\\xbe+\\xb1\\x1c\\xcc\\xbd\\x0c\\xe4\\x1c\\x1ab.\\xa4\\x80\\x8e\\xb4\\x00\\xd6n(\\x01\\xa1\\xbd\\\\\\xd02@\\xd4\\x08\\xf1\\xe9@\\x08q@\\r\\xce(\\n\\x1a\\xcd@\\xc6\\x13@\\x1e\\xddH\\x0e\\x1f\\xa9\\xe9\\x16\\xf2\\xdb\\xbc&%\\xdaz\\x8cV&\\x86!\\xfc\\x0bl\\x1c\\x98w\\xa6\\x0f\\x185-\\x14\\x9bE\\xd4\\xd0\\xa7\\xb6\\x19\\x89\\xc9\\n\\xa0(>\\xc0P\\x95\\x03v,&d\\xe2E#\\x15B\\t\\xd9\\xb6z\\xd2\\x18QO\\x14\\x08\\x923\\x96Q\\xeeE\\x02\\x1c\\x0eN}\\xf9\\xa0e\\x88\\xc0\\xc54\"e\\xc1\\xe9@\\x12\\x8ab%\\x88\\xe2\\x98\\x89\\x1c\\x07\\x1c\\xf3@\\x18\\xff\\x00\\x17\\xa2\\xa4\\x0c\\xc7\\xb5s\\xe4F\\xf8\\xd9\\x82\\xfbZB\\x9b\\x8f\\xde\\'\\x8a\\xcf\\x85\\x9a\\xf3\\xa2\\xbe\\xb1\\xa8\\x88lT\\x16\\xc1~\\xbc\\xf6\\xab\\x8c6L\\xa7\\xa39{(\\xb9\\x9a%S\\xcf\\x1c~\\x15\\xa1\\x9d\\x87\\xed\\xd6?\\xb3\\xc9\\xd1\\x88\\\\b\\xb2\\x95\\x9aG\\xc9w@\\x0b$DJ\\xa0m\\x07\\x83Y\\xc9\\x96\\x90V%\\x84O\\x1a\\xa8\\x04\\xb1\\xc0Q\\xde\\x95\\xde\\x83\\xa0\\xbcV\\xd0;\\xacAG\\x949\\xc8\\x1fy\\xbb\\xb7\\xf4\\x1f\\x02\\xa5\\xca\\xba\\x1d|\\x97\\x05\\x9c0\\x85EL\\xe7\\xa1\\x14\\xb96*\\xad\\x1a\\x1d\\x01DW\\x08\\x0f\\x06\\xb6\\xc1\\xd9\\x9e]#\\xa2Z\\xdc\\x12\\x8a\\x05w\\xa3\\x91\\x97\\x91\\x98\\xf5\\xaa\\x11j\\'`>(\\x02A/L\\xd1Ac\\xf7\\x83\\x8cP\\x16.\\xea\\x06(z\\x00Rh\\x10\\xc2\\xd4\\x01\\xe0\\xa4\\xd0\\x02\\x85\\xa0\\x05\\xda>(\\x03\\x94\\xdd\\xa6\\xe2p+\\x16h\\x81\\x860\\x18\\xe6\\x95\\x14\\x862\\x821\\x8c\\x8a@@\\xf6\\xd1\\xb0$\\x81\\x9a\\x00\\xab\\xf6@\\x99(h\\x01\\x15\\x9cq\\x83LE\\x88_\\x0e\\x9fQ@\\x0eG\\xc5\\x00X\\x8d\\xf3@\\x16c<P\\x04\\xa1\\xa9\\x89\\xb1\\xca\\xf4\\x08\\x95d\\xe3\\x9a`\\n\\xd6\\xb4\\xf5\\xbd\\x8d\\x95\\xf9_j\\x97\\x1b):8\\xcf\\x8d\\niW\\xdb\\x01\\xe1y\\x02\\x97\\x12\\xb9\\x18mKV\\x96\\xf3n7\\x11\\x9c\\x01Z(\\xa4C\\x93a]\\x12\\xd2\\xe6\\xee\\xe16\\x02X\\xf7\\xf6\\xacg8\\xa3X\\xc1\\xb3q\\xa4\\xf8zQ\\x14\\x80\\xb9.:\\x9a\\xe5\\x9e^GLq\\xf1\\x0e[\\xe9#\\xec\\xc4\\x06\\xc3\\x9e\\xe2\\xb3R*H|VJ\\x96\\xe4\\x1c\\t\\xbag\\xdb\\xdf\\x1fZ9lM\\x05#P\\xa8\\x81\\xb1\\xbb\\x1dE \\x1c\\x97{$\\xf2\\x9b\\x04\\xf6\\xa0A\\xef\\x0f;Kz\\x9ea\\xae\\x9fO\\xd9\\x8en\\xb6t\\xcb(p\\x8ak\\xb9\\x1c\\xa1HTm\\xe9LD\\xc1F(\\x01vf\\x98\\xa8_,P\\x14{i\\xa0\\x0f\\x00E\\x00/\\'\\x8a\\x00pZ\\x06;\\x14\\x00\\x98\\xa0\\x0f\\x11@\\x1c\\xb6\\xe1O5\\x89`\\xab\\x85;\\x8e:R\\x1a!\\x07\\x14\\x86{i4\\x01\\xe1\\x1f\\xb8\\xa4\\x02\\x18\\x07\\xb5\\x03\\xa1\\xad\\x08\\x1d\\x05;\\x15\\x10\\xb2\\xe1\\x8e(\\xb0\\xa1Cm\\xa6\"t\\xb8\\x02\\x98\\x89|\\xe0z\\x1a\\x04=d\\xa6\\x04\\xaa\\xf4\\x00\\xae\\xf9F\\xa0\\x0e+\\xfaC\\xd1e\\xbb\\xd4d\\x9d\\xf3\\xb0p=\\x85K\\x95\\x17\\x14\\x9f`}\\x1b\\xc2\\xc2DB\\xcb\\xc6k\\x97&vuC\\x12\\xec\\xddYi\\xf0iV\\xf9D\\x05\\xf1\\x8a\\xe5s\\xbd\\xb3\\xa1G\\xe0)\\xa6F\\xd1\\xda\\xcb,\\xa7\\x0c\\xfc\\xe2\\x84\\xc9hd\\xaa\\xc9\\x1221\\xc1\\xff\\x00zh\\x96=c\\xdf\\xb6`r\\x9d\\x08\\xa6\\xc4H\\xca\\x91\\x9cn\\'\\xb8\\xa9\\xb6\\x14\\x13\\xb7\\x82\\xde\\xe4\\xab\\x15\\xf5\\x8aV:A\\xbd\\x06\\xd1c\\xbf^{\\xd7W\\xa7~\\xe3\\x1c\\xcbGM\\xb3_B\\xfd+\\xd0G\\x19yp\\x00\\xa6!\\xeay\\xa0\\x07\\x03@\\x0e\\xa0\\x04\\xa6\\x03\\xd4\\x03@\\x1e\\xda\\x01\\xa0\\x05\\xa4\\x02f\\x98\\x87\\x01@\\xc5\\xc7\\xc5\\x029\\x85\\xcc}k\"\\xc1\\x93E\\xc9\\xe2\\x90\\xd1U\\xe3\\xc1\\xe9\\x9aC\\x10.(\\xa1\\x8fP\\x08\\xa4!J\\xe0P27\\x1cP2\\x1d\\xbc\\xf4\\xa4\\x03\\x1d\\x01\\x06\\x80\"\\t\\x8a\\x04 S\\x9e\\r;\\n$\\x0e\\xcbN\\xc5B\\xc7p\\xc4\\xe2\\x9d\\x8a\\x84{\\xc6S\\x8a,(\\x13\\xacE\\x1d\\xec\\x042\\x8a\\xcf#\\xd1\\xa44\\xf6\\n\\xb3\\x81a\\x18\\x03\\x85\\xae\\t\\xa3\\xb6\\x0e\\xc9\\xfc\\xa1+\\x96n@\\xedX>\\xcd\\x93\\x16y\\xdb\\xca1\\x8e\\xa6\\xad=\\x10\\xd1UC\\xed\\x0b\\xe6p;\\x13T\\x9e\\xa8\\x96Y\\xd3\\xb2\\x14\\xa9\\x7f\\xbcz\\x1a\\x1b\\xd0\\xa8\\xb4B6\\t\\x18u<\\xd2\\xb6\\x05\\xc8[k\\x06PG\\xc8\\xa1\\x01\\xa4\\xf0\\xd4\\xa2{\\xe5\\x1dy\\xae\\x9fN\\xbd\\xc6\\x19\\x9e\\x8e\\x9dn\\x81Pc\\xda\\xbd\\x14q2l\\xd3\\x10\\xe54\\x02\\x1e\\x0f4\\x0c}\\x00&y\\xa0\\x07\\x06\\xc0\\xa6!wf\\x81\\x8b\\xcd\\x00 \\xa0\\t\\x10P!h\\x03\\x9d\\xcc\\x83\\x15\\x91e\\x19\\xa3\\x06\\x81\\xd1JX\\x85 \\xb2\\xa3\\xa6h\\x18\\xdeA\\xeb@\\t\\xbc\\xe7\\x9aT\\x021\\xcd\\x144B\\xc6\\x90\\r\\'\\x02\\x80\\x1b\\x90M\\x14\\x02\\x8cP\\x07\\x99r(\\x01\\xa8\\xa1Fi\\x0c\\xab8\\xf5P\\x05vPF\\x05&4P\\xb9]\\x80\\x01\\xde\\xb8\\xf2GgT\\x18\\xa8|\\xa4m\\xbdk\\x98\\xdd;!\\x1e\\xa7\\x0c{\\x8a\\x13\\xd9OE\\'\\x80\\xc8\\xe4\\x06#\\x07\\x8a\\xbb3\\xa1\\xb6\\xe9*\\xcad\\x0e0\\x0f \\xf7\\xaa\\xf0Hz\\xc6Uw\\xe5{sQ\\xd0\\x04c\\x8drGL\\xd1c\\xa0\\xcf\\x84-\\xccZ\\xb6C\\xe5I\\xe8k\\xbb\\xd2\\xa3\\x979\\xd4\\x94\\xfaEw#\\x91\\xa3\\xdb\\xb9\\xa6\"U<P\\x16=M \\x1e\\x0f\\x14\\x0c\\xf0\\xe9@\\x0b\\x9a\\x00r\\xf1L\\t8\\xa0G\\xb8\\xa0,Ph\\x06.G\\xcd0?\\xff\\xd9'}"
            ]
          },
          "metadata": {
            "tags": []
          },
          "execution_count": 42
        }
      ]
    },
    {
      "cell_type": "code",
      "metadata": {
        "id": "tSjvbK6HTq2m",
        "outputId": "34558758-c473-469c-e009-110b7367da7d",
        "colab": {
          "base_uri": "https://localhost:8080/",
          "height": 298
        }
      },
      "source": [
        "img = load_img('cat.jpg')\n",
        "img_array = img_to_array(img)\n",
        "img_resized, _ = resize_image(img_array, _)\n",
        "img_expended = np.expand_dims(img_resized, axis=0)\n",
        "prediction = model.predict(img_expended)[0][0]\n",
        "pred_label = 'КОТ' if prediction < 0.5 else 'СОБАКА'\n",
        "plt.figure()\n",
        "plt.imshow(img)\n",
        "plt.title(f'{pred_label} {prediction}')"
      ],
      "execution_count": 43,
      "outputs": [
        {
          "output_type": "execute_result",
          "data": {
            "text/plain": [
              "Text(0.5, 1.0, 'КОТ -8.936007499694824')"
            ]
          },
          "metadata": {
            "tags": []
          },
          "execution_count": 43
        },
        {
          "output_type": "display_data",
          "data": {
            "image/png": "[encoded data removed]",
            "text/plain": [
              "<Figure size 432x288 with 1 Axes>"
            ]
          },
          "metadata": {
            "tags": [],
            "needs_background": "light"
          }
        }
      ]
    }
  ]
}